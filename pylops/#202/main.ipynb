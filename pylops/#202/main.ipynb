{
 "cells": [
  {
   "cell_type": "code",
   "execution_count": 16,
   "metadata": {
    "Collapsed": "false"
   },
   "outputs": [],
   "source": [
    "import numpy as np\n",
    "import matplotlib.pyplot as plt\n",
    "\n",
    "from mpl_toolkits.axes_grid1 import make_axes_locatable\n",
    "\n",
    "from scipy.sparse import linalg\n",
    "\n",
    "import pylops"
   ]
  },
  {
   "cell_type": "markdown",
   "metadata": {
    "Collapsed": "false"
   },
   "source": [
    "# Description of the matrix approach "
   ]
  },
  {
   "cell_type": "markdown",
   "metadata": {
    "Collapsed": "false"
   },
   "source": [
    "For real data we have"
   ]
  },
  {
   "cell_type": "markdown",
   "metadata": {
    "Collapsed": "false"
   },
   "source": [
    "$\\left[ \\tilde{f}^T \\tilde{f} + R^T T \\right] x = \\tilde{f}^T y$"
   ]
  },
  {
   "cell_type": "markdown",
   "metadata": {
    "Collapsed": "false"
   },
   "source": [
    "where $\\tilde{f} = D f$ is a real matrix of shape ($n_p$, $n_s$). $f$ is a real matrix of shape ($n_p$, $n_s$) and $D$ is the convolution which is a real matrix of shape ($n_p$, $n_p$)."
   ]
  },
  {
   "cell_type": "markdown",
   "metadata": {
    "Collapsed": "false"
   },
   "source": [
    "For complex data we instead "
   ]
  },
  {
   "cell_type": "markdown",
   "metadata": {
    "Collapsed": "false"
   },
   "source": [
    "$\\left[ \\tilde{f_{\\Re}}^T \\tilde{f_{\\Re}} + \\tilde{f_{\\Im}}^T \\tilde{f_{\\Im}} \\right] x = \\tilde{f_{\\Re}}^T y_{\\Re} + \\tilde{f_{\\Im}}^T y_{\\Im}$"
   ]
  },
  {
   "cell_type": "markdown",
   "metadata": {
    "Collapsed": "false"
   },
   "source": [
    "where $\\tilde{f} = D f$ is a compex matrix of shape ($n_v$, $n_s$). $f$ is a real matrix of shape ($n_p$, $n_s$) and $D$ is the non-uniform fast fourier transform (NUFFT) which is a complex matrix of shape ($n_v$, $n_p$)."
   ]
  },
  {
   "cell_type": "markdown",
   "metadata": {
    "Collapsed": "false"
   },
   "source": [
    "$ (\\tilde{f_{\\Re}}^T \\tilde{f_{\\Re}})^{-1} \\tilde{f_{\\Re}}^T y_{\\Re} \\ne (\\tilde{f_{\\Im}}^T \\tilde{f_{\\Im}})^{-1} \\tilde{f_{\\Im}}^T y_{\\Im}$"
   ]
  },
  {
   "cell_type": "markdown",
   "metadata": {
    "Collapsed": "false"
   },
   "source": [
    "In our matrix approach, regularization is applied after we sum the real and imag components"
   ]
  },
  {
   "cell_type": "markdown",
   "metadata": {
    "Collapsed": "false"
   },
   "source": [
    "$\\left[ \\left(\\tilde{f_{\\Re}}^T \\tilde{f_{\\Re}} + \\tilde{f_{\\Im}}^T \\tilde{f_{\\Im}} \\right) + R^T R \\right] x = \\tilde{f_{\\Re}}^T y_{\\Re} + \\tilde{f_{\\Im}}^T y_{\\Im}$"
   ]
  },
  {
   "cell_type": "markdown",
   "metadata": {
    "Collapsed": "false"
   },
   "source": [
    "To summarize, in our matrix approach, the solution $x$ is always real as the matrix inversion is performed with \"real\" matrices, which have been constructed from the sum of the real and imag compponents of a originaly complex matrix."
   ]
  },
  {
   "cell_type": "markdown",
   "metadata": {
    "Collapsed": "false"
   },
   "source": [
    "| Object | Dimension | Description |\n",
    "|------|------|------|\n",
    "|   $n_v$  | - | # of visibilities |\n",
    "|   $n_p$  | - | # of image-plane pixels |\n",
    "|   $n_s$  | - | # of source-plane pixels |"
   ]
  },
  {
   "cell_type": "markdown",
   "metadata": {
    "Collapsed": "false"
   },
   "source": [
    "# Pylops "
   ]
  },
  {
   "cell_type": "code",
   "execution_count": 13,
   "metadata": {
    "Collapsed": "false"
   },
   "outputs": [],
   "source": [
    "def NormalEquationsInversion_method_1(\n",
    "    Op_real, \n",
    "    Op_imag, \n",
    "    data_real, \n",
    "    data_imag, \n",
    "    returninfo=False, \n",
    "    **kwargs_cg\n",
    "):\n",
    "\n",
    "    OpH_real = Op_real.H\n",
    "    OpH_imag = Op_imag.H\n",
    "\n",
    "    Op_normal_real = OpH_real * Op_real\n",
    "    Op_normal_imag = OpH_imag * Op_imag\n",
    "    Op_normal = (Op_normal_real + Op_normal_imag)\n",
    "\n",
    "    y_normal_real = OpH_real * data_real\n",
    "    y_normal_imag = OpH_imag * data_imag\n",
    "    y_normal = y_normal_real + y_normal_imag\n",
    "\n",
    "    xinv, istop = linalg.cg(Op_normal, y_normal, **kwargs_cg)\n",
    "\n",
    "    if returninfo:\n",
    "        return xinv, istop\n",
    "    else:\n",
    "        return xinv\n",
    "    \n",
    "def NormalEquationsInversion_method_2(\n",
    "    Op, \n",
    "    data, \n",
    "    returninfo=False, \n",
    "    **kwargs_cg\n",
    "):\n",
    "\n",
    "    OpH = Op.H\n",
    "\n",
    "    Op_normal = OpH * Op\n",
    "\n",
    "    y_normal = OpH * data\n",
    "\n",
    "    xinv, istop = linalg.cg(Op_normal, y_normal, **kwargs_cg)\n",
    "\n",
    "    if returninfo:\n",
    "        return xinv, istop\n",
    "    else:\n",
    "        return xinv"
   ]
  },
  {
   "cell_type": "markdown",
   "metadata": {
    "Collapsed": "false"
   },
   "source": [
    "# Tools"
   ]
  },
  {
   "cell_type": "code",
   "execution_count": 14,
   "metadata": {
    "Collapsed": "false"
   },
   "outputs": [],
   "source": [
    "def a_complex_from_a_real_and_a_imag(\n",
    "    a_real, \n",
    "    a_imag\n",
    "):\n",
    "    # convert a numpy array of shape (n, 2) to a complex array of shape (n, )\n",
    "\n",
    "    a_complex = np.stack(\n",
    "        arrays=(a_real, a_imag), axis=-1\n",
    "    )\n",
    "\n",
    "    a_complex = np.apply_along_axis(\n",
    "        lambda args: [complex(*args)], len(a_complex.shape) - 1, a_complex\n",
    "    ).astype(\"complex128\")\n",
    "\n",
    "    return np.squeeze(a_complex)"
   ]
  },
  {
   "cell_type": "markdown",
   "metadata": {
    "Collapsed": "false"
   },
   "source": [
    "## visualization"
   ]
  },
  {
   "cell_type": "code",
   "execution_count": null,
   "metadata": {
    "Collapsed": "false"
   },
   "outputs": [],
   "source": [
    "def add_colorbar_to_axes(figure, im, axes):\n",
    "\n",
    "    cax = make_axes_locatable(\n",
    "        axes\n",
    "    ).append_axes('right', size='5%', pad=0.05)\n",
    "\n",
    "    figure.colorbar(\n",
    "        im,\n",
    "        cax=cax,\n",
    "        orientation='vertical'\n",
    "    )"
   ]
  },
  {
   "cell_type": "markdown",
   "metadata": {
    "Collapsed": "false"
   },
   "source": [
    "# Example"
   ]
  },
  {
   "cell_type": "code",
   "execution_count": 15,
   "metadata": {
    "Collapsed": "false"
   },
   "outputs": [
    {
     "data": {
      "image/png": "[encoded data removed]",
      "text/plain": [
       "<Figure size 432x288 with 1 Axes>"
      ]
     },
     "metadata": {
      "needs_background": "light"
     },
     "output_type": "display_data"
    }
   ],
   "source": [
    "N_vis = 100\n",
    "N_grid = 400\n",
    "N_src = 20\n",
    "\n",
    "#f_real = np.random.normal(0.0, 1.0, size=(N_grid, N_src))\n",
    "#f_imag = np.random.normal(0.0, 1.0, size=(N_grid, N_src))\n",
    "\n",
    "f_fft_real = np.random.normal(0.0, 1.0, size=(N_vis, N_src))\n",
    "f_fft_imag = np.random.normal(0.0, 1.0, size=(N_vis, N_src))\n",
    "\n",
    "F_real = np.dot(f_fft_real.T, f_fft_real)\n",
    "F_imag = np.dot(f_fft_imag.T, f_fft_imag)\n",
    "\n",
    "d_real = np.random.normal(0.0, 1.0, size=(N_vis, ))\n",
    "d_imag = np.random.normal(0.0, 1.0, size=(N_vis, ))\n",
    "\n",
    "D_real = np.dot(f_fft_real.T, d_real)\n",
    "D_imag = np.dot(f_fft_imag.T, d_imag)\n",
    "\n",
    "# NOTE: This is the linear system Ax = y we are solving in our matrix approach.\n",
    "x = np.linalg.solve(\n",
    "    F_real + F_imag, \n",
    "    D_real + D_imag\n",
    ")\n",
    "\n",
    "# NOTE: For real problems D_real != D_imag & F_real != F_imag, therefore there is not\n",
    "# a single \"real\" vector x that satisfies both. \n",
    "# NOTE: This is in respose to https://github.com/PyLops/pylops_notebooks/blob/master/developement/ComplexMatmul.ipynb\n",
    "x_real = np.linalg.solve(F_real, D_real)\n",
    "x_imag = np.linalg.solve(F_imag, D_imag)\n",
    "\n",
    "# NOTE: Method 1\n",
    "f_fft_real_lops = pylops.MatrixMult(f_fft_real, dtype='float64')\n",
    "f_fft_imag_lops = pylops.MatrixMult(f_fft_imag, dtype='float64')\n",
    "\n",
    "x_lops_method_1 = NormalEquationsInversion_method_1(\n",
    "    Op_real=f_fft_real_lops,\n",
    "    Op_imag=f_fft_imag_lops,\n",
    "    data_real=d_real,\n",
    "    data_imag=d_imag\n",
    ")\n",
    "\n",
    "# NOTE: Method 2\n",
    "f_fft_complex = a_complex_from_a_real_and_a_imag(\n",
    "    a_real=f_fft_real, \n",
    "    a_imag=f_fft_imag\n",
    ")\n",
    "f_fft_complex_lops = pylops.MatrixMult(\n",
    "    f_fft_complex, dtype=\"complex128\"\n",
    ")\n",
    "\n",
    "d_complex = a_complex_from_a_real_and_a_imag(\n",
    "    a_real=d_real, a_imag=d_imag\n",
    ")\n",
    "\n",
    "x_lops_method_2 = NormalEquationsInversion_method_2(\n",
    "    Op=f_fft_complex_lops,\n",
    "    data=d_complex\n",
    ")\n",
    "\n",
    "plt.figure()\n",
    "plt.plot(x, x_lops_method_1, linestyle=\"None\", marker=\"o\", color=\"black\")\n",
    "plt.plot(x, x_lops_method_2.real, linestyle=\"None\", marker=\"o\", color=\"b\")\n",
    "plt.plot(x, x_lops_method_2.imag, linestyle=\"None\", marker=\"o\", color=\"r\")\n",
    "#plt.plot(x_real, x_lops_method_2.real, linestyle=\"None\", marker=\"s\", color=\"b\")\n",
    "#plt.plot(x_imag, x_lops_method_2.imag, linestyle=\"None\", marker=\"s\", color=\"r\")\n",
    "x_min = np.min(x)\n",
    "x_max = np.max(x)\n",
    "plt.plot(\n",
    "    np.linspace(x_min, x_max, 10),\n",
    "    np.linspace(x_min, x_max, 10),\n",
    "    linestyle=\"--\",\n",
    "    color=\"black\"\n",
    ")\n",
    "plt.show()"
   ]
  },
  {
   "cell_type": "code",
   "execution_count": null,
   "metadata": {
    "Collapsed": "false"
   },
   "outputs": [],
   "source": []
  },
  {
   "cell_type": "code",
   "execution_count": 23,
   "metadata": {
    "Collapsed": "false"
   },
   "outputs": [
    {
     "data": {
      "image/png": "[encoded data removed]",
      "text/plain": [
       "<Figure size 576x864 with 12 Axes>"
      ]
     },
     "metadata": {
      "needs_background": "light"
     },
     "output_type": "display_data"
    }
   ],
   "source": [
    "prod_f_fft_complex_H = np.dot(\n",
    "    f_fft_complex.conj().T, \n",
    "    f_fft_complex\n",
    ")\n",
    "prod_f_fft_complex_T = np.dot(\n",
    "    f_fft_complex.T, \n",
    "    f_fft_complex\n",
    ")\n",
    "\n",
    "figure, axes = plt.subplots(\n",
    "    nrows=3, ncols=2, figsize=(8, 12)\n",
    ")\n",
    "\n",
    "im00 = axes[0, 0].imshow(prod_f_fft_complex_H.real)\n",
    "im01 = axes[0, 1].imshow(prod_f_fft_complex_H.imag)\n",
    "im10 = axes[1, 0].imshow(np.dot(f_fft_real.conj().T, f_fft_real))\n",
    "im11 = axes[1, 1].imshow(np.dot(f_fft_imag.conj().T, f_fft_imag))\n",
    "im20 = axes[2, 0].imshow(prod_f_fft_complex_T.real)\n",
    "im21 = axes[2, 1].imshow(prod_f_fft_complex_T.imag)\n",
    "\n",
    "add_colorbar_to_axes(figure=figure, im=im00, axes=axes[0, 0])\n",
    "add_colorbar_to_axes(figure=figure, im=im01, axes=axes[0, 1])\n",
    "add_colorbar_to_axes(figure=figure, im=im10, axes=axes[1, 0])\n",
    "add_colorbar_to_axes(figure=figure, im=im11, axes=axes[1, 1])\n",
    "add_colorbar_to_axes(figure=figure, im=im20, axes=axes[2, 0])\n",
    "add_colorbar_to_axes(figure=figure, im=im21, axes=axes[2, 1])\n",
    "\n",
    "for i in range(axes.shape[0]):\n",
    "    for j in range(axes.shape[1]):\n",
    "        axes[i, j].set_xticks([])\n",
    "        axes[i, j].set_yticks([])\n",
    "\n",
    "axes[0, 0].title.set_text(r\"$\\left( \\tilde{f}^{\\, H} \\tilde{f} \\right)_{\\Re}$\")\n",
    "axes[0, 1].title.set_text(r\"$\\left( \\tilde{f}^{\\, H} \\tilde{f} \\right)_{\\Im}$\")\n",
    "axes[1, 0].title.set_text(r\"$\\tilde{f}_{\\Re}^{\\, H} \\tilde{f}_{\\Re} \\equiv \\tilde{f}_{\\Re}^{\\, T} \\tilde{f}_{\\Re}$\")\n",
    "axes[1, 1].title.set_text(r\"$\\tilde{f}_{\\Im}^{\\, H} \\tilde{f}_{\\Im} \\equiv \\tilde{f}_{\\Im}^{\\, T} \\tilde{f}_{\\Im}$\")\n",
    "axes[2, 0].title.set_text(r\"$\\left( \\tilde{f}^{\\, T} \\tilde{f} \\right)_{\\Re}$\")\n",
    "axes[2, 1].title.set_text(r\"$\\left( \\tilde{f}^{\\, T} \\tilde{f} \\right)_{\\Im}$\")\n",
    "\n",
    "plt.show()"
   ]
  },
  {
   "cell_type": "code",
   "execution_count": null,
   "metadata": {
    "Collapsed": "false"
   },
   "outputs": [],
   "source": []
  }
 ],
 "metadata": {
  "kernelspec": {
   "display_name": "Python 3",
   "language": "python",
   "name": "python3"
  },
  "language_info": {
   "codemirror_mode": {
    "name": "ipython",
    "version": 3
   },
   "file_extension": ".py",
   "mimetype": "text/x-python",
   "name": "python",
   "nbconvert_exporter": "python",
   "pygments_lexer": "ipython3",
   "version": "3.7.4"
  }
 },
 "nbformat": 4,
 "nbformat_minor": 4
}
