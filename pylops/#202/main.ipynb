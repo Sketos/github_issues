{
 "cells": [
  {
   "cell_type": "code",
   "execution_count": 1,
   "metadata": {
    "Collapsed": "false"
   },
   "outputs": [],
   "source": [
    "import numpy as np\n",
    "import matplotlib.pyplot as plt\n",
    "\n",
    "from mpl_toolkits.axes_grid1 import make_axes_locatable\n",
    "\n",
    "from scipy import sparse\n",
    "\n",
    "from pynufft import NUFFT_cpu\n",
    "\n",
    "import pylops"
   ]
  },
  {
   "cell_type": "markdown",
   "metadata": {
    "Collapsed": "false"
   },
   "source": [
    "# Description of the matrix approach "
   ]
  },
  {
   "cell_type": "markdown",
   "metadata": {
    "Collapsed": "false"
   },
   "source": [
    "For **real** data we solve the system"
   ]
  },
  {
   "cell_type": "markdown",
   "metadata": {
    "Collapsed": "false"
   },
   "source": [
    "$\\left[ \\tilde{f}^T \\tilde{f} + R^T R \\right] x = \\tilde{f}^T y$"
   ]
  },
  {
   "cell_type": "markdown",
   "metadata": {
    "Collapsed": "false"
   },
   "source": [
    "where $\\tilde{f} = D f$ is a real matrix of shape ($n_p$, $n_s$). $f$ is a real matrix of shape ($n_p$, $n_s$), $D$ is the convolution which is a real matrix of shape ($n_p$, $n_p$) and $H = R^T R$ is the regularization matrix."
   ]
  },
  {
   "cell_type": "markdown",
   "metadata": {
    "Collapsed": "false"
   },
   "source": [
    "$------------------------------------$"
   ]
  },
  {
   "cell_type": "markdown",
   "metadata": {
    "Collapsed": "false"
   },
   "source": [
    "For **complex** data we instead solve the system"
   ]
  },
  {
   "cell_type": "markdown",
   "metadata": {
    "Collapsed": "false"
   },
   "source": [
    "$\\left[ \\tilde{f_{\\Re}}^T \\tilde{f_{\\Re}} + \\tilde{f_{\\Im}}^T \\tilde{f_{\\Im}} \\right] x = \\tilde{f_{\\Re}}^T y_{\\Re} + \\tilde{f_{\\Im}}^T y_{\\Im}$"
   ]
  },
  {
   "cell_type": "markdown",
   "metadata": {
    "Collapsed": "false"
   },
   "source": [
    "where $\\tilde{f} = D f$ is a compex matrix of shape ($n_v$, $n_s$). $f$ is a real matrix of shape ($n_p$, $n_s$) and $D$ is the non-uniform fast fourier transform (NUFFT) which is a complex matrix of shape ($n_v$, $n_p$)."
   ]
  },
  {
   "cell_type": "markdown",
   "metadata": {
    "Collapsed": "false"
   },
   "source": [
    "***Note:*** Since we require the solution to be real the following inequality holds"
   ]
  },
  {
   "cell_type": "markdown",
   "metadata": {
    "Collapsed": "false"
   },
   "source": [
    "$ \\left( \\tilde{f_{\\Re}}^T \\tilde{f_{\\Re}} \\right)^{-1} \\tilde{f_{\\Re}}^T y_{\\Re} \\ne \\left( \\tilde{f_{\\Im}}^T \\tilde{f_{\\Im}} \\right)^{-1} \\tilde{f_{\\Im}}^T y_{\\Im}$"
   ]
  },
  {
   "cell_type": "markdown",
   "metadata": {
    "Collapsed": "false"
   },
   "source": [
    "In our matrix approach (for complex data), regularization is applied after we sum the real and imag components"
   ]
  },
  {
   "cell_type": "markdown",
   "metadata": {
    "Collapsed": "false"
   },
   "source": [
    "$\\left[ \\left(\\tilde{f_{\\Re}}^T \\tilde{f_{\\Re}} + \\tilde{f_{\\Im}}^T \\tilde{f_{\\Im}} \\right) + R^T R \\right] x = \\tilde{f_{\\Re}}^T y_{\\Re} + \\tilde{f_{\\Im}}^T y_{\\Im}$"
   ]
  },
  {
   "cell_type": "markdown",
   "metadata": {
    "Collapsed": "false"
   },
   "source": [
    "$------------------------------------$"
   ]
  },
  {
   "cell_type": "markdown",
   "metadata": {
    "Collapsed": "false"
   },
   "source": [
    "To summarize, in our matrix approach, the solution $x$ is always real as the matrix inversion is performed with \"real\" matrices, which have been constructed from the sum of the real and imag compponents of a originaly complex matrix."
   ]
  },
  {
   "cell_type": "markdown",
   "metadata": {
    "Collapsed": "false"
   },
   "source": [
    "| Object | Dimension | type | Description |\n",
    "|------|------|------|------|\n",
    "|   $n_v$  | - | - | # of visibilities |\n",
    "|   $n_p$  | - | - | # of image-plane pixels |\n",
    "|   $n_s$  | - | - | # of source-plane pixels |\n",
    "|------|------|------|\n",
    "|   $f$  | $(n_p, n_s)$ | real | mapping matrix |\n",
    "|   $D$  | $(n_v, n_p)$ | complex | non-uniform fast fourier transform (NUFFT) |\n",
    "|   $\\tilde{f}$  | $(n_v, n_s)$ | complex | NUFFT'd mapping matrix |"
   ]
  },
  {
   "cell_type": "markdown",
   "metadata": {
    "Collapsed": "false"
   },
   "source": [
    "# Pylops "
   ]
  },
  {
   "cell_type": "code",
   "execution_count": 84,
   "metadata": {
    "Collapsed": "false"
   },
   "outputs": [],
   "source": [
    "# def NormalEquationsInversion_with_real_and_imag_Ops(\n",
    "#     Op_real, \n",
    "#     Op_imag, \n",
    "#     data_real, \n",
    "#     data_imag,\n",
    "#     HOp=None,\n",
    "#     returninfo=False, \n",
    "#     **kwargs_cg\n",
    "# ):\n",
    "\n",
    "#     OpH_real = Op_real.H\n",
    "#     OpH_imag = Op_imag.H\n",
    "\n",
    "#     Op_normal_real = OpH_real * Op_real\n",
    "#     Op_normal_imag = OpH_imag * Op_imag\n",
    "#     Op_normal = (Op_normal_real + Op_normal_imag)\n",
    "    \n",
    "#     if HOp is not None:\n",
    "#         Op_normal += HOp\n",
    "\n",
    "#     y_normal_real = OpH_real * data_real\n",
    "#     y_normal_imag = OpH_imag * data_imag\n",
    "#     y_normal = y_normal_real + y_normal_imag\n",
    "\n",
    "#     xinv, istop = sparse.linalg.cg(Op_normal, y_normal, **kwargs_cg)\n",
    "\n",
    "#     if returninfo:\n",
    "#         return xinv, istop\n",
    "#     else:\n",
    "#         return xinv\n",
    "    \n",
    "    \n",
    "def NormalEquationsInversion(\n",
    "    Op, \n",
    "    data, \n",
    "    HOp=None,\n",
    "    returninfo=False, \n",
    "    **kwargs_cg\n",
    "):\n",
    "\n",
    "    OpH = Op.H\n",
    "\n",
    "    if WOp is not None:\n",
    "        Op_normal = OpH * WOp * Op\n",
    "    else:\n",
    "        Op_normal = OpH * Op\n",
    "    \n",
    "    if HOp is not None:\n",
    "        Op_normal += HOp\n",
    "\n",
    "    if WOp is not None:\n",
    "        y_normal = OpH * WOp * data\n",
    "    else:\n",
    "        y_normal = OpH * data\n",
    "\n",
    "    xinv, istop = sparse.linalg.cg(Op_normal, y_normal, **kwargs_cg)\n",
    "\n",
    "    if returninfo:\n",
    "        return xinv, istop\n",
    "    else:\n",
    "        return xinv"
   ]
  },
  {
   "cell_type": "markdown",
   "metadata": {
    "Collapsed": "false"
   },
   "source": [
    "***The non-uniform fast fourier transform operator***"
   ]
  },
  {
   "cell_type": "code",
   "execution_count": 3,
   "metadata": {
    "Collapsed": "false"
   },
   "outputs": [],
   "source": [
    "class D_Op(NUFFT_cpu, pylops.LinearOperator):\n",
    "    def __init__(self, uv, shape_2d, reshaping_x=True):\n",
    "        super(D_Op, self).__init__()\n",
    "\n",
    "        self.u, self.v = uv.T\n",
    "\n",
    "        om = np.array([self.u, self.v]).T\n",
    "        \n",
    "        self.shape_2d = shape_2d\n",
    "\n",
    "        self.plan(\n",
    "            om=om,\n",
    "            Nd=self.shape_2d,\n",
    "            Kd=(\n",
    "                int(2 * self.shape_2d[0]),\n",
    "                int(2 * self.shape_2d[1])\n",
    "            ),\n",
    "            Jd=(6, 6),\n",
    "        )\n",
    "\n",
    "        n_p = int(self.shape_2d[0] * self.shape_2d[1])\n",
    "\n",
    "        self.shape = (uv.shape[0], n_p)\n",
    "        self.dtype = \"complex128\"\n",
    "        self.explicit = False\n",
    "        \n",
    "        self.reshaping_x = reshaping_x\n",
    "        \n",
    "    def reshape_x(self, x):\n",
    "        # NOTE: The array \"x\" is real as it represents an image of shape (n * n; i.e. flattened). This function\n",
    "        # reshaped the array to (n, n).\n",
    "        return x.reshape(self.shape_2d)\n",
    "\n",
    "    def forward_lop(self, x):\n",
    "        # NOTE: Takes an \"image\" (array) of shape (n, n) and performs the non-uniform \n",
    "        # fast fourier transform resulting in a complex matrix of length n_v.\n",
    "        \n",
    "        # NOTE: The array \"x\" that is passed was flattened so we reshape it to the shape (n, n)\n",
    "        # that NUFFT requires.\n",
    "        if self.reshaping_x:\n",
    "            x = self.reshape_x(x=x)\n",
    "            \n",
    "        y = self.k2y(self.xx2k(self.x2xx(x)))\n",
    "\n",
    "        return y\n",
    "\n",
    "    def adjoint_lop(self, y):\n",
    "\n",
    "        x = self.xx2x(self.k2xx(self.y2k(y)))\n",
    "\n",
    "        return x\n",
    "\n",
    "    def _matvec(self, x):\n",
    "        return self.forward_lop(x)\n",
    "\n",
    "    def _rmatvec(self, x):\n",
    "        return self.adjoint_lop(x)\n",
    "    \n",
    "    \n",
    "class D_Op_real(D_Op):\n",
    "\n",
    "    def _forward_lop(self, x):\n",
    "        return np.real(self.forward_lop(x=x))\n",
    "\n",
    "    def _adjoint_lop(self, y):\n",
    "        return np.real(self.adjoint_lop(y=y))\n",
    "\n",
    "    def _matvec(self, x):\n",
    "        return self._forward_lop(x)\n",
    "\n",
    "    def _rmatvec(self, x):\n",
    "        return self._adjoint_lop(x)\n",
    "\n",
    "class D_Op_imag(D_Op):\n",
    "\n",
    "    def _forward_lop(self, x):\n",
    "        return np.imag(self.forward_lop(x=x))\n",
    "\n",
    "    def _adjoint_lop(self, y):\n",
    "        return np.imag(self.adjoint_lop(y=y))\n",
    "\n",
    "    def _matvec(self, x):\n",
    "        return self._forward_lop(x)\n",
    "\n",
    "    def _rmatvec(self, x):\n",
    "        return self._adjoint_lop(x)"
   ]
  },
  {
   "cell_type": "markdown",
   "metadata": {
    "Collapsed": "false"
   },
   "source": [
    "**The regularization operator**"
   ]
  },
  {
   "cell_type": "code",
   "execution_count": 4,
   "metadata": {
    "Collapsed": "false"
   },
   "outputs": [],
   "source": [
    "class H_Op(pylops.LinearOperator):\n",
    "    def __init__(self, h, dtype=\"float64\"):\n",
    "\n",
    "        self.h = h\n",
    "        self.pixels = h.shape[0]\n",
    "        self.dims = self.pixels\n",
    "        self.shape = (self.pixels, self.pixels)\n",
    "        self.dtype = dtype\n",
    "        self.explicit = False\n",
    "\n",
    "    def _matvec(self, x):\n",
    "        return np.dot(self.h, x)\n",
    "\n",
    "    def _rmatvec(self, x):\n",
    "        return np.dot(self.h.T, x)"
   ]
  },
  {
   "cell_type": "markdown",
   "metadata": {
    "Collapsed": "false"
   },
   "source": [
    "# Tools"
   ]
  },
  {
   "cell_type": "markdown",
   "metadata": {
    "Collapsed": "false"
   },
   "source": [
    "## general"
   ]
  },
  {
   "cell_type": "code",
   "execution_count": null,
   "metadata": {
    "Collapsed": "false"
   },
   "outputs": [],
   "source": []
  },
  {
   "cell_type": "code",
   "execution_count": 5,
   "metadata": {
    "Collapsed": "false"
   },
   "outputs": [],
   "source": [
    "def a_complex_from_a_real_and_a_imag(\n",
    "    a_real, \n",
    "    a_imag\n",
    "):\n",
    "    # NOTE: Convert a numpy array of shape (n, 2) to a complex array of shape (n, )\n",
    "\n",
    "    a_complex = np.stack(\n",
    "        arrays=(a_real, a_imag), axis=-1\n",
    "    )\n",
    "\n",
    "    a_complex = np.apply_along_axis(\n",
    "        lambda args: [complex(*args)], len(a_complex.shape) - 1, a_complex\n",
    "    ).astype(\"complex128\")\n",
    "\n",
    "    return np.squeeze(a_complex)"
   ]
  },
  {
   "cell_type": "code",
   "execution_count": null,
   "metadata": {
    "Collapsed": "false"
   },
   "outputs": [],
   "source": []
  },
  {
   "cell_type": "code",
   "execution_count": 6,
   "metadata": {
    "Collapsed": "false"
   },
   "outputs": [],
   "source": [
    "# NOTE: Make a \"random\" sparse matrix (with 0's & 1's)\n",
    "def random_sparse_matrix(n_p, n_s):\n",
    "\n",
    "    def nonzero_to_ones(a):\n",
    "\n",
    "        a[np.where(a > 0.0)] = 1.0\n",
    "\n",
    "        return a\n",
    "\n",
    "    f_obj = sparse.random(\n",
    "        m=n_p, n=n_s\n",
    "    )\n",
    "\n",
    "    return nonzero_to_ones(\n",
    "        a=f_obj.A\n",
    "    )"
   ]
  },
  {
   "cell_type": "code",
   "execution_count": null,
   "metadata": {
    "Collapsed": "false"
   },
   "outputs": [],
   "source": []
  },
  {
   "cell_type": "code",
   "execution_count": 22,
   "metadata": {
    "Collapsed": "false"
   },
   "outputs": [],
   "source": [
    "def reshape(a, shape_2d):\n",
    "\n",
    "    return a.reshape(shape_2d)"
   ]
  },
  {
   "cell_type": "markdown",
   "metadata": {
    "Collapsed": "false"
   },
   "source": [
    "## visualization"
   ]
  },
  {
   "cell_type": "code",
   "execution_count": 8,
   "metadata": {
    "Collapsed": "false"
   },
   "outputs": [],
   "source": [
    "def plot_1_to_1_from_x(x):\n",
    "    \n",
    "    x_min = np.min(x)\n",
    "    x_max = np.max(x)\n",
    "    \n",
    "    plt.plot(\n",
    "        np.linspace(x_min, x_max, 10),\n",
    "        np.linspace(x_min, x_max, 10),\n",
    "        linestyle=\"--\",\n",
    "        color=\"black\"\n",
    "    )"
   ]
  },
  {
   "cell_type": "code",
   "execution_count": 9,
   "metadata": {
    "Collapsed": "false"
   },
   "outputs": [],
   "source": [
    "def add_colorbar_to_axes(figure, im, axes):\n",
    "\n",
    "    cax = make_axes_locatable(\n",
    "        axes\n",
    "    ).append_axes('right', size='5%', pad=0.05)\n",
    "\n",
    "    figure.colorbar(\n",
    "        im,\n",
    "        cax=cax,\n",
    "        orientation='vertical'\n",
    "    )"
   ]
  },
  {
   "cell_type": "code",
   "execution_count": 10,
   "metadata": {
    "Collapsed": "false"
   },
   "outputs": [],
   "source": [
    "def visualize_f(f, shape_2d, nrows, ncols, figsize):\n",
    "\n",
    "    if nrows * ncols < f.shape[-1]:\n",
    "        raise ValueError(\"\")\n",
    "        \n",
    "    figure, axes = plt.subplots(\n",
    "        nrows=nrows, ncols=ncols, figsize=figsize\n",
    "    )\n",
    "\n",
    "    k = 0\n",
    "    for i in range(nrows):\n",
    "        for j in range(ncols):\n",
    "\n",
    "            f_k = f[:, k]\n",
    "\n",
    "            f_k_reshaped = reshape(\n",
    "                a=f_k, shape_2d=shape_2d\n",
    "            )\n",
    "\n",
    "            axes[i, j].imshow(f_k_reshaped)\n",
    "\n",
    "            axes[i, j].set_xticks([])\n",
    "            axes[i, j].set_yticks([])\n",
    "\n",
    "            k += 1\n",
    "    \n",
    "    plt.subplots_adjust(wspace=0.05, hspace=0.05)\n",
    "    plt.show()"
   ]
  },
  {
   "cell_type": "markdown",
   "metadata": {
    "Collapsed": "false"
   },
   "source": [
    "# Examples"
   ]
  },
  {
   "cell_type": "markdown",
   "metadata": {
    "Collapsed": "true"
   },
   "source": [
    "## Example 1"
   ]
  },
  {
   "cell_type": "code",
   "execution_count": 11,
   "metadata": {
    "Collapsed": "false"
   },
   "outputs": [
    {
     "data": {
      "image/png": "[encoded data removed]",
      "text/plain": [
       "<Figure size 432x288 with 1 Axes>"
      ]
     },
     "metadata": {
      "needs_background": "light"
     },
     "output_type": "display_data"
    }
   ],
   "source": [
    "N_vis = 100\n",
    "N_grid = 400\n",
    "N_src = 20\n",
    "\n",
    "#f_real = np.random.normal(0.0, 1.0, size=(N_grid, N_src))\n",
    "#f_imag = np.random.normal(0.0, 1.0, size=(N_grid, N_src))\n",
    "\n",
    "f_tilde_real = np.random.normal(0.0, 1.0, size=(N_vis, N_src))\n",
    "f_tilde_imag = np.random.normal(0.0, 1.0, size=(N_vis, N_src))\n",
    "\n",
    "F_real = np.dot(f_tilde_real.T, f_tilde_real)\n",
    "F_imag = np.dot(f_tilde_imag.T, f_tilde_imag)\n",
    "\n",
    "d_real = np.random.normal(0.0, 1.0, size=(N_vis, ))\n",
    "d_imag = np.random.normal(0.0, 1.0, size=(N_vis, ))\n",
    "\n",
    "D_real = np.dot(f_tilde_real.T, d_real)\n",
    "D_imag = np.dot(f_tilde_imag.T, d_imag)\n",
    "\n",
    "# NOTE: This is the linear system Ax = y we are solving in our matrix approach.\n",
    "x = np.linalg.solve(\n",
    "    F_real + F_imag, \n",
    "    D_real + D_imag\n",
    ")\n",
    "\n",
    "# NOTE: For real-world applications D_real != D_imag & F_real != F_imag, therefore there is not\n",
    "# a single \"real\" vector x that satisfies both systems (this is in respose to https://github.com/PyLops/pylops_notebooks/blob/master/developement/ComplexMatmul.ipynb). \n",
    "x_real = np.linalg.solve(F_real, D_real)\n",
    "x_imag = np.linalg.solve(F_imag, D_imag)\n",
    "\n",
    "# ------------------ \n",
    "# NOTE: Method 1\n",
    "# ------------------ \n",
    "\n",
    "f_tilde_real_lops = pylops.MatrixMult(f_tilde_real, dtype='float64')\n",
    "f_tilde_imag_lops = pylops.MatrixMult(f_tilde_imag, dtype='float64')\n",
    "\n",
    "x_lops_method_1 = NormalEquationsInversion_with_real_and_imag_Ops(\n",
    "    Op_real=f_tilde_real_lops,\n",
    "    Op_imag=f_tilde_imag_lops,\n",
    "    data_real=d_real,\n",
    "    data_imag=d_imag\n",
    ")\n",
    "\n",
    "# ------------------ \n",
    "# NOTE: Method 2\n",
    "# ------------------\n",
    "\n",
    "f_tilde_complex = a_complex_from_a_real_and_a_imag(\n",
    "    a_real=f_tilde_real, \n",
    "    a_imag=f_tilde_imag\n",
    ")\n",
    "f_tilde_complex_lops = pylops.MatrixMult(\n",
    "    f_tilde_complex, dtype=\"complex128\"\n",
    ")\n",
    "\n",
    "d_complex = a_complex_from_a_real_and_a_imag(\n",
    "    a_real=d_real, a_imag=d_imag\n",
    ")\n",
    "\n",
    "x_lops_method_2 = NormalEquationsInversion(\n",
    "    Op=f_tilde_complex_lops,\n",
    "    data=d_complex\n",
    ")\n",
    "\n",
    "# ------------------ \n",
    "# visualization\n",
    "# ------------------ \n",
    "\n",
    "plt.figure()\n",
    "plt.plot(x, x_lops_method_1, linestyle=\"None\", marker=\"o\", color=\"black\")\n",
    "plt.plot(x, x_lops_method_2.real, linestyle=\"None\", marker=\"o\", color=\"b\")\n",
    "plt.plot(x, x_lops_method_2.imag, linestyle=\"None\", marker=\"o\", color=\"r\")\n",
    "#plt.plot(x_real, x_lops_method_2.real, linestyle=\"None\", marker=\"s\", color=\"b\")\n",
    "#plt.plot(x_imag, x_lops_method_2.imag, linestyle=\"None\", marker=\"s\", color=\"r\")\n",
    "x_min = np.min(x)\n",
    "x_max = np.max(x)\n",
    "plt.plot(\n",
    "    np.linspace(x_min, x_max, 10),\n",
    "    np.linspace(x_min, x_max, 10),\n",
    "    linestyle=\"--\",\n",
    "    color=\"black\"\n",
    ")\n",
    "plt.show()"
   ]
  },
  {
   "cell_type": "code",
   "execution_count": null,
   "metadata": {
    "Collapsed": "false"
   },
   "outputs": [],
   "source": []
  },
  {
   "cell_type": "code",
   "execution_count": 35,
   "metadata": {
    "Collapsed": "false"
   },
   "outputs": [
    {
     "data": {
      "image/png": "[encoded data removed]",
      "text/plain": [
       "<Figure size 576x864 with 12 Axes>"
      ]
     },
     "metadata": {
      "needs_background": "light"
     },
     "output_type": "display_data"
    }
   ],
   "source": [
    "prod_f_tilde_complex_H = np.dot(\n",
    "    f_tilde_complex.conj().T, \n",
    "    f_tilde_complex\n",
    ")\n",
    "prod_f_tilde_complex_T = np.dot(\n",
    "    f_tilde_complex.T, \n",
    "    f_tilde_complex\n",
    ")\n",
    "\n",
    "figure, axes = plt.subplots(\n",
    "    nrows=3, ncols=2, figsize=(8, 12)\n",
    ")\n",
    "\n",
    "im00 = axes[0, 0].imshow(prod_f_tilde_complex_H.real)\n",
    "im01 = axes[0, 1].imshow(prod_f_tilde_complex_H.imag)\n",
    "im10 = axes[1, 0].imshow(np.dot(f_tilde_real.conj().T, f_tilde_real))\n",
    "im11 = axes[1, 1].imshow(np.dot(f_tilde_imag.conj().T, f_tilde_imag))\n",
    "im20 = axes[2, 0].imshow(prod_f_tilde_complex_T.real)\n",
    "im21 = axes[2, 1].imshow(prod_f_tilde_complex_T.imag)\n",
    "\n",
    "add_colorbar_to_axes(figure=figure, im=im00, axes=axes[0, 0])\n",
    "add_colorbar_to_axes(figure=figure, im=im01, axes=axes[0, 1])\n",
    "add_colorbar_to_axes(figure=figure, im=im10, axes=axes[1, 0])\n",
    "add_colorbar_to_axes(figure=figure, im=im11, axes=axes[1, 1])\n",
    "add_colorbar_to_axes(figure=figure, im=im20, axes=axes[2, 0])\n",
    "add_colorbar_to_axes(figure=figure, im=im21, axes=axes[2, 1])\n",
    "\n",
    "for i in range(axes.shape[0]):\n",
    "    for j in range(axes.shape[1]):\n",
    "        axes[i, j].set_xticks([])\n",
    "        axes[i, j].set_yticks([])\n",
    "\n",
    "axes[0, 0].title.set_text(r\"$\\left( \\tilde{f}^{\\, H} \\tilde{f} \\right)_{\\Re}$\")\n",
    "axes[0, 1].title.set_text(r\"$\\left( \\tilde{f}^{\\, H} \\tilde{f} \\right)_{\\Im}$\")\n",
    "axes[1, 0].title.set_text(r\"$\\tilde{f}_{\\Re}^{\\, H} \\tilde{f}_{\\Re} \\equiv \\tilde{f}_{\\Re}^{\\, T} \\tilde{f}_{\\Re}$\")\n",
    "axes[1, 1].title.set_text(r\"$\\tilde{f}_{\\Im}^{\\, H} \\tilde{f}_{\\Im} \\equiv \\tilde{f}_{\\Im}^{\\, T} \\tilde{f}_{\\Im}$\")\n",
    "axes[2, 0].title.set_text(r\"$\\left( \\tilde{f}^{\\, T} \\tilde{f} \\right)_{\\Re}$\")\n",
    "axes[2, 1].title.set_text(r\"$\\left( \\tilde{f}^{\\, T} \\tilde{f} \\right)_{\\Im}$\")\n",
    "\n",
    "plt.show()"
   ]
  },
  {
   "cell_type": "markdown",
   "metadata": {
    "Collapsed": "true"
   },
   "source": [
    "## Example 2"
   ]
  },
  {
   "cell_type": "code",
   "execution_count": null,
   "metadata": {
    "Collapsed": "false"
   },
   "outputs": [],
   "source": []
  },
  {
   "cell_type": "code",
   "execution_count": 22,
   "metadata": {
    "Collapsed": "false"
   },
   "outputs": [],
   "source": [
    "regularization = False"
   ]
  },
  {
   "cell_type": "markdown",
   "metadata": {
    "Collapsed": "false"
   },
   "source": [
    "**NOTE:** If the inversion gives an error (signular matrix) rerun the example from this step."
   ]
  },
  {
   "cell_type": "code",
   "execution_count": 23,
   "metadata": {
    "Collapsed": "false"
   },
   "outputs": [],
   "source": [
    "n_v = 100 # NOTE: n_v is the # of visibilities\n",
    "\n",
    "# NOTE: Non-uniform points in the uv-space\n",
    "u = np.random.uniform(-1.0, 1.0, n_v)\n",
    "v = np.random.uniform(-1.0, 1.0, n_v)\n",
    "\n",
    "uv = np.stack(\n",
    "    arrays=(u, v), axis=-1\n",
    ")"
   ]
  },
  {
   "cell_type": "markdown",
   "metadata": {
    "Collapsed": "false"
   },
   "source": [
    "Define the # of source-pixels, $n_s$, and the # image-pixels, $n_p$."
   ]
  },
  {
   "cell_type": "code",
   "execution_count": 24,
   "metadata": {
    "Collapsed": "false"
   },
   "outputs": [],
   "source": [
    "# NOTE: n_s is the # of source-plane pixels\n",
    "n_s = 20\n",
    "\n",
    "shape_2d = (20, 20)\n",
    "\n",
    "# NOTE: n_p is the # of image-plane pixels\n",
    "n_p = int(shape_2d[0] * shape_2d[1]) "
   ]
  },
  {
   "cell_type": "code",
   "execution_count": null,
   "metadata": {
    "Collapsed": "false"
   },
   "outputs": [],
   "source": []
  },
  {
   "cell_type": "code",
   "execution_count": 25,
   "metadata": {
    "Collapsed": "false"
   },
   "outputs": [],
   "source": [
    "f = random_sparse_matrix(\n",
    "    n_p=n_p, n_s=n_s\n",
    ")"
   ]
  },
  {
   "cell_type": "markdown",
   "metadata": {
    "Collapsed": "false"
   },
   "source": [
    "***NOTE:*** For real-world application each of the images below represents where in the image plane each source-pixel is mapped."
   ]
  },
  {
   "cell_type": "code",
   "execution_count": 26,
   "metadata": {
    "Collapsed": "false"
   },
   "outputs": [
    {
     "data": {
      "image/png": "[encoded data removed]",
      "text/plain": [
       "<Figure size 864x720 with 20 Axes>"
      ]
     },
     "metadata": {},
     "output_type": "display_data"
    }
   ],
   "source": [
    "visualize_f(\n",
    "    f=f, shape_2d=shape_2d, nrows=4, ncols=5, figsize=(12, 10)\n",
    ")"
   ]
  },
  {
   "cell_type": "markdown",
   "metadata": {
    "Collapsed": "false"
   },
   "source": [
    "***Initialize the non-uniform fast fourier transform operator.***"
   ]
  },
  {
   "cell_type": "code",
   "execution_count": 27,
   "metadata": {
    "Collapsed": "false"
   },
   "outputs": [],
   "source": [
    "Dop = D_Op(uv=uv, shape_2d=shape_2d)"
   ]
  },
  {
   "cell_type": "markdown",
   "metadata": {
    "Collapsed": "false"
   },
   "source": [
    "**Compute the $\\tilde{f}$ matrix**\n",
    "\n",
    "**NOTE:** In the **\"Matrix Formalism\"** we need to explicitly construct the matrix $\\tilde{f}$ which is a very expensive operation. For real-world problems $n_v$ is of the order of $\\sim 10^{9} - 10^{12}$ limiting us not only in terms of run times but also in terms of memory usage. **The goal with the \"Pylops Formalism\" is to express $\\tilde{f}$ as a linear Operator utilizing the fact that $f$ is sparse.**"
   ]
  },
  {
   "cell_type": "code",
   "execution_count": 28,
   "metadata": {
    "Collapsed": "false"
   },
   "outputs": [],
   "source": [
    "# NOTE: Construct the $\\tilde{f}$ matrix\n",
    "f_tilde = np.zeros(\n",
    "    shape=(n_v, n_s), dtype=\"complex\"\n",
    ")\n",
    "for i in range(f.shape[-1]):\n",
    "    f_tilde[:, i] = Dop.forward_lop(x=f[:, i])\n",
    "\n",
    "f_tilde_real = f_tilde.real\n",
    "f_tilde_imag = f_tilde.imag"
   ]
  },
  {
   "cell_type": "markdown",
   "metadata": {
    "Collapsed": "false"
   },
   "source": [
    "**NOTE:**"
   ]
  },
  {
   "cell_type": "code",
   "execution_count": 29,
   "metadata": {
    "Collapsed": "false"
   },
   "outputs": [
    {
     "data": {
      "image/png": "[encoded data removed]",
      "text/plain": [
       "<Figure size 864x720 with 20 Axes>"
      ]
     },
     "metadata": {},
     "output_type": "display_data"
    }
   ],
   "source": [
    "f_tilde_tilde = np.zeros(shape=f.shape)\n",
    "for i in range(f.shape[-1]):\n",
    "    f_tilde_tilde[:, i] = np.ndarray.flatten(\n",
    "        abs(Dop.adjoint_lop(y=f_tilde[:, i]))\n",
    "    )\n",
    "#     f_tilde_tilde[:, i] = np.ndarray.flatten(\n",
    "#         Dop.adjoint_lop(y=f_tilde_i).real\n",
    "#     )\n",
    "#     f_tilde_tilde[:, i] = np.ndarray.flatten(\n",
    "#         Dop.adjoint_lop(y=f_tilde_i).imag\n",
    "#     )\n",
    "    \n",
    "visualize_f(\n",
    "    f=f_tilde_tilde, shape_2d=shape_2d, nrows=4, ncols=5, figsize=(12, 10)\n",
    ")"
   ]
  },
  {
   "cell_type": "markdown",
   "metadata": {
    "Collapsed": "false"
   },
   "source": [
    "**Initialize the**"
   ]
  },
  {
   "cell_type": "code",
   "execution_count": 30,
   "metadata": {
    "Collapsed": "false"
   },
   "outputs": [],
   "source": [
    "H = np.random.normal(0.0, 1.0, size=(n_s, n_s))\n",
    "\n",
    "# NOTE: ...\n",
    "HOp = H_Op(h=H)"
   ]
  },
  {
   "cell_type": "markdown",
   "metadata": {
    "Collapsed": "false"
   },
   "source": [
    "### Calculate"
   ]
  },
  {
   "cell_type": "code",
   "execution_count": 31,
   "metadata": {
    "Collapsed": "false"
   },
   "outputs": [],
   "source": [
    "y_real = np.random.normal(0.0, 1.0, size=(n_v, ))\n",
    "y_imag = np.random.normal(0.0, 1.0, size=(n_v, ))"
   ]
  },
  {
   "cell_type": "markdown",
   "metadata": {
    "Collapsed": "false"
   },
   "source": [
    "**Matrix Formalism:**"
   ]
  },
  {
   "cell_type": "code",
   "execution_count": 32,
   "metadata": {
    "Collapsed": "false"
   },
   "outputs": [],
   "source": [
    "F_real = np.dot(f_tilde_real.T, f_tilde_real)\n",
    "F_imag = np.dot(f_tilde_imag.T, f_tilde_imag)\n",
    "\n",
    "D_real = np.dot(f_tilde_real.T, y_real)\n",
    "D_imag = np.dot(f_tilde_imag.T, y_imag)\n",
    "\n",
    "if regularization:\n",
    "    x = np.linalg.solve(\n",
    "        (F_real + F_imag) + H,\n",
    "        D_real + D_imag\n",
    "    )\n",
    "else:\n",
    "    x = np.linalg.solve(\n",
    "        F_real + F_imag,\n",
    "        D_real + D_imag\n",
    "    )\n",
    "\n",
    "# NOTE: \n",
    "if regularization:\n",
    "    x_real = np.linalg.solve(F_real + H, D_real)\n",
    "    x_imag = np.linalg.solve(F_imag + H, D_imag)\n",
    "else:\n",
    "    x_real = np.linalg.solve(F_real, D_real)\n",
    "    x_imag = np.linalg.solve(F_imag, D_imag)"
   ]
  },
  {
   "cell_type": "markdown",
   "metadata": {
    "Collapsed": "false"
   },
   "source": [
    "**Pylops Formalism (method 1):**"
   ]
  },
  {
   "cell_type": "code",
   "execution_count": 33,
   "metadata": {
    "Collapsed": "false"
   },
   "outputs": [],
   "source": [
    "# NOTE: This is the current version of our Pylops formalism (i.e. method 1). It gives us a \n",
    "# complex solution which is not what we want.\n",
    "f_lops = pylops.MatrixMult(\n",
    "    sparse.bsr_matrix(f), dtype='float64'\n",
    ")\n",
    "\n",
    "Op = Dop * f_lops\n",
    "\n",
    "data = a_complex_from_a_real_and_a_imag(\n",
    "    a_real=y_real, a_imag=y_imag\n",
    ")\n",
    "\n",
    "x_lops = NormalEquationsInversion(\n",
    "    Op=Op, \n",
    "    data=data,\n",
    "    HOp=HOp if regularization else None\n",
    ")"
   ]
  },
  {
   "cell_type": "markdown",
   "metadata": {
    "Collapsed": "false"
   },
   "source": [
    "**Pylops Formalism (method 2):**"
   ]
  },
  {
   "cell_type": "code",
   "execution_count": 34,
   "metadata": {
    "Collapsed": "false"
   },
   "outputs": [
    {
     "name": "stdout",
     "output_type": "stream",
     "text": [
      "[ 0.97546486+0.j  0.50863014+0.j -0.25884016+0.j  0.79304183+0.j\n",
      "  0.10098012+0.j  0.24280916+0.j  0.00964472+0.j -0.11555856+0.j\n",
      " -0.14070797+0.j  0.64423698+0.j -0.69919319+0.j -0.08850856+0.j\n",
      "  0.49400151+0.j -0.44729713+0.j -0.30598498+0.j  0.18770602+0.j\n",
      "  0.10409419+0.j -0.49201734+0.j  0.29444442+0.j -0.42535141+0.j]\n"
     ]
    }
   ],
   "source": [
    "# NOTE: This is a modified version of our Pylops formalism (i.e. method 2), which is \n",
    "# still not giving us the same answer as the Matrix Formalism.\n",
    "Dop_real = D_Op_real(uv=uv, shape_2d=shape_2d)\n",
    "Dop_imag = D_Op_imag(uv=uv, shape_2d=shape_2d)\n",
    "\n",
    "f_lops = pylops.MatrixMult(\n",
    "    sparse.bsr_matrix(f), dtype='float64'\n",
    ")\n",
    "\n",
    "Op_real = Dop_real * f_lops\n",
    "Op_imag = Dop_imag * f_lops\n",
    "\n",
    "x_lops_with_real_and_imag_Ops = NormalEquationsInversion_with_real_and_imag_Ops(\n",
    "    Op_real=Op_real, \n",
    "    Op_imag=Op_imag, \n",
    "    data_real=y_real, \n",
    "    data_imag=y_imag, \n",
    "    HOp=HOp if regularization else None\n",
    ")\n",
    "\n",
    "# NOTE: Now the solution is \"real\" or rather the \"imag\" component is zero.\n",
    "print(x_lops_with_real_and_imag_Ops)\n",
    "\n",
    "x_lops_with_real_and_imag_Ops = x_lops_with_real_and_imag_Ops.real"
   ]
  },
  {
   "cell_type": "markdown",
   "metadata": {
    "Collapsed": "false"
   },
   "source": [
    "**NOTE: Does this gives us an indication of what the problem might be?**"
   ]
  },
  {
   "cell_type": "code",
   "execution_count": 35,
   "metadata": {
    "Collapsed": "false"
   },
   "outputs": [
    {
     "name": "stdout",
     "output_type": "stream",
     "text": [
      "x =  [ 0.0618604   0.07009705  0.0100867   0.04480762  0.03080384  0.10051977\n",
      " -0.03020426 -0.02815905 -0.01198409  0.01013602 -0.00561984  0.05031184\n",
      "  0.08351044 -0.09158109 -0.04982308  0.05835871 -0.0001775   0.02374979\n",
      " -0.02484245 -0.07276106] \n",
      "x_inv =  [ 0.00502926+0.00163976j  0.02644841-0.00127325j  0.00358409-0.0002259j\n",
      " -0.00089043-0.00075483j  0.00469036+0.00043315j  0.01288265-0.00221385j\n",
      " -0.00585826+0.00105728j -0.0030393 +0.00044161j  0.00581279+0.00125958j\n",
      "  0.02058532-0.00260268j  0.00754277+0.00228437j  0.01254239-0.00279966j\n",
      "  0.0047618 +0.00128438j -0.01338407-0.00075259j -0.00939107-0.00095897j\n",
      "  0.00229343+0.00435241j  0.00131467+0.00219035j  0.00251365+0.00076064j\n",
      " -0.00039097-0.00012457j  0.01603758+0.00035851j] \n",
      "x_inv_real =  [ 5.38945350e-04  1.80245144e-02  5.65367403e-03  1.91430651e-03\n",
      "  4.72373694e-03  1.22471813e-02 -3.10532866e-03  4.08270011e-05\n",
      "  2.88945109e-03  1.18741572e-02  3.97255630e-03  1.18475408e-02\n",
      "  2.20105280e-03 -2.75575770e-03 -3.69215271e-03 -9.79021853e-04\n",
      "  7.09265191e-04  3.61339969e-05  8.08284657e-04  1.15856366e-02] \n",
      " x_inv_imag =  [-4.49031736e-03 -8.42389464e-03  2.06958334e-03  2.80473930e-03\n",
      "  3.33725507e-05 -6.35472532e-04  2.75293506e-03  3.08012508e-03\n",
      " -2.92333488e-03 -8.71116215e-03 -3.57021426e-03 -6.94849459e-04\n",
      " -2.56074803e-03  1.06283140e-02  5.69892042e-03 -3.27245525e-03\n",
      " -6.05408393e-04 -2.47751780e-03  1.19925220e-03 -4.45194060e-03] \n",
      "\n"
     ]
    }
   ],
   "source": [
    "\n",
    "b = Op * x\n",
    "x_inv = Op.H * b\n",
    "\n",
    "b_real = Op_real * x\n",
    "b_imag = Op_imag * x\n",
    "\n",
    "x_inv_real = Op_real.H * b_real\n",
    "x_inv_imag = Op_imag.H * b_imag\n",
    "\n",
    "Op_from_real_and_imag_Ops = Op_real + Op_imag\n",
    "b_from_real_and_imag_Ops = Op_from_real_and_imag_Ops * x\n",
    "x_inv_from_real_and_imag_Ops = Op_from_real_and_imag_Ops.H * b_from_real_and_imag_Ops\n",
    "\n",
    "print(\n",
    "    \"x = \", x, \"\\n\"\n",
    "    \"x_inv = \", x_inv, \"\\n\"\n",
    "    \"x_inv_real = \", x_inv_real, \"\\n\",\n",
    "    \"x_inv_imag = \", x_inv_imag, \"\\n\",\n",
    "    #x_inv_from_real_and_imag_Ops\n",
    ")"
   ]
  },
  {
   "cell_type": "markdown",
   "metadata": {
    "Collapsed": "false"
   },
   "source": [
    "### visualization"
   ]
  },
  {
   "cell_type": "markdown",
   "metadata": {
    "Collapsed": "false"
   },
   "source": [
    "**Matrix Formalism:**\n",
    "\n",
    "Let's compare the $\\textbf{\"true\"}$ solution we get from solving the system\n",
    "\n",
    "$\\left[ \\tilde{f_{\\Re}}^T \\tilde{f_{\\Re}} + \\tilde{f_{\\Im}}^T \\tilde{f_{\\Im}} \\right] x = \\tilde{f_{\\Re}}^T y_{\\Re} + \\tilde{f_{\\Im}}^T y_{\\Im}$\n",
    "\n",
    "with the solutions we get from each of the following systems\n",
    "\n",
    "$\\left( \\tilde{f_{\\Re}}^T \\tilde{f_{\\Re}} \\right) x_{\\Re} = \\tilde{f_{\\Re}}^T y_{\\Re}$\n",
    "\n",
    "$\\left( \\tilde{f_{\\Im}}^T \\tilde{f_{\\Im}} \\right) x_{\\Im} = \\tilde{f_{\\Im}}^T y_{\\Im}$\n",
    "\n",
    "This is to demonstrate that\n",
    "\n",
    "$\\left( \\tilde{f_{\\Re}}^T \\tilde{f_{\\Re}} \\right)^{-1} \\tilde{f_{\\Re}}^T y_{\\Re} \\ne \\left( \\tilde{f_{\\Im}}^T \\tilde{f_{\\Im}} \\right)^{-1} \\tilde{f_{\\Im}}^T y_{\\Im}$\n",
    "\n",
    "which, however, we already showed in **Example 1**."
   ]
  },
  {
   "cell_type": "code",
   "execution_count": 36,
   "metadata": {
    "Collapsed": "false"
   },
   "outputs": [
    {
     "data": {
      "image/png": "[encoded data removed]",
      "text/plain": [
       "<Figure size 432x288 with 1 Axes>"
      ]
     },
     "metadata": {
      "needs_background": "light"
     },
     "output_type": "display_data"
    }
   ],
   "source": [
    "plt.plot(x, x_real, linestyle=\"None\", marker=\"o\", color=\"b\")\n",
    "\n",
    "plot_1_to_1_from_x(x=x)\n",
    "\n",
    "plt.show()"
   ]
  },
  {
   "cell_type": "code",
   "execution_count": 37,
   "metadata": {
    "Collapsed": "false"
   },
   "outputs": [
    {
     "data": {
      "image/png": "[encoded data removed]",
      "text/plain": [
       "<Figure size 432x288 with 1 Axes>"
      ]
     },
     "metadata": {
      "needs_background": "light"
     },
     "output_type": "display_data"
    }
   ],
   "source": [
    "plt.plot(x, x_imag, linestyle=\"None\", marker=\"o\", color=\"r\")\n",
    "\n",
    "plot_1_to_1_from_x(x=x)\n",
    "\n",
    "plt.show()"
   ]
  },
  {
   "cell_type": "code",
   "execution_count": null,
   "metadata": {
    "Collapsed": "false"
   },
   "outputs": [],
   "source": []
  },
  {
   "cell_type": "markdown",
   "metadata": {
    "Collapsed": "false"
   },
   "source": [
    "**Matrix vs Pylops Formalism:**\n",
    "\n",
    "Let's compare the solutions we get from each of the following systems using the Matrix Formalism\n",
    "\n",
    "$\\left( \\tilde{f_{\\Re}}^T \\tilde{f_{\\Re}} \\right) x_{\\Re} = \\tilde{f_{\\Re}}^T y_{\\Re}$\n",
    "\n",
    "$\\left( \\tilde{f_{\\Im}}^T \\tilde{f_{\\Im}} \\right) x_{\\Im} = \\tilde{f_{\\Im}}^T y_{\\Im}$\n",
    "\n",
    "as well as the **\"true\"** solution we get from solving the system using again the Matrix Formalism\n",
    "\n",
    "$\\left[ \\tilde{f_{\\Re}}^T \\tilde{f_{\\Re}} + \\tilde{f_{\\Im}}^T \\tilde{f_{\\Im}} \\right] x = \\tilde{f_{\\Re}}^T y_{\\Re} + \\tilde{f_{\\Im}}^T y_{\\Im}$\n",
    "\n",
    "with the **\"complex\"** solution we get using the **\"method 1\"** version of the Pylops formalism\n",
    "\n",
    "$\\left[ \\tilde{f_{\\Re}}^T \\tilde{f_{\\Re}} + \\tilde{f_{\\Im}}^T \\tilde{f_{\\Im}} \\right] x = \\tilde{f_{\\Re}}^T y_{\\Re} + \\tilde{f_{\\Im}}^T y_{\\Im}$"
   ]
  },
  {
   "cell_type": "code",
   "execution_count": 38,
   "metadata": {
    "Collapsed": "false"
   },
   "outputs": [
    {
     "data": {
      "image/png": "[encoded data removed]",
      "text/plain": [
       "<Figure size 432x288 with 1 Axes>"
      ]
     },
     "metadata": {
      "needs_background": "light"
     },
     "output_type": "display_data"
    }
   ],
   "source": [
    "plt.plot(x_real, x_lops.real, linestyle=\"None\", marker=\"o\", color=\"b\")\n",
    "\n",
    "plot_1_to_1_from_x(x=x)\n",
    "\n",
    "plt.show()"
   ]
  },
  {
   "cell_type": "code",
   "execution_count": 39,
   "metadata": {
    "Collapsed": "false"
   },
   "outputs": [
    {
     "data": {
      "image/png": "[encoded data removed]",
      "text/plain": [
       "<Figure size 432x288 with 1 Axes>"
      ]
     },
     "metadata": {
      "needs_background": "light"
     },
     "output_type": "display_data"
    }
   ],
   "source": [
    "plt.plot(x_imag, x_lops.imag, linestyle=\"None\", marker=\"o\", color=\"r\")\n",
    "\n",
    "plot_1_to_1_from_x(x=x)\n",
    "\n",
    "plt.show()"
   ]
  },
  {
   "cell_type": "code",
   "execution_count": 40,
   "metadata": {
    "Collapsed": "false"
   },
   "outputs": [
    {
     "data": {
      "image/png": "[encoded data removed]",
      "text/plain": [
       "<Figure size 432x288 with 1 Axes>"
      ]
     },
     "metadata": {
      "needs_background": "light"
     },
     "output_type": "display_data"
    }
   ],
   "source": [
    "plt.figure()\n",
    "plt.plot(x, x_lops.real, linestyle=\"None\", marker=\"o\", color=\"b\")\n",
    "plt.plot(x, x_lops.imag, linestyle=\"None\", marker=\"o\", color=\"r\")\n",
    "\n",
    "plot_1_to_1_from_x(x=x)\n",
    "\n",
    "plt.show()"
   ]
  },
  {
   "cell_type": "markdown",
   "metadata": {
    "Collapsed": "false"
   },
   "source": [
    "**NOTE:** The **\"real\"** and **\"imag\"** solutions from the **Pyloops Formalism** do not agree."
   ]
  },
  {
   "cell_type": "code",
   "execution_count": 41,
   "metadata": {
    "Collapsed": "false"
   },
   "outputs": [
    {
     "data": {
      "image/png": "[encoded data removed]",
      "text/plain": [
       "<Figure size 432x288 with 1 Axes>"
      ]
     },
     "metadata": {
      "needs_background": "light"
     },
     "output_type": "display_data"
    }
   ],
   "source": [
    "plt.plot(x_lops.real, x_lops.imag, linestyle=\"None\", marker=\"o\", color=\"black\")\n",
    "\n",
    "plot_1_to_1_from_x(x=x)\n",
    "\n",
    "plt.show()"
   ]
  },
  {
   "cell_type": "code",
   "execution_count": null,
   "metadata": {
    "Collapsed": "false"
   },
   "outputs": [],
   "source": []
  },
  {
   "cell_type": "markdown",
   "metadata": {
    "Collapsed": "false"
   },
   "source": [
    "**Matrix vs Pylops Formalism:**\n",
    "\n",
    "Let's compare the $\\textbf{\"true\"}$ solution we get from solving the system using the **Matrix Formalism**\n",
    "\n",
    "$\\left[ \\tilde{f_{\\Re}}^T \\tilde{f_{\\Re}} + \\tilde{f_{\\Im}}^T \\tilde{f_{\\Im}} \\right] x = \\tilde{f_{\\Re}}^T y_{\\Re} + \\tilde{f_{\\Im}}^T y_{\\Im}$\n",
    "\n",
    "with the **\"real\"** solution we get using the **\"method 2\"** version of the **Pylops Formalism**."
   ]
  },
  {
   "cell_type": "code",
   "execution_count": 21,
   "metadata": {
    "Collapsed": "false"
   },
   "outputs": [],
   "source": [
    "# plt.figure()\n",
    "# plt.plot(x, x_lops_with_real_and_imag_Ops, linestyle=\"None\", marker=\"s\", color=\"g\")\n",
    "\n",
    "# plot_1_to_1_from_x(x=x)\n",
    "\n",
    "# plt.show()"
   ]
  },
  {
   "cell_type": "markdown",
   "metadata": {
    "Collapsed": "false"
   },
   "source": [
    "## Example 3"
   ]
  },
  {
   "cell_type": "code",
   "execution_count": 17,
   "metadata": {
    "Collapsed": "false"
   },
   "outputs": [],
   "source": [
    "def x_for_MF(Dop, f, d_real, d_imag, WOp=None, HOp=None):\n",
    "\n",
    "    f_tilde = np.zeros(\n",
    "        shape=(Dop.shape[0], f.shape[-1]), dtype=\"complex\"\n",
    "    )\n",
    "    for i in range(f_tilde.shape[-1]):\n",
    "        f_tilde[:, i] = Dop.forward_lop(x=f[:, i])\n",
    "\n",
    "    f_tilde_real = f_tilde.real\n",
    "    f_tilde_imag = f_tilde.imag\n",
    "    \n",
    "    if WOp is not None:\n",
    "        W = WOp.todense()\n",
    "    else:\n",
    "        W = np.diag(\n",
    "            np.ones(shape=(Dop.shape[0]))\n",
    "        )\n",
    "        \n",
    "    F_real = np.dot(np.dot(f_tilde_real.T, W), f_tilde_real)\n",
    "    F_imag = np.dot(np.dot(f_tilde_imag.T, W), f_tilde_imag)\n",
    "\n",
    "    D_real = np.dot(np.dot(f_tilde_real.T, W), d_real)\n",
    "    D_imag = np.dot(np.dot(f_tilde_imag.T, W), d_imag)\n",
    "\n",
    "    F = F_real + F_imag\n",
    "    D = D_real + D_imag\n",
    "\n",
    "    if regularization:\n",
    "        if HOp is not None:\n",
    "            H = HOp.todense()\n",
    "        else:\n",
    "            raise ValueError(\"...\")\n",
    "\n",
    "        x = np.linalg.solve(F + H, D)\n",
    "    else:\n",
    "        x = np.linalg.solve(F, D)\n",
    "\n",
    "    return x\n",
    "\n",
    "\n",
    "def x_for_PF(Dop, f, d_real, d_imag, WOp=None, HOp=None):\n",
    "\n",
    "    f_lops = pylops.MatrixMult(\n",
    "        sparse.bsr_matrix(f), dtype='float64'\n",
    "    )\n",
    "\n",
    "    Op = Dop * f_lops\n",
    "\n",
    "    # NOTE:\n",
    "    Op = Op.toreal(\n",
    "        forw=False, adj=True\n",
    "    )\n",
    "\n",
    "    data = a_complex_from_a_real_and_a_imag(\n",
    "        a_real=d_real, a_imag=d_imag\n",
    "    )\n",
    "\n",
    "    x_lops = NormalEquationsInversion(\n",
    "        Op=Op,\n",
    "        data=data,\n",
    "        WOp=WOp,\n",
    "        HOp=HOp\n",
    "    )\n",
    "\n",
    "    return x_lops"
   ]
  },
  {
   "cell_type": "code",
   "execution_count": null,
   "metadata": {
    "Collapsed": "false"
   },
   "outputs": [],
   "source": []
  },
  {
   "cell_type": "code",
   "execution_count": 18,
   "metadata": {
    "Collapsed": "false"
   },
   "outputs": [],
   "source": [
    "# NOTE: n_v is the # of visibilities\n",
    "n_v = 100 \n",
    "\n",
    "# NOTE: Non-uniform points in the uv-space\n",
    "u = np.random.uniform(-1.0, 1.0, n_v)\n",
    "v = np.random.uniform(-1.0, 1.0, n_v)\n",
    "uv = np.stack(arrays=(u, v), axis=-1)\n",
    "\n",
    "# NOTE: n_s is the # of source-plane pixels\n",
    "n_s = 20\n",
    "\n",
    "# NOTE: \n",
    "shape_2d = (20, 20)\n",
    "\n",
    "# NOTE: n_p is the # of image-plane pixels\n",
    "n_p = int(shape_2d[0] * shape_2d[1]) \n",
    "\n",
    "# NOTE: \n",
    "f = random_sparse_matrix(\n",
    "    n_p=n_p, n_s=n_s\n",
    ")\n",
    "\n",
    "# NOTE\n",
    "Dop = D_Op(uv=uv, shape_2d=shape_2d)"
   ]
  },
  {
   "cell_type": "code",
   "execution_count": null,
   "metadata": {
    "Collapsed": "false"
   },
   "outputs": [],
   "source": []
  },
  {
   "cell_type": "code",
   "execution_count": 83,
   "metadata": {
    "Collapsed": "false"
   },
   "outputs": [
    {
     "data": {
      "image/png": "[encoded data removed]",
      "text/plain": [
       "<Figure size 432x288 with 1 Axes>"
      ]
     },
     "metadata": {
      "needs_background": "light"
     },
     "output_type": "display_data"
    }
   ],
   "source": [
    "regularization = False\n",
    "\n",
    "# h_coeff = 0.1\n",
    "# H = h_coeff * np.diag(np.ones(n_s, ))\n",
    "\n",
    "# HOp = H_Op(h=H)\n",
    "# #HOp = HOp.toreal(forw=False, adj=True)\n",
    "\n",
    "y_real = np.random.normal(0.0, 1.0, size=(n_v, ))\n",
    "y_imag = np.random.normal(0.0, 1.0, size=(n_v, ))\n",
    "\n",
    "HOp = None\n",
    "\n",
    "# NOTE:\n",
    "sigma = abs(\n",
    "    np.random.normal(0.0, 1.0, size=(n_v, ))\n",
    ")\n",
    "weights = 1.0 / sigma**2.0\n",
    "\n",
    "WOp = pylops.Diagonal(diag=weights, dtype=\"float64\")\n",
    "\n",
    "_x_for_MF = x_for_MF(\n",
    "    Dop=Dop,\n",
    "    f=f,\n",
    "    d_real=y_real,\n",
    "    d_imag=y_imag,\n",
    "    WOp=WOp,\n",
    "    HOp=HOp\n",
    ")\n",
    "_x_for_PF = x_for_PF(\n",
    "    Dop=Dop,\n",
    "    f=f,\n",
    "    d_real=y_real,\n",
    "    d_imag=y_imag,\n",
    "    WOp=WOp,\n",
    "    HOp=HOp\n",
    ")\n",
    "\n",
    "\n",
    "# NOTE: Plot\n",
    "x_min = np.min(_x_for_MF)\n",
    "x_max = np.max(_x_for_MF)\n",
    "\n",
    "plt.figure()\n",
    "plt.plot(_x_for_MF, _x_for_PF.real, linestyle=\"None\", marker=\"*\", markersize=5, color=\"b\")\n",
    "plt.plot(_x_for_MF, _x_for_PF.imag, linestyle=\"None\", marker=\"*\", markersize=5, color=\"r\")\n",
    "\n",
    "plt.plot(\n",
    "    np.linspace(x_min, x_max, 10),\n",
    "    np.linspace(x_min, x_max, 10),\n",
    "    linestyle=\"--\",\n",
    "    color=\"black\"\n",
    ")\n",
    "\n",
    "plt.show()"
   ]
  },
  {
   "cell_type": "markdown",
   "metadata": {
    "Collapsed": "false"
   },
   "source": [
    "# Tests"
   ]
  },
  {
   "cell_type": "markdown",
   "metadata": {
    "Collapsed": "true"
   },
   "source": [
    "## test 1"
   ]
  },
  {
   "cell_type": "code",
   "execution_count": 20,
   "metadata": {
    "Collapsed": "false"
   },
   "outputs": [],
   "source": [
    "def calculate_f_tilde(f, Dop, shape):\n",
    "    f_tilde = np.zeros(\n",
    "        shape=shape, dtype=\"complex\"\n",
    "    )\n",
    "    for i in range(f.shape[-1]):\n",
    "        f_tilde[:, i] = Dop.forward_lop(x=f[:, i])\n",
    "        \n",
    "    return f_tilde\n",
    "    "
   ]
  },
  {
   "cell_type": "code",
   "execution_count": 48,
   "metadata": {
    "Collapsed": "false"
   },
   "outputs": [],
   "source": [
    "n_v = 100 # NOTE: n_v is the # of visibilities\n",
    "\n",
    "# NOTE: Non-uniform points in the uv-space\n",
    "u = np.random.uniform(-1.0, 1.0, n_v)\n",
    "v = np.random.uniform(-1.0, 1.0, n_v)\n",
    "\n",
    "uv = np.stack(\n",
    "    arrays=(u, v), axis=-1\n",
    ")\n",
    "\n",
    "# NOTE: n_s is the # of source-plane pixels\n",
    "n_s = 20\n",
    "\n",
    "shape_2d = (20, 20)\n",
    "\n",
    "# NOTE: n_p is the # of image-plane pixels\n",
    "n_p = int(shape_2d[0] * shape_2d[1]) "
   ]
  },
  {
   "cell_type": "code",
   "execution_count": null,
   "metadata": {
    "Collapsed": "false"
   },
   "outputs": [],
   "source": []
  },
  {
   "cell_type": "code",
   "execution_count": 49,
   "metadata": {
    "Collapsed": "false"
   },
   "outputs": [],
   "source": [
    "f = random_sparse_matrix(\n",
    "    n_p=n_p, n_s=n_s\n",
    ")"
   ]
  },
  {
   "cell_type": "code",
   "execution_count": null,
   "metadata": {
    "Collapsed": "false"
   },
   "outputs": [],
   "source": []
  },
  {
   "cell_type": "code",
   "execution_count": 50,
   "metadata": {
    "Collapsed": "false"
   },
   "outputs": [],
   "source": [
    "Dop = D_Op(\n",
    "    uv=uv, shape_2d=shape_2d\n",
    ")"
   ]
  },
  {
   "cell_type": "code",
   "execution_count": null,
   "metadata": {
    "Collapsed": "false"
   },
   "outputs": [],
   "source": []
  },
  {
   "cell_type": "code",
   "execution_count": 57,
   "metadata": {
    "Collapsed": "false"
   },
   "outputs": [],
   "source": [
    "# ------------------ #\n",
    "# Matrix Formalism\n",
    "# ------------------ #\n",
    "f_tilde = calculate_f_tilde(\n",
    "    f=f, Dop=Dop, shape=(n_v, n_s)\n",
    ")\n",
    "\n",
    "# ------------------ #\n",
    "# Pylops Formalism\n",
    "# ------------------ #\n",
    "f_lops = pylops.MatrixMult(\n",
    "    sparse.bsr_matrix(f), dtype='float64'\n",
    ")\n",
    "\n",
    "Op = Dop * f_lops\n",
    "\n",
    "# NOTE: \n",
    "Op = Op.toreal(\n",
    "    forw=False, adj=True\n",
    ")"
   ]
  },
  {
   "cell_type": "markdown",
   "metadata": {
    "Collapsed": "false"
   },
   "source": [
    "**forward**"
   ]
  },
  {
   "cell_type": "code",
   "execution_count": 58,
   "metadata": {
    "Collapsed": "false"
   },
   "outputs": [
    {
     "data": {
      "image/png": "[encoded data removed]",
      "text/plain": [
       "<Figure size 864x432 with 2 Axes>"
      ]
     },
     "metadata": {
      "needs_background": "light"
     },
     "output_type": "display_data"
    }
   ],
   "source": [
    "x = np.random.normal(0.0, 1.0, size=(n_s, ))\n",
    "\n",
    "# ------------------ #\n",
    "# Matrix Formalism\n",
    "# ------------------ #\n",
    "y_MF = f_tilde @ x\n",
    "\n",
    "# ------------------ #\n",
    "# Pylops Formalism\n",
    "# ------------------ #\n",
    "y_PF = Op @ x\n",
    "\n",
    "# ------------------ #\n",
    "# Visualization\n",
    "# ------------------ #\n",
    "figure, axes = plt.subplots(\n",
    "    nrows=1, ncols=2, figsize=(12, 6)\n",
    ")\n",
    "axes[0].plot(\n",
    "    y_MF.real, y_PF.real, linestyle=\"None\", marker=\"o\", color=\"b\"\n",
    ")\n",
    "axes[1].plot(\n",
    "    y_MF.imag, y_PF.imag, linestyle=\"None\", marker=\"o\", color=\"r\"\n",
    ")\n",
    "\n",
    "x_min_real = np.min([np.min(y_MF.real), np.min(y_PF.real)])\n",
    "x_max_real = np.max([np.max(y_MF.real), np.max(y_PF.real)])\n",
    "\n",
    "x_min_imag = np.min([np.min(y_MF.imag), np.min(y_PF.imag)])\n",
    "x_max_imag = np.max([np.max(y_MF.imag), np.max(y_PF.imag)])\n",
    "\n",
    "axes[0].plot(\n",
    "    np.linspace(x_min_real, x_max_real, 10),\n",
    "    np.linspace(x_min_real, x_max_real, 10),\n",
    "    linestyle=\"--\",\n",
    "    color=\"black\"\n",
    ")\n",
    "axes[1].plot(\n",
    "    np.linspace(x_min_imag, x_max_imag, 10),\n",
    "    np.linspace(x_min_imag, x_max_imag, 10),\n",
    "    linestyle=\"--\",\n",
    "    color=\"black\"\n",
    ")\n",
    "\n",
    "plt.show()"
   ]
  },
  {
   "cell_type": "markdown",
   "metadata": {},
   "source": [
    "**adjoint**"
   ]
  },
  {
   "cell_type": "code",
   "execution_count": null,
   "metadata": {},
   "outputs": [],
   "source": []
  },
  {
   "cell_type": "markdown",
   "metadata": {
    "Collapsed": "false"
   },
   "source": [
    "**inverse**"
   ]
  },
  {
   "cell_type": "code",
   "execution_count": 59,
   "metadata": {
    "Collapsed": "false"
   },
   "outputs": [
    {
     "data": {
      "image/png": "[encoded data removed]",
      "text/plain": [
       "<Figure size 864x432 with 2 Axes>"
      ]
     },
     "metadata": {
      "needs_background": "light"
     },
     "output_type": "display_data"
    }
   ],
   "source": [
    "# ------------------ #\n",
    "# Matrix Formalism\n",
    "# ------------------ #\n",
    "_x_MF = np.linalg.inv(f_tilde.real.T @ f_tilde.real + f_tilde.imag.T @ f_tilde.imag) @ (f_tilde.real.T @ y_MF.real + f_tilde.imag.T @ y_MF.imag)\n",
    "\n",
    "# ------------------ #\n",
    "# Pylops Formalism\n",
    "# ------------------ #\n",
    "_x_PF = Op.div(y_PF)\n",
    "\n",
    "# ------------------ #\n",
    "# Visualization\n",
    "# ------------------ #\n",
    "figure, axes = plt.subplots(\n",
    "    nrows=1, ncols=2, figsize=(12, 6)\n",
    ")\n",
    "axes[0].plot(\n",
    "    x, _x_MF, linestyle=\"None\", marker=\"o\", color=\"b\"\n",
    ")\n",
    "axes[1].plot(\n",
    "    x, _x_PF, linestyle=\"None\", marker=\"o\", color=\"r\"\n",
    ")\n",
    "\n",
    "x_min_MF = np.min([np.min(x), np.min(_x_MF)])\n",
    "x_max_MF = np.max([np.max(x), np.max(_x_MF)])\n",
    "x_min_PF = np.min([np.min(x), np.min(_x_PF)])\n",
    "x_max_PF = np.max([np.max(x), np.max(_x_PF)])\n",
    "\n",
    "axes[0].plot(\n",
    "    np.linspace(x_min_MF, x_max_MF, 10),\n",
    "    np.linspace(x_min_MF, x_max_MF, 10),\n",
    "    linestyle=\"--\",\n",
    "    color=\"black\"\n",
    ")\n",
    "axes[1].plot(\n",
    "    np.linspace(x_min_PF, x_max_PF, 10),\n",
    "    np.linspace(x_min_PF, x_max_PF, 10),\n",
    "    linestyle=\"--\",\n",
    "    color=\"black\"\n",
    ")\n",
    "\n",
    "plt.show()"
   ]
  },
  {
   "cell_type": "code",
   "execution_count": 82,
   "metadata": {
    "Collapsed": "false"
   },
   "outputs": [
    {
     "name": "stdout",
     "output_type": "stream",
     "text": [
      "[ -351.76593572-251.39820824j  -407.6346851  -74.89600309j\n",
      "  -603.99511631-120.5576404j   -692.83028757 +38.29413535j\n",
      "  -609.516541  -157.08134212j  -178.06283137+198.86363311j\n",
      "   196.2445891  +17.78053595j  -262.38230792-181.66972807j\n",
      "  -948.01619645-149.44508803j  -311.56492966 -45.86774614j\n",
      "  -374.9243447 -145.58021955j  -474.87023646-121.09461846j\n",
      "  -510.17941491+166.72840194j  -361.71921492 -87.21653439j\n",
      "  -296.66695776 +59.21618486j -1310.42274943-145.30237015j\n",
      "  -773.73746271 +44.1728771j   -121.68073708 +26.85836056j\n",
      "  -252.8873167 -196.3400142j    -14.21556133 -82.56648484j]\n",
      "[ -192.28538047  -551.3152297  -1127.75282102  -152.19969086\n",
      "  -578.3643445   -588.01373814  -157.87467243 -1348.22800465\n",
      "  -668.03280663  -371.23814694  -428.04781119  -338.43475524\n",
      "  -527.26533896  -108.82317681  -378.70416061 -1198.42187189\n",
      "  -770.05916459   -60.6986336   -765.61461476   127.72623357]\n",
      "[  159.48055525  -143.6805446   -523.75770471   540.63059671\n",
      "    31.1521965   -409.95090677  -354.11926153 -1085.84569673\n",
      "   279.98338983   -59.67321728   -53.12346649   136.43548122\n",
      "   -17.08592405   252.89603811   -82.03720285   112.00087754\n",
      "     3.67829812    60.98210349  -512.72729806   141.9417949 ]\n"
     ]
    }
   ],
   "source": [
    "x_MF_adj = f_tilde.T @ y_MF\n",
    "\n",
    "x_MF_adj_real = f_tilde.real.T @ y_MF.real\n",
    "x_MF_adj_imag = f_tilde.imag.T @ y_MF.imag\n",
    "\n",
    "# NOTE: The 2 do noot agree as there are cross terms ...\n",
    "print(x_MF_adj)\n",
    "print(x_MF_adj_real)\n",
    "print(x_MF_adj_imag)\n",
    "\n",
    "\n",
    "# x_PF_adj = Op.H @ y_PF\n",
    "\n",
    "# print(x_MF_adj)\n",
    "# print(x_PF_adj)\n",
    "\n",
    "# # NOTE: ...\n",
    "# figure, axes = plt.subplots(\n",
    "#     nrows=1, ncols=2, figsize=(12, 6)\n",
    "# )\n",
    "# axes[0].plot(\n",
    "#     y_MF.real, y_MF.imag, linestyle=\"None\", marker=\"o\", color=\"b\"\n",
    "# )\n",
    "# axes[1].plot(\n",
    "#     y_PF.real, y_PF.imag, linestyle=\"None\", marker=\"o\", color=\"r\"\n",
    "# )\n",
    "# plt.show()"
   ]
  },
  {
   "cell_type": "code",
   "execution_count": null,
   "metadata": {
    "Collapsed": "false"
   },
   "outputs": [],
   "source": []
  },
  {
   "cell_type": "code",
   "execution_count": null,
   "metadata": {
    "Collapsed": "false"
   },
   "outputs": [],
   "source": []
  },
  {
   "cell_type": "code",
   "execution_count": null,
   "metadata": {
    "Collapsed": "false"
   },
   "outputs": [],
   "source": []
  },
  {
   "cell_type": "markdown",
   "metadata": {
    "Collapsed": "true"
   },
   "source": [
    "## test 2"
   ]
  },
  {
   "cell_type": "code",
   "execution_count": 77,
   "metadata": {
    "Collapsed": "false"
   },
   "outputs": [
    {
     "name": "stdout",
     "output_type": "stream",
     "text": [
      "[-0.7437325  -0.08018382 -0.88577307 -1.94660713  0.72925361 -0.06314401\n",
      "  0.82390237  0.36044834  0.25380138 -0.27730707]\n",
      "[ -4.96568334  -8.52946803  -7.08114653  -7.85687064   0.92324827\n",
      "  11.51695903  13.38629372   8.40620139  13.3376979  -13.5179274 ]\n",
      "[-0.7437325  -0.08018382 -0.88577307 -1.94660713  0.72925361 -0.06314401\n",
      "  0.82390237  0.36044834  0.25380138 -0.27730707]\n",
      "------\n",
      "[-0.7437325  -0.08018382 -0.88577307 -1.94660713  0.72925361 -0.06314401\n",
      "  0.82390237  0.36044834  0.25380138 -0.27730707]\n",
      "[ -4.96568334  -8.52946803  -7.08114653  -7.85687064   0.92324827\n",
      "  11.51695903  13.38629372   8.40620139  13.3376979  -13.5179274 ]\n",
      "[-0.7437325  -0.08018382 -0.88577307 -1.94660713  0.72925361 -0.06314401\n",
      "  0.82390237  0.36044834  0.25380138 -0.27730707]\n"
     ]
    }
   ],
   "source": [
    "n = 10\n",
    "\n",
    "x = np.random.normal(0.0, 1.0, size=(n, ))\n",
    "A = np.random.normal(0.0, 1.0, size=(n, n))\n",
    "\n",
    "# y = Ax\n",
    "y = np.dot(A, x)\n",
    "\n",
    "# NOTE: ...\n",
    "x_adj = np.dot(A.T, y)\n",
    "\n",
    "_x = np.linalg.solve(A, y)\n",
    "\n",
    "print(x)\n",
    "print(x_adj)\n",
    "print(_x)\n",
    "\n",
    "print(\"------\")\n",
    "\n",
    "AOp = pylops.MatrixMult(\n",
    "    sparse.bsr_matrix(A), dtype='float64'\n",
    ")\n",
    "\n",
    "y = AOp @ x\n",
    "\n",
    "x_adj = AOp.H * y\n",
    "\n",
    "_x = AOp.div(y)\n",
    "\n",
    "print(x)\n",
    "print(x_adj)\n",
    "print(_x)"
   ]
  },
  {
   "cell_type": "code",
   "execution_count": null,
   "metadata": {
    "Collapsed": "false"
   },
   "outputs": [],
   "source": []
  }
 ],
 "metadata": {
  "kernelspec": {
   "display_name": "Python 3",
   "language": "python",
   "name": "python3"
  },
  "language_info": {
   "codemirror_mode": {
    "name": "ipython",
    "version": 3
   },
   "file_extension": ".py",
   "mimetype": "text/x-python",
   "name": "python",
   "nbconvert_exporter": "python",
   "pygments_lexer": "ipython3",
   "version": "3.7.4"
  }
 },
 "nbformat": 4,
 "nbformat_minor": 4
}
