{
 "cells": [
  {
   "cell_type": "code",
   "execution_count": 2,
   "metadata": {
    "Collapsed": "false"
   },
   "outputs": [],
   "source": [
    "import numpy as np\n",
    "import matplotlib.pyplot as plt\n",
    "\n",
    "from mpl_toolkits.axes_grid1 import make_axes_locatable\n",
    "\n",
    "from scipy import sparse\n",
    "\n",
    "from pynufft import NUFFT_cpu\n",
    "\n",
    "import pylops"
   ]
  },
  {
   "cell_type": "markdown",
   "metadata": {
    "Collapsed": "false"
   },
   "source": [
    "# Description of the matrix approach "
   ]
  },
  {
   "cell_type": "markdown",
   "metadata": {
    "Collapsed": "false"
   },
   "source": [
    "For **real** data we solve the system"
   ]
  },
  {
   "cell_type": "markdown",
   "metadata": {
    "Collapsed": "false"
   },
   "source": [
    "$\\left[ \\tilde{f}^T \\tilde{f} + R^T R \\right] x = \\tilde{f}^T y$"
   ]
  },
  {
   "cell_type": "markdown",
   "metadata": {
    "Collapsed": "false"
   },
   "source": [
    "where $\\tilde{f} = D f$ is a real matrix of shape ($n_p$, $n_s$). $f$ is a real matrix of shape ($n_p$, $n_s$), $D$ is the convolution which is a real matrix of shape ($n_p$, $n_p$) and $H = R^T R$ is the regularization matrix."
   ]
  },
  {
   "cell_type": "markdown",
   "metadata": {
    "Collapsed": "false"
   },
   "source": [
    "$------------------------------------$"
   ]
  },
  {
   "cell_type": "markdown",
   "metadata": {
    "Collapsed": "false"
   },
   "source": [
    "For **complex** data we instead solve the system"
   ]
  },
  {
   "cell_type": "markdown",
   "metadata": {
    "Collapsed": "false"
   },
   "source": [
    "$\\left[ \\tilde{f_{\\Re}}^T \\tilde{f_{\\Re}} + \\tilde{f_{\\Im}}^T \\tilde{f_{\\Im}} \\right] x = \\tilde{f_{\\Re}}^T y_{\\Re} + \\tilde{f_{\\Im}}^T y_{\\Im}$"
   ]
  },
  {
   "cell_type": "markdown",
   "metadata": {
    "Collapsed": "false"
   },
   "source": [
    "where $\\tilde{f} = D f$ is a compex matrix of shape ($n_v$, $n_s$). $f$ is a real matrix of shape ($n_p$, $n_s$) and $D$ is the non-uniform fast fourier transform (NUFFT) which is a complex matrix of shape ($n_v$, $n_p$)."
   ]
  },
  {
   "cell_type": "markdown",
   "metadata": {
    "Collapsed": "false"
   },
   "source": [
    "***Note:*** Since we require the solution to be real the following inequality holds"
   ]
  },
  {
   "cell_type": "markdown",
   "metadata": {
    "Collapsed": "false"
   },
   "source": [
    "$ \\left( \\tilde{f_{\\Re}}^T \\tilde{f_{\\Re}} \\right)^{-1} \\tilde{f_{\\Re}}^T y_{\\Re} \\ne \\left( \\tilde{f_{\\Im}}^T \\tilde{f_{\\Im}} \\right)^{-1} \\tilde{f_{\\Im}}^T y_{\\Im}$"
   ]
  },
  {
   "cell_type": "markdown",
   "metadata": {
    "Collapsed": "false"
   },
   "source": [
    "In our matrix approach (for complex data), regularization is applied after we sum the real and imag components"
   ]
  },
  {
   "cell_type": "markdown",
   "metadata": {
    "Collapsed": "false"
   },
   "source": [
    "$\\left[ \\left(\\tilde{f_{\\Re}}^T \\tilde{f_{\\Re}} + \\tilde{f_{\\Im}}^T \\tilde{f_{\\Im}} \\right) + R^T R \\right] x = \\tilde{f_{\\Re}}^T y_{\\Re} + \\tilde{f_{\\Im}}^T y_{\\Im}$"
   ]
  },
  {
   "cell_type": "markdown",
   "metadata": {
    "Collapsed": "false"
   },
   "source": [
    "$------------------------------------$"
   ]
  },
  {
   "cell_type": "markdown",
   "metadata": {
    "Collapsed": "false"
   },
   "source": [
    "To summarize, in our matrix approach, the solution $x$ is always real as the matrix inversion is performed with \"real\" matrices, which have been constructed from the sum of the real and imag compponents of a originaly complex matrix."
   ]
  },
  {
   "cell_type": "markdown",
   "metadata": {
    "Collapsed": "false"
   },
   "source": [
    "| Object | Dimension | type | Description |\n",
    "|------|------|------|------|\n",
    "|   $n_v$  | - | - | # of visibilities |\n",
    "|   $n_p$  | - | - | # of image-plane pixels |\n",
    "|   $n_s$  | - | - | # of source-plane pixels |\n",
    "|------|------|------|\n",
    "|   $f$  | $(n_p, n_s)$ | real | mapping matrix |\n",
    "|   $D$  | $(n_v, n_p)$ | complex | non-uniform fast fourier transform (NUFFT) |\n",
    "|   $\\tilde{f}$  | $(n_v, n_s)$ | complex | NUFFT'd mapping matrix |"
   ]
  },
  {
   "cell_type": "markdown",
   "metadata": {
    "Collapsed": "false"
   },
   "source": [
    "# Pylops "
   ]
  },
  {
   "cell_type": "code",
   "execution_count": 3,
   "metadata": {
    "Collapsed": "false"
   },
   "outputs": [],
   "source": [
    "def NormalEquationsInversion_with_real_and_imag_Ops(\n",
    "    Op_real, \n",
    "    Op_imag, \n",
    "    data_real, \n",
    "    data_imag,\n",
    "    HOp=None,\n",
    "    returninfo=False, \n",
    "    **kwargs_cg\n",
    "):\n",
    "\n",
    "    OpH_real = Op_real.H\n",
    "    OpH_imag = Op_imag.H\n",
    "\n",
    "    Op_normal_real = OpH_real * Op_real\n",
    "    Op_normal_imag = OpH_imag * Op_imag\n",
    "    Op_normal = (Op_normal_real + Op_normal_imag)\n",
    "    \n",
    "    if HOp is not None:\n",
    "        Op_normal += HOp\n",
    "\n",
    "    y_normal_real = OpH_real * data_real\n",
    "    y_normal_imag = OpH_imag * data_imag\n",
    "    y_normal = y_normal_real + y_normal_imag\n",
    "\n",
    "    xinv, istop = sparse.linalg.cg(Op_normal, y_normal, **kwargs_cg)\n",
    "\n",
    "    if returninfo:\n",
    "        return xinv, istop\n",
    "    else:\n",
    "        return xinv\n",
    "    \n",
    "    \n",
    "def NormalEquationsInversion(\n",
    "    Op, \n",
    "    data, \n",
    "    HOp=None,\n",
    "    returninfo=False, \n",
    "    **kwargs_cg\n",
    "):\n",
    "\n",
    "    OpH = Op.H\n",
    "\n",
    "    Op_normal = OpH * Op\n",
    "    \n",
    "    if HOp is not None:\n",
    "        Op_normal += HOp\n",
    "\n",
    "    y_normal = OpH * data\n",
    "\n",
    "    xinv, istop = sparse.linalg.cg(Op_normal, y_normal, **kwargs_cg)\n",
    "\n",
    "    if returninfo:\n",
    "        return xinv, istop\n",
    "    else:\n",
    "        return xinv"
   ]
  },
  {
   "cell_type": "markdown",
   "metadata": {
    "Collapsed": "false"
   },
   "source": [
    "***The non-uniform fast fourier transform operator***"
   ]
  },
  {
   "cell_type": "code",
   "execution_count": 4,
   "metadata": {
    "Collapsed": "false"
   },
   "outputs": [],
   "source": [
    "class D_Op(NUFFT_cpu, pylops.LinearOperator):\n",
    "    def __init__(self, uv, shape_2d, reshaping_x=True):\n",
    "        super(D_Op, self).__init__()\n",
    "\n",
    "        self.u, self.v = uv.T\n",
    "\n",
    "        om = np.array([self.u, self.v]).T\n",
    "        \n",
    "        self.shape_2d = shape_2d\n",
    "\n",
    "        self.plan(\n",
    "            om=om,\n",
    "            Nd=self.shape_2d,\n",
    "            Kd=(\n",
    "                int(2 * self.shape_2d[0]),\n",
    "                int(2 * self.shape_2d[1])\n",
    "            ),\n",
    "            Jd=(6, 6),\n",
    "        )\n",
    "\n",
    "        n_p = int(self.shape_2d[0] * self.shape_2d[1])\n",
    "\n",
    "        self.shape = (uv.shape[0], n_p)\n",
    "        self.dtype = \"complex128\"\n",
    "        self.explicit = False\n",
    "        \n",
    "        self.reshaping_x = reshaping_x\n",
    "        \n",
    "    def reshape_x(self, x):\n",
    "        # NOTE: The array \"x\" is real as it represents an image of shape (n * n; i.e. flattened). This function\n",
    "        # reshaped the array to (n, n).\n",
    "        return x.reshape(self.shape_2d)\n",
    "\n",
    "    def forward_lop(self, x):\n",
    "        # NOTE: Takes an \"image\" (array) of shape (n, n) and performs the non-uniform \n",
    "        # fast fourier transform resulting in a complex matrix of length n_v.\n",
    "        \n",
    "        # NOTE: The array \"x\" that is passed was flattened so we reshape it to the shape (n, n)\n",
    "        # that NUFFT requires.\n",
    "        if self.reshaping_x:\n",
    "            x = self.reshape_x(x=x)\n",
    "            \n",
    "        y = self.k2y(self.xx2k(self.x2xx(x)))\n",
    "\n",
    "        return y\n",
    "\n",
    "    def adjoint_lop(self, y):\n",
    "\n",
    "        x = self.xx2x(self.k2xx(self.y2k(y)))\n",
    "\n",
    "        return x\n",
    "\n",
    "    def _matvec(self, x):\n",
    "        return self.forward_lop(x)\n",
    "\n",
    "    def _rmatvec(self, x):\n",
    "        return self.adjoint_lop(x)\n",
    "    \n",
    "    \n",
    "class D_Op_real(D_Op):\n",
    "\n",
    "    def _forward_lop(self, x):\n",
    "        return np.real(self.forward_lop(x=x))\n",
    "\n",
    "    def _adjoint_lop(self, y):\n",
    "        return np.real(self.adjoint_lop(y=y))\n",
    "\n",
    "    def _matvec(self, x):\n",
    "        return self._forward_lop(x)\n",
    "\n",
    "    def _rmatvec(self, x):\n",
    "        return self._adjoint_lop(x)\n",
    "\n",
    "class D_Op_imag(D_Op):\n",
    "\n",
    "    def _forward_lop(self, x):\n",
    "        return np.imag(self.forward_lop(x=x))\n",
    "\n",
    "    def _adjoint_lop(self, y):\n",
    "        return np.imag(self.adjoint_lop(y=y))\n",
    "\n",
    "    def _matvec(self, x):\n",
    "        return self._forward_lop(x)\n",
    "\n",
    "    def _rmatvec(self, x):\n",
    "        return self._adjoint_lop(x)"
   ]
  },
  {
   "cell_type": "markdown",
   "metadata": {
    "Collapsed": "false"
   },
   "source": [
    "**The regularization operator**"
   ]
  },
  {
   "cell_type": "code",
   "execution_count": 5,
   "metadata": {
    "Collapsed": "false"
   },
   "outputs": [],
   "source": [
    "class H_Op(pylops.LinearOperator):\n",
    "    def __init__(self, h, dtype=\"float64\"):\n",
    "\n",
    "        self.h = h\n",
    "        self.pixels = h.shape[0]\n",
    "        self.dims = self.pixels\n",
    "        self.shape = (self.pixels, self.pixels)\n",
    "        self.dtype = dtype\n",
    "        self.explicit = False\n",
    "\n",
    "    def _matvec(self, x):\n",
    "        return np.dot(self.h, x)\n",
    "\n",
    "    def _rmatvec(self, x):\n",
    "        return np.dot(self.h.T, x)"
   ]
  },
  {
   "cell_type": "markdown",
   "metadata": {
    "Collapsed": "false"
   },
   "source": [
    "# Tools"
   ]
  },
  {
   "cell_type": "markdown",
   "metadata": {
    "Collapsed": "false"
   },
   "source": [
    "## general"
   ]
  },
  {
   "cell_type": "code",
   "execution_count": null,
   "metadata": {
    "Collapsed": "false"
   },
   "outputs": [],
   "source": []
  },
  {
   "cell_type": "code",
   "execution_count": 6,
   "metadata": {
    "Collapsed": "false"
   },
   "outputs": [],
   "source": [
    "def a_complex_from_a_real_and_a_imag(\n",
    "    a_real, \n",
    "    a_imag\n",
    "):\n",
    "    # NOTE: Convert a numpy array of shape (n, 2) to a complex array of shape (n, )\n",
    "\n",
    "    a_complex = np.stack(\n",
    "        arrays=(a_real, a_imag), axis=-1\n",
    "    )\n",
    "\n",
    "    a_complex = np.apply_along_axis(\n",
    "        lambda args: [complex(*args)], len(a_complex.shape) - 1, a_complex\n",
    "    ).astype(\"complex128\")\n",
    "\n",
    "    return np.squeeze(a_complex)"
   ]
  },
  {
   "cell_type": "code",
   "execution_count": null,
   "metadata": {
    "Collapsed": "false"
   },
   "outputs": [],
   "source": []
  },
  {
   "cell_type": "code",
   "execution_count": 7,
   "metadata": {
    "Collapsed": "false"
   },
   "outputs": [],
   "source": [
    "# NOTE: Make a \"random\" sparse matrix (with 0's & 1's)\n",
    "def random_sparse_matrix(n_p, n_s):\n",
    "\n",
    "    def nonzero_to_ones(a):\n",
    "\n",
    "        a[np.where(a > 0.0)] = 1.0\n",
    "\n",
    "        return a\n",
    "\n",
    "    f_obj = sparse.random(\n",
    "        m=n_p, n=n_s\n",
    "    )\n",
    "\n",
    "    return nonzero_to_ones(\n",
    "        a=f_obj.A\n",
    "    )"
   ]
  },
  {
   "cell_type": "code",
   "execution_count": null,
   "metadata": {
    "Collapsed": "false"
   },
   "outputs": [],
   "source": []
  },
  {
   "cell_type": "code",
   "execution_count": 8,
   "metadata": {
    "Collapsed": "false"
   },
   "outputs": [],
   "source": [
    "def reshape(a, shape_2d):\n",
    "\n",
    "    return a.reshape(shape_2d)"
   ]
  },
  {
   "cell_type": "markdown",
   "metadata": {
    "Collapsed": "false"
   },
   "source": [
    "## visualization"
   ]
  },
  {
   "cell_type": "code",
   "execution_count": 9,
   "metadata": {
    "Collapsed": "false"
   },
   "outputs": [],
   "source": [
    "def plot_1_to_1_from_x(x):\n",
    "    \n",
    "    x_min = np.min(x)\n",
    "    x_max = np.max(x)\n",
    "    \n",
    "    plt.plot(\n",
    "        np.linspace(x_min, x_max, 10),\n",
    "        np.linspace(x_min, x_max, 10),\n",
    "        linestyle=\"--\",\n",
    "        color=\"black\"\n",
    "    )"
   ]
  },
  {
   "cell_type": "code",
   "execution_count": 10,
   "metadata": {
    "Collapsed": "false"
   },
   "outputs": [],
   "source": [
    "def add_colorbar_to_axes(figure, im, axes):\n",
    "\n",
    "    cax = make_axes_locatable(\n",
    "        axes\n",
    "    ).append_axes('right', size='5%', pad=0.05)\n",
    "\n",
    "    figure.colorbar(\n",
    "        im,\n",
    "        cax=cax,\n",
    "        orientation='vertical'\n",
    "    )"
   ]
  },
  {
   "cell_type": "code",
   "execution_count": 11,
   "metadata": {
    "Collapsed": "false"
   },
   "outputs": [],
   "source": [
    "def visualize_f(f, shape_2d, nrows, ncols, figsize):\n",
    "\n",
    "    if nrows * ncols < f.shape[-1]:\n",
    "        raise ValueError(\"\")\n",
    "        \n",
    "    figure, axes = plt.subplots(\n",
    "        nrows=nrows, ncols=ncols, figsize=figsize\n",
    "    )\n",
    "\n",
    "    k = 0\n",
    "    for i in range(nrows):\n",
    "        for j in range(ncols):\n",
    "\n",
    "            f_k = f[:, k]\n",
    "\n",
    "            f_k_reshaped = reshape(\n",
    "                a=f_k, shape_2d=shape_2d\n",
    "            )\n",
    "\n",
    "            axes[i, j].imshow(f_k_reshaped)\n",
    "\n",
    "            axes[i, j].set_xticks([])\n",
    "            axes[i, j].set_yticks([])\n",
    "\n",
    "            k += 1\n",
    "    \n",
    "    plt.subplots_adjust(wspace=0.05, hspace=0.05)\n",
    "    plt.show()"
   ]
  },
  {
   "cell_type": "markdown",
   "metadata": {
    "Collapsed": "false"
   },
   "source": [
    "# Examples"
   ]
  },
  {
   "cell_type": "markdown",
   "metadata": {
    "Collapsed": "true"
   },
   "source": [
    "## Example 1"
   ]
  },
  {
   "cell_type": "code",
   "execution_count": 11,
   "metadata": {
    "Collapsed": "false"
   },
   "outputs": [
    {
     "data": {
      "image/png": "[encoded data removed]",
      "text/plain": [
       "<Figure size 432x288 with 1 Axes>"
      ]
     },
     "metadata": {
      "needs_background": "light"
     },
     "output_type": "display_data"
    }
   ],
   "source": [
    "N_vis = 100\n",
    "N_grid = 400\n",
    "N_src = 20\n",
    "\n",
    "#f_real = np.random.normal(0.0, 1.0, size=(N_grid, N_src))\n",
    "#f_imag = np.random.normal(0.0, 1.0, size=(N_grid, N_src))\n",
    "\n",
    "f_tilde_real = np.random.normal(0.0, 1.0, size=(N_vis, N_src))\n",
    "f_tilde_imag = np.random.normal(0.0, 1.0, size=(N_vis, N_src))\n",
    "\n",
    "F_real = np.dot(f_tilde_real.T, f_tilde_real)\n",
    "F_imag = np.dot(f_tilde_imag.T, f_tilde_imag)\n",
    "\n",
    "d_real = np.random.normal(0.0, 1.0, size=(N_vis, ))\n",
    "d_imag = np.random.normal(0.0, 1.0, size=(N_vis, ))\n",
    "\n",
    "D_real = np.dot(f_tilde_real.T, d_real)\n",
    "D_imag = np.dot(f_tilde_imag.T, d_imag)\n",
    "\n",
    "# NOTE: This is the linear system Ax = y we are solving in our matrix approach.\n",
    "x = np.linalg.solve(\n",
    "    F_real + F_imag, \n",
    "    D_real + D_imag\n",
    ")\n",
    "\n",
    "# NOTE: For real-world applications D_real != D_imag & F_real != F_imag, therefore there is not\n",
    "# a single \"real\" vector x that satisfies both systems (this is in respose to https://github.com/PyLops/pylops_notebooks/blob/master/developement/ComplexMatmul.ipynb). \n",
    "x_real = np.linalg.solve(F_real, D_real)\n",
    "x_imag = np.linalg.solve(F_imag, D_imag)\n",
    "\n",
    "# ------------------ \n",
    "# NOTE: Method 1\n",
    "# ------------------ \n",
    "\n",
    "f_tilde_real_lops = pylops.MatrixMult(f_tilde_real, dtype='float64')\n",
    "f_tilde_imag_lops = pylops.MatrixMult(f_tilde_imag, dtype='float64')\n",
    "\n",
    "x_lops_method_1 = NormalEquationsInversion_with_real_and_imag_Ops(\n",
    "    Op_real=f_tilde_real_lops,\n",
    "    Op_imag=f_tilde_imag_lops,\n",
    "    data_real=d_real,\n",
    "    data_imag=d_imag\n",
    ")\n",
    "\n",
    "# ------------------ \n",
    "# NOTE: Method 2\n",
    "# ------------------\n",
    "\n",
    "f_tilde_complex = a_complex_from_a_real_and_a_imag(\n",
    "    a_real=f_tilde_real, \n",
    "    a_imag=f_tilde_imag\n",
    ")\n",
    "f_tilde_complex_lops = pylops.MatrixMult(\n",
    "    f_tilde_complex, dtype=\"complex128\"\n",
    ")\n",
    "\n",
    "d_complex = a_complex_from_a_real_and_a_imag(\n",
    "    a_real=d_real, a_imag=d_imag\n",
    ")\n",
    "\n",
    "x_lops_method_2 = NormalEquationsInversion(\n",
    "    Op=f_tilde_complex_lops,\n",
    "    data=d_complex\n",
    ")\n",
    "\n",
    "# ------------------ \n",
    "# visualization\n",
    "# ------------------ \n",
    "\n",
    "plt.figure()\n",
    "plt.plot(x, x_lops_method_1, linestyle=\"None\", marker=\"o\", color=\"black\")\n",
    "plt.plot(x, x_lops_method_2.real, linestyle=\"None\", marker=\"o\", color=\"b\")\n",
    "plt.plot(x, x_lops_method_2.imag, linestyle=\"None\", marker=\"o\", color=\"r\")\n",
    "#plt.plot(x_real, x_lops_method_2.real, linestyle=\"None\", marker=\"s\", color=\"b\")\n",
    "#plt.plot(x_imag, x_lops_method_2.imag, linestyle=\"None\", marker=\"s\", color=\"r\")\n",
    "x_min = np.min(x)\n",
    "x_max = np.max(x)\n",
    "plt.plot(\n",
    "    np.linspace(x_min, x_max, 10),\n",
    "    np.linspace(x_min, x_max, 10),\n",
    "    linestyle=\"--\",\n",
    "    color=\"black\"\n",
    ")\n",
    "plt.show()"
   ]
  },
  {
   "cell_type": "code",
   "execution_count": null,
   "metadata": {
    "Collapsed": "false"
   },
   "outputs": [],
   "source": []
  },
  {
   "cell_type": "code",
   "execution_count": 12,
   "metadata": {
    "Collapsed": "false"
   },
   "outputs": [
    {
     "data": {
      "image/png": "[encoded data removed]",
      "text/plain": [
       "<Figure size 576x864 with 12 Axes>"
      ]
     },
     "metadata": {
      "needs_background": "light"
     },
     "output_type": "display_data"
    }
   ],
   "source": [
    "prod_f_tilde_complex_H = np.dot(\n",
    "    f_tilde_complex.conj().T, \n",
    "    f_tilde_complex\n",
    ")\n",
    "prod_f_tilde_complex_T = np.dot(\n",
    "    f_tilde_complex.T, \n",
    "    f_tilde_complex\n",
    ")\n",
    "\n",
    "figure, axes = plt.subplots(\n",
    "    nrows=3, ncols=2, figsize=(8, 12)\n",
    ")\n",
    "\n",
    "im00 = axes[0, 0].imshow(prod_f_tilde_complex_H.real)\n",
    "im01 = axes[0, 1].imshow(prod_f_tilde_complex_H.imag)\n",
    "im10 = axes[1, 0].imshow(np.dot(f_tilde_real.conj().T, f_tilde_real))\n",
    "im11 = axes[1, 1].imshow(np.dot(f_tilde_imag.conj().T, f_tilde_imag))\n",
    "im20 = axes[2, 0].imshow(prod_f_tilde_complex_T.real)\n",
    "im21 = axes[2, 1].imshow(prod_f_tilde_complex_T.imag)\n",
    "\n",
    "add_colorbar_to_axes(figure=figure, im=im00, axes=axes[0, 0])\n",
    "add_colorbar_to_axes(figure=figure, im=im01, axes=axes[0, 1])\n",
    "add_colorbar_to_axes(figure=figure, im=im10, axes=axes[1, 0])\n",
    "add_colorbar_to_axes(figure=figure, im=im11, axes=axes[1, 1])\n",
    "add_colorbar_to_axes(figure=figure, im=im20, axes=axes[2, 0])\n",
    "add_colorbar_to_axes(figure=figure, im=im21, axes=axes[2, 1])\n",
    "\n",
    "for i in range(axes.shape[0]):\n",
    "    for j in range(axes.shape[1]):\n",
    "        axes[i, j].set_xticks([])\n",
    "        axes[i, j].set_yticks([])\n",
    "\n",
    "axes[0, 0].title.set_text(r\"$\\left( \\tilde{f}^{\\, H} \\tilde{f} \\right)_{\\Re}$\")\n",
    "axes[0, 1].title.set_text(r\"$\\left( \\tilde{f}^{\\, H} \\tilde{f} \\right)_{\\Im}$\")\n",
    "axes[1, 0].title.set_text(r\"$\\tilde{f}_{\\Re}^{\\, H} \\tilde{f}_{\\Re} \\equiv \\tilde{f}_{\\Re}^{\\, T} \\tilde{f}_{\\Re}$\")\n",
    "axes[1, 1].title.set_text(r\"$\\tilde{f}_{\\Im}^{\\, H} \\tilde{f}_{\\Im} \\equiv \\tilde{f}_{\\Im}^{\\, T} \\tilde{f}_{\\Im}$\")\n",
    "axes[2, 0].title.set_text(r\"$\\left( \\tilde{f}^{\\, T} \\tilde{f} \\right)_{\\Re}$\")\n",
    "axes[2, 1].title.set_text(r\"$\\left( \\tilde{f}^{\\, T} \\tilde{f} \\right)_{\\Im}$\")\n",
    "\n",
    "plt.show()"
   ]
  },
  {
   "cell_type": "markdown",
   "metadata": {
    "Collapsed": "false"
   },
   "source": [
    "## Example 2"
   ]
  },
  {
   "cell_type": "code",
   "execution_count": 12,
   "metadata": {
    "Collapsed": "false"
   },
   "outputs": [],
   "source": [
    "regularization = False"
   ]
  },
  {
   "cell_type": "code",
   "execution_count": null,
   "metadata": {
    "Collapsed": "false"
   },
   "outputs": [],
   "source": []
  },
  {
   "cell_type": "code",
   "execution_count": 13,
   "metadata": {
    "Collapsed": "false"
   },
   "outputs": [],
   "source": [
    "n_v = 100 # NOTE: n_v is the # of visibilities\n",
    "\n",
    "# NOTE: Non-uniform points in the uv-space\n",
    "u = np.random.uniform(-1.0, 1.0, n_v)\n",
    "v = np.random.uniform(-1.0, 1.0, n_v)\n",
    "\n",
    "uv = np.stack(\n",
    "    arrays=(u, v), axis=-1\n",
    ")"
   ]
  },
  {
   "cell_type": "markdown",
   "metadata": {
    "Collapsed": "false"
   },
   "source": [
    "Define the # of source-pixels, $n_s$, and the # image-pixels, $n_p$."
   ]
  },
  {
   "cell_type": "code",
   "execution_count": 14,
   "metadata": {
    "Collapsed": "false"
   },
   "outputs": [],
   "source": [
    "# NOTE: n_s is the # of source-plane pixels\n",
    "n_s = 20\n",
    "\n",
    "shape_2d = (20, 20)\n",
    "\n",
    "# NOTE: n_p is the # of image-plane pixels\n",
    "n_p = int(shape_2d[0] * shape_2d[1]) "
   ]
  },
  {
   "cell_type": "code",
   "execution_count": null,
   "metadata": {
    "Collapsed": "false"
   },
   "outputs": [],
   "source": []
  },
  {
   "cell_type": "code",
   "execution_count": 15,
   "metadata": {
    "Collapsed": "false"
   },
   "outputs": [],
   "source": [
    "f = random_sparse_matrix(\n",
    "    n_p=n_p, n_s=n_s\n",
    ")"
   ]
  },
  {
   "cell_type": "markdown",
   "metadata": {
    "Collapsed": "false"
   },
   "source": [
    "***NOTE:*** For real-world application each of the images below represents where in the image plane each source-pixel is mapped."
   ]
  },
  {
   "cell_type": "code",
   "execution_count": 16,
   "metadata": {
    "Collapsed": "false"
   },
   "outputs": [
    {
     "data": {
      "image/png": "[encoded data removed]",
      "text/plain": [
       "<Figure size 864x720 with 20 Axes>"
      ]
     },
     "metadata": {},
     "output_type": "display_data"
    }
   ],
   "source": [
    "visualize_f(\n",
    "    f=f, shape_2d=shape_2d, nrows=4, ncols=5, figsize=(12, 10)\n",
    ")"
   ]
  },
  {
   "cell_type": "markdown",
   "metadata": {
    "Collapsed": "false"
   },
   "source": [
    "***Initialize the non-uniform fast fourier transform operator.***"
   ]
  },
  {
   "cell_type": "code",
   "execution_count": 17,
   "metadata": {
    "Collapsed": "false"
   },
   "outputs": [],
   "source": [
    "Dop = D_Op(uv=uv, shape_2d=shape_2d)"
   ]
  },
  {
   "cell_type": "markdown",
   "metadata": {
    "Collapsed": "false"
   },
   "source": [
    "**Compute the $\\tilde{f}$ matrix**\n",
    "\n",
    "**NOTE:** In the **\"Matrix Formalism\"** we need to explicitly construct the matrix $\\tilde{f}$ which is a very expensive operation. For real-world problems $n_v$ is of the order of $\\sim 10^{9} - 10^{12}$ limiting us not only in terms of run times but also in terms of memory usage. **The goal with the \"Pylops Formalism\" is to express $\\tilde{f}$ as a linear Operator utilizing the fact that $f$ is sparse.**"
   ]
  },
  {
   "cell_type": "code",
   "execution_count": 18,
   "metadata": {
    "Collapsed": "false"
   },
   "outputs": [],
   "source": [
    "# NOTE: Construct the $\\tilde{f}$ matrix\n",
    "f_tilde = np.zeros(\n",
    "    shape=(n_v, n_s), dtype=\"complex\"\n",
    ")\n",
    "for i in range(f.shape[-1]):\n",
    "    f_tilde[:, i] = Dop.forward_lop(x=f[:, i])\n",
    "\n",
    "f_tilde_real = f_tilde.real\n",
    "f_tilde_imag = f_tilde.imag"
   ]
  },
  {
   "cell_type": "markdown",
   "metadata": {
    "Collapsed": "false"
   },
   "source": [
    "**NOTE:**"
   ]
  },
  {
   "cell_type": "code",
   "execution_count": 19,
   "metadata": {
    "Collapsed": "false"
   },
   "outputs": [
    {
     "data": {
      "image/png": "[encoded data removed]",
      "text/plain": [
       "<Figure size 864x720 with 20 Axes>"
      ]
     },
     "metadata": {},
     "output_type": "display_data"
    }
   ],
   "source": [
    "f_tilde_tilde = np.zeros(shape=f.shape)\n",
    "for i in range(f.shape[-1]):\n",
    "    f_tilde_tilde[:, i] = np.ndarray.flatten(\n",
    "        abs(Dop.adjoint_lop(y=f_tilde[:, i]))\n",
    "    )\n",
    "#     f_tilde_tilde[:, i] = np.ndarray.flatten(\n",
    "#         Dop.adjoint_lop(y=f_tilde_i).real\n",
    "#     )\n",
    "#     f_tilde_tilde[:, i] = np.ndarray.flatten(\n",
    "#         Dop.adjoint_lop(y=f_tilde_i).imag\n",
    "#     )\n",
    "    \n",
    "visualize_f(\n",
    "    f=f_tilde_tilde, shape_2d=shape_2d, nrows=4, ncols=5, figsize=(12, 10)\n",
    ")"
   ]
  },
  {
   "cell_type": "markdown",
   "metadata": {
    "Collapsed": "false"
   },
   "source": [
    "**Initialize the**"
   ]
  },
  {
   "cell_type": "code",
   "execution_count": 20,
   "metadata": {
    "Collapsed": "false"
   },
   "outputs": [],
   "source": [
    "H = np.random.normal(0.0, 1.0, size=(n_s, n_s))\n",
    "\n",
    "# NOTE: ...\n",
    "HOp = H_Op(h=H)"
   ]
  },
  {
   "cell_type": "markdown",
   "metadata": {
    "Collapsed": "false"
   },
   "source": [
    "### Calculate"
   ]
  },
  {
   "cell_type": "code",
   "execution_count": 21,
   "metadata": {
    "Collapsed": "false"
   },
   "outputs": [],
   "source": [
    "y_real = np.random.normal(0.0, 1.0, size=(n_v, ))\n",
    "y_imag = np.random.normal(0.0, 1.0, size=(n_v, ))"
   ]
  },
  {
   "cell_type": "markdown",
   "metadata": {
    "Collapsed": "false"
   },
   "source": [
    "**Matrix Formalism:**"
   ]
  },
  {
   "cell_type": "code",
   "execution_count": 22,
   "metadata": {
    "Collapsed": "false"
   },
   "outputs": [],
   "source": [
    "F_real = np.dot(f_tilde_real.T, f_tilde_real)\n",
    "F_imag = np.dot(f_tilde_imag.T, f_tilde_imag)\n",
    "\n",
    "D_real = np.dot(f_tilde_real.T, y_real)\n",
    "D_imag = np.dot(f_tilde_imag.T, y_imag)\n",
    "\n",
    "if regularization:\n",
    "    x = np.linalg.solve(\n",
    "        (F_real + F_imag) + H,\n",
    "        D_real + D_imag\n",
    "    )\n",
    "else:\n",
    "    x = np.linalg.solve(\n",
    "        F_real + F_imag,\n",
    "        D_real + D_imag\n",
    "    )\n",
    "\n",
    "# NOTE: \n",
    "if regularization:\n",
    "    x_real = np.linalg.solve(F_real + H, D_real)\n",
    "    x_imag = np.linalg.solve(F_imag + H, D_imag)\n",
    "else:\n",
    "    x_real = np.linalg.solve(F_real, D_real)\n",
    "    x_imag = np.linalg.solve(F_imag, D_imag)"
   ]
  },
  {
   "cell_type": "markdown",
   "metadata": {
    "Collapsed": "false"
   },
   "source": [
    "**Pylops Formalism (method 1):**"
   ]
  },
  {
   "cell_type": "code",
   "execution_count": 24,
   "metadata": {
    "Collapsed": "false"
   },
   "outputs": [],
   "source": [
    "# NOTE: This is the current version of our Pylops formalism (i.e. method 1). It gives us a \n",
    "# complex solution which is not what we want.\n",
    "f_lops = pylops.MatrixMult(\n",
    "    sparse.bsr_matrix(f), dtype='float64'\n",
    ")\n",
    "\n",
    "Op = Dop * f_lops\n",
    "\n",
    "data = a_complex_from_a_real_and_a_imag(\n",
    "    a_real=y_real, a_imag=y_imag\n",
    ")\n",
    "\n",
    "x_lops = NormalEquationsInversion(\n",
    "    Op=Op, \n",
    "    data=data,\n",
    "    HOp=HOp if regularization else None\n",
    ")"
   ]
  },
  {
   "cell_type": "markdown",
   "metadata": {
    "Collapsed": "false"
   },
   "source": [
    "**Pylops Formalism (method 2):**"
   ]
  },
  {
   "cell_type": "code",
   "execution_count": 25,
   "metadata": {
    "Collapsed": "false"
   },
   "outputs": [
    {
     "name": "stdout",
     "output_type": "stream",
     "text": [
      "[ 0.17036089+0.j -0.0142587 +0.j -0.36764071+0.j  0.18918713+0.j\n",
      "  0.42703021+0.j -0.06510753+0.j  0.53817933+0.j -0.35626186+0.j\n",
      "  0.04320395+0.j  0.59848749+0.j -0.11403501+0.j  0.05812718+0.j\n",
      "  0.11736299+0.j -0.0085852 +0.j -0.1551479 +0.j  0.36739058+0.j\n",
      " -0.03251874+0.j -0.08872518+0.j  0.00202524+0.j -0.08835063+0.j]\n"
     ]
    }
   ],
   "source": [
    "# NOTE: This is a modified version of our Pylops formalism (i.e. method 2), which is \n",
    "# still not giving us the same answer as the Matrix Formalism.\n",
    "Dop_real = D_Op_real(uv=uv, shape_2d=shape_2d)\n",
    "Dop_imag = D_Op_imag(uv=uv, shape_2d=shape_2d)\n",
    "\n",
    "f_lops = pylops.MatrixMult(\n",
    "    sparse.bsr_matrix(f), dtype='float64'\n",
    ")\n",
    "\n",
    "Op_real = Dop_real * f_lops\n",
    "Op_imag = Dop_imag * f_lops\n",
    "\n",
    "x_lops_with_real_and_imag_Ops = NormalEquationsInversion_with_real_and_imag_Ops(\n",
    "    Op_real=Op_real, \n",
    "    Op_imag=Op_imag, \n",
    "    data_real=y_real, \n",
    "    data_imag=y_imag, \n",
    "    HOp=HOp if regularization else None\n",
    ")\n",
    "\n",
    "# NOTE: Now the solution is \"real\" or rather the \"imag\" component is zero.\n",
    "print(x_lops_with_real_and_imag_Ops)\n",
    "\n",
    "x_lops_with_real_and_imag_Ops = x_lops_with_real_and_imag_Ops.real"
   ]
  },
  {
   "cell_type": "markdown",
   "metadata": {
    "Collapsed": "false"
   },
   "source": [
    "**NOTE: Does this gives us an indication of what the problem might be?**"
   ]
  },
  {
   "cell_type": "code",
   "execution_count": 26,
   "metadata": {
    "Collapsed": "false"
   },
   "outputs": [
    {
     "name": "stdout",
     "output_type": "stream",
     "text": [
      "x =  [-0.28665525  0.04820742 -0.08206958 -0.05093946  0.07007252  0.03304378\n",
      "  0.10668977 -0.12125273 -0.05059579  0.08114552 -0.06660077  0.0484627\n",
      " -0.03066496 -0.04714197  0.01512673  0.07880296  0.07123624  0.05847628\n",
      " -0.01573174 -0.05263321] \n",
      "x_inv =  [-0.01310488-0.00141818j  0.02386945-0.00307768j -0.0083828 +0.01087614j\n",
      "  0.00341187-0.00164533j  0.03265119-0.00221751j  0.00293867+0.00238067j\n",
      "  0.01121482+0.00011667j -0.00430309-0.00418274j -0.0012398 -0.00265153j\n",
      "  0.00198892+0.00207287j -0.0202566 +0.00228484j -0.00490512-0.00128214j\n",
      " -0.02264233+0.00184252j -0.00501198+0.00161582j  0.01752956+0.00039427j\n",
      "  0.01586188+0.00375256j  0.0092758 -0.0036826j   0.04702268+0.00080719j\n",
      " -0.01207794-0.00635768j -0.00812313+0.00065j   ] \n",
      "x_inv_real =  [-0.00487442  0.02062914 -0.01112499 -0.00549459  0.0183015  -0.00185079\n",
      "  0.00611023 -0.00786149 -0.00657778  0.00243599 -0.01166235  0.00668458\n",
      " -0.00696797 -0.00356022  0.01170076  0.00387074  0.00086792  0.0325856\n",
      " -0.00846337 -0.0057305 ] \n",
      " x_inv_imag =  [ 0.00823046 -0.00324031 -0.0027422  -0.00890646 -0.0143497  -0.00478946\n",
      " -0.00510459 -0.0035584  -0.00533798  0.00044707  0.00859426  0.0115897\n",
      "  0.01567436  0.00145176 -0.00582879 -0.01199114 -0.00840788 -0.01443708\n",
      "  0.00361457  0.00239263] \n",
      "\n"
     ]
    }
   ],
   "source": [
    "\n",
    "b = Op * x\n",
    "x_inv = Op.H * b\n",
    "\n",
    "b_real = Op_real * x\n",
    "b_imag = Op_imag * x\n",
    "\n",
    "x_inv_real = Op_real.H * b_real\n",
    "x_inv_imag = Op_imag.H * b_imag\n",
    "\n",
    "Op_from_real_and_imag_Ops = Op_real + Op_imag\n",
    "b_from_real_and_imag_Ops = Op_from_real_and_imag_Ops * x\n",
    "x_inv_from_real_and_imag_Ops = Op_from_real_and_imag_Ops.H * b_from_real_and_imag_Ops\n",
    "\n",
    "print(\n",
    "    \"x = \", x, \"\\n\"\n",
    "    \"x_inv = \", x_inv, \"\\n\"\n",
    "    \"x_inv_real = \", x_inv_real, \"\\n\",\n",
    "    \"x_inv_imag = \", x_inv_imag, \"\\n\",\n",
    "    #x_inv_from_real_and_imag_Ops\n",
    ")"
   ]
  },
  {
   "cell_type": "markdown",
   "metadata": {
    "Collapsed": "false"
   },
   "source": [
    "### visualization"
   ]
  },
  {
   "cell_type": "markdown",
   "metadata": {
    "Collapsed": "false"
   },
   "source": [
    "**Matrix Formalism:**\n",
    "\n",
    "Let's compare the $\\textbf{\"true\"}$ solution we get from solving the system\n",
    "\n",
    "$\\left[ \\tilde{f_{\\Re}}^T \\tilde{f_{\\Re}} + \\tilde{f_{\\Im}}^T \\tilde{f_{\\Im}} \\right] x = \\tilde{f_{\\Re}}^T y_{\\Re} + \\tilde{f_{\\Im}}^T y_{\\Im}$\n",
    "\n",
    "with the solutions we get from each of the following systems\n",
    "\n",
    "$\\left( \\tilde{f_{\\Re}}^T \\tilde{f_{\\Re}} \\right) x_{\\Re} = \\tilde{f_{\\Re}}^T y_{\\Re}$\n",
    "\n",
    "$\\left( \\tilde{f_{\\Im}}^T \\tilde{f_{\\Im}} \\right) x_{\\Im} = \\tilde{f_{\\Im}}^T y_{\\Im}$\n",
    "\n",
    "This is to demonstrate that\n",
    "\n",
    "$\\left( \\tilde{f_{\\Re}}^T \\tilde{f_{\\Re}} \\right)^{-1} \\tilde{f_{\\Re}}^T y_{\\Re} \\ne \\left( \\tilde{f_{\\Im}}^T \\tilde{f_{\\Im}} \\right)^{-1} \\tilde{f_{\\Im}}^T y_{\\Im}$\n",
    "\n",
    "which, however, we already showed in **Example 1**."
   ]
  },
  {
   "cell_type": "code",
   "execution_count": 27,
   "metadata": {
    "Collapsed": "false"
   },
   "outputs": [
    {
     "data": {
      "image/png": "[encoded data removed]",
      "text/plain": [
       "<Figure size 432x288 with 1 Axes>"
      ]
     },
     "metadata": {
      "needs_background": "light"
     },
     "output_type": "display_data"
    }
   ],
   "source": [
    "plt.plot(x, x_real, linestyle=\"None\", marker=\"o\", color=\"b\")\n",
    "\n",
    "plot_1_to_1_from_x(x=x)\n",
    "\n",
    "plt.show()"
   ]
  },
  {
   "cell_type": "code",
   "execution_count": 28,
   "metadata": {
    "Collapsed": "false"
   },
   "outputs": [
    {
     "data": {
      "image/png": "[encoded data removed]",
      "text/plain": [
       "<Figure size 432x288 with 1 Axes>"
      ]
     },
     "metadata": {
      "needs_background": "light"
     },
     "output_type": "display_data"
    }
   ],
   "source": [
    "plt.plot(x, x_imag, linestyle=\"None\", marker=\"o\", color=\"r\")\n",
    "\n",
    "plot_1_to_1_from_x(x=x)\n",
    "\n",
    "plt.show()"
   ]
  },
  {
   "cell_type": "code",
   "execution_count": null,
   "metadata": {
    "Collapsed": "false"
   },
   "outputs": [],
   "source": []
  },
  {
   "cell_type": "markdown",
   "metadata": {
    "Collapsed": "false"
   },
   "source": [
    "**Matrix vs Pylops Formalism:**\n",
    "\n",
    "Let's compare the solutions we get from each of the following systems using the Matrix Formalism\n",
    "\n",
    "$\\left( \\tilde{f_{\\Re}}^T \\tilde{f_{\\Re}} \\right) x_{\\Re} = \\tilde{f_{\\Re}}^T y_{\\Re}$\n",
    "\n",
    "$\\left( \\tilde{f_{\\Im}}^T \\tilde{f_{\\Im}} \\right) x_{\\Im} = \\tilde{f_{\\Im}}^T y_{\\Im}$\n",
    "\n",
    "as well as the **\"true\"** solution we get from solving the system using again the Matrix Formalism\n",
    "\n",
    "$\\left[ \\tilde{f_{\\Re}}^T \\tilde{f_{\\Re}} + \\tilde{f_{\\Im}}^T \\tilde{f_{\\Im}} \\right] x = \\tilde{f_{\\Re}}^T y_{\\Re} + \\tilde{f_{\\Im}}^T y_{\\Im}$\n",
    "\n",
    "with the **\"complex\"** solution we get using the **\"method 1\"** version of the Pylops formalism\n",
    "\n",
    "$\\left[ \\tilde{f_{\\Re}}^T \\tilde{f_{\\Re}} + \\tilde{f_{\\Im}}^T \\tilde{f_{\\Im}} \\right] x = \\tilde{f_{\\Re}}^T y_{\\Re} + \\tilde{f_{\\Im}}^T y_{\\Im}$"
   ]
  },
  {
   "cell_type": "code",
   "execution_count": 29,
   "metadata": {
    "Collapsed": "false"
   },
   "outputs": [
    {
     "data": {
      "image/png": "[encoded data removed]",
      "text/plain": [
       "<Figure size 432x288 with 1 Axes>"
      ]
     },
     "metadata": {
      "needs_background": "light"
     },
     "output_type": "display_data"
    }
   ],
   "source": [
    "plt.plot(x_real, x_lops.real, linestyle=\"None\", marker=\"o\", color=\"b\")\n",
    "\n",
    "plot_1_to_1_from_x(x=x)\n",
    "\n",
    "plt.show()"
   ]
  },
  {
   "cell_type": "code",
   "execution_count": 30,
   "metadata": {
    "Collapsed": "false"
   },
   "outputs": [
    {
     "data": {
      "image/png": "[encoded data removed]",
      "text/plain": [
       "<Figure size 432x288 with 1 Axes>"
      ]
     },
     "metadata": {
      "needs_background": "light"
     },
     "output_type": "display_data"
    }
   ],
   "source": [
    "plt.plot(x_imag, x_lops.imag, linestyle=\"None\", marker=\"o\", color=\"r\")\n",
    "\n",
    "plot_1_to_1_from_x(x=x)\n",
    "\n",
    "plt.show()"
   ]
  },
  {
   "cell_type": "code",
   "execution_count": 31,
   "metadata": {
    "Collapsed": "false"
   },
   "outputs": [
    {
     "data": {
      "image/png": "[encoded data removed]",
      "text/plain": [
       "<Figure size 432x288 with 1 Axes>"
      ]
     },
     "metadata": {
      "needs_background": "light"
     },
     "output_type": "display_data"
    }
   ],
   "source": [
    "plt.figure()\n",
    "plt.plot(x, x_lops.real, linestyle=\"None\", marker=\"o\", color=\"b\")\n",
    "plt.plot(x, x_lops.imag, linestyle=\"None\", marker=\"o\", color=\"r\")\n",
    "\n",
    "plot_1_to_1_from_x(x=x)\n",
    "\n",
    "plt.show()"
   ]
  },
  {
   "cell_type": "markdown",
   "metadata": {
    "Collapsed": "false"
   },
   "source": [
    "**NOTE:** The **\"real\"** and **\"imag\"** solutions from the **Pyloops Formalism** do not agree."
   ]
  },
  {
   "cell_type": "code",
   "execution_count": 32,
   "metadata": {
    "Collapsed": "false"
   },
   "outputs": [
    {
     "data": {
      "image/png": "[encoded data removed]",
      "text/plain": [
       "<Figure size 432x288 with 1 Axes>"
      ]
     },
     "metadata": {
      "needs_background": "light"
     },
     "output_type": "display_data"
    }
   ],
   "source": [
    "plt.plot(x_lops.real, x_lops.imag, linestyle=\"None\", marker=\"o\", color=\"black\")\n",
    "\n",
    "plot_1_to_1_from_x(x=x)\n",
    "\n",
    "plt.show()"
   ]
  },
  {
   "cell_type": "code",
   "execution_count": null,
   "metadata": {
    "Collapsed": "false"
   },
   "outputs": [],
   "source": []
  },
  {
   "cell_type": "markdown",
   "metadata": {
    "Collapsed": "false"
   },
   "source": [
    "**Matrix vs Pylops Formalism:**\n",
    "\n",
    "Let's compare the $\\textbf{\"true\"}$ solution we get from solving the system using the **Matrix Formalism**\n",
    "\n",
    "$\\left[ \\tilde{f_{\\Re}}^T \\tilde{f_{\\Re}} + \\tilde{f_{\\Im}}^T \\tilde{f_{\\Im}} \\right] x = \\tilde{f_{\\Re}}^T y_{\\Re} + \\tilde{f_{\\Im}}^T y_{\\Im}$\n",
    "\n",
    "with the **\"real\"** solution we get using the **\"method 2\"** version of the **Pylops Formalism**."
   ]
  },
  {
   "cell_type": "code",
   "execution_count": 33,
   "metadata": {
    "Collapsed": "false"
   },
   "outputs": [
    {
     "data": {
      "image/png": "[encoded data removed]",
      "text/plain": [
       "<Figure size 432x288 with 1 Axes>"
      ]
     },
     "metadata": {
      "needs_background": "light"
     },
     "output_type": "display_data"
    }
   ],
   "source": [
    "plt.figure()\n",
    "plt.plot(x, x_lops_with_real_and_imag_Ops, linestyle=\"None\", marker=\"s\", color=\"g\")\n",
    "\n",
    "plot_1_to_1_from_x(x=x)\n",
    "\n",
    "plt.show()"
   ]
  },
  {
   "cell_type": "code",
   "execution_count": null,
   "metadata": {
    "Collapsed": "false"
   },
   "outputs": [],
   "source": []
  },
  {
   "cell_type": "code",
   "execution_count": null,
   "metadata": {
    "Collapsed": "false"
   },
   "outputs": [],
   "source": []
  },
  {
   "cell_type": "code",
   "execution_count": null,
   "metadata": {
    "Collapsed": "false"
   },
   "outputs": [],
   "source": []
  }
 ],
 "metadata": {
  "kernelspec": {
   "display_name": "Python 3",
   "language": "python",
   "name": "python3"
  },
  "language_info": {
   "codemirror_mode": {
    "name": "ipython",
    "version": 3
   },
   "file_extension": ".py",
   "mimetype": "text/x-python",
   "name": "python",
   "nbconvert_exporter": "python",
   "pygments_lexer": "ipython3",
   "version": "3.7.4"
  }
 },
 "nbformat": 4,
 "nbformat_minor": 4
}
