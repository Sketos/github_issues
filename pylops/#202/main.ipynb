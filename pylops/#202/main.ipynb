{
 "cells": [
  {
   "cell_type": "code",
   "execution_count": 1,
   "metadata": {
    "Collapsed": "false"
   },
   "outputs": [],
   "source": [
    "import numpy as np\n",
    "import matplotlib.pyplot as plt\n",
    "\n",
    "from mpl_toolkits.axes_grid1 import make_axes_locatable\n",
    "\n",
    "from scipy import sparse\n",
    "\n",
    "from pynufft import NUFFT_cpu\n",
    "\n",
    "import pylops"
   ]
  },
  {
   "cell_type": "markdown",
   "metadata": {
    "Collapsed": "false"
   },
   "source": [
    "# Description of the matrix approach "
   ]
  },
  {
   "cell_type": "markdown",
   "metadata": {
    "Collapsed": "false"
   },
   "source": [
    "For real data we solve the system"
   ]
  },
  {
   "cell_type": "markdown",
   "metadata": {
    "Collapsed": "false"
   },
   "source": [
    "$\\left[ \\tilde{f}^T \\tilde{f} + R^T T \\right] x = \\tilde{f}^T y$"
   ]
  },
  {
   "cell_type": "markdown",
   "metadata": {
    "Collapsed": "false"
   },
   "source": [
    "where $\\tilde{f} = D f$ is a real matrix of shape ($n_p$, $n_s$). $f$ is a real matrix of shape ($n_p$, $n_s$) and $D$ is the convolution which is a real matrix of shape ($n_p$, $n_p$)."
   ]
  },
  {
   "cell_type": "markdown",
   "metadata": {
    "Collapsed": "false"
   },
   "source": [
    "$------------------------------------$"
   ]
  },
  {
   "cell_type": "markdown",
   "metadata": {
    "Collapsed": "false"
   },
   "source": [
    "For complex data we instead solve the system"
   ]
  },
  {
   "cell_type": "markdown",
   "metadata": {
    "Collapsed": "false"
   },
   "source": [
    "$\\left[ \\tilde{f_{\\Re}}^T \\tilde{f_{\\Re}} + \\tilde{f_{\\Im}}^T \\tilde{f_{\\Im}} \\right] x = \\tilde{f_{\\Re}}^T y_{\\Re} + \\tilde{f_{\\Im}}^T y_{\\Im}$"
   ]
  },
  {
   "cell_type": "markdown",
   "metadata": {
    "Collapsed": "false"
   },
   "source": [
    "where $\\tilde{f} = D f$ is a compex matrix of shape ($n_v$, $n_s$). $f$ is a real matrix of shape ($n_p$, $n_s$) and $D$ is the non-uniform fast fourier transform (NUFFT) which is a complex matrix of shape ($n_v$, $n_p$)."
   ]
  },
  {
   "cell_type": "markdown",
   "metadata": {
    "Collapsed": "false"
   },
   "source": [
    "$\\textbf{Note}$ that since we require the solution to be real the following inequality holds"
   ]
  },
  {
   "cell_type": "markdown",
   "metadata": {
    "Collapsed": "false"
   },
   "source": [
    "$ (\\tilde{f_{\\Re}}^T \\tilde{f_{\\Re}})^{-1} \\tilde{f_{\\Re}}^T y_{\\Re} \\ne (\\tilde{f_{\\Im}}^T \\tilde{f_{\\Im}})^{-1} \\tilde{f_{\\Im}}^T y_{\\Im}$"
   ]
  },
  {
   "cell_type": "markdown",
   "metadata": {
    "Collapsed": "false"
   },
   "source": [
    "In our matrix approach (for complex data), regularization is applied after we sum the real and imag components"
   ]
  },
  {
   "cell_type": "markdown",
   "metadata": {
    "Collapsed": "false"
   },
   "source": [
    "$\\left[ \\left(\\tilde{f_{\\Re}}^T \\tilde{f_{\\Re}} + \\tilde{f_{\\Im}}^T \\tilde{f_{\\Im}} \\right) + R^T R \\right] x = \\tilde{f_{\\Re}}^T y_{\\Re} + \\tilde{f_{\\Im}}^T y_{\\Im}$"
   ]
  },
  {
   "cell_type": "markdown",
   "metadata": {
    "Collapsed": "false"
   },
   "source": [
    "$------------------------------------$"
   ]
  },
  {
   "cell_type": "markdown",
   "metadata": {
    "Collapsed": "false"
   },
   "source": [
    "To summarize, in our matrix approach, the solution $x$ is always real as the matrix inversion is performed with \"real\" matrices, which have been constructed from the sum of the real and imag compponents of a originaly complex matrix."
   ]
  },
  {
   "cell_type": "markdown",
   "metadata": {
    "Collapsed": "false"
   },
   "source": [
    "| Object | Dimension | type | Description |\n",
    "|------|------|------|------|\n",
    "|   $n_v$  | - | - | # of visibilities |\n",
    "|   $n_p$  | - | - | # of image-plane pixels |\n",
    "|   $n_s$  | - | - | # of source-plane pixels |\n",
    "|------|------|------|\n",
    "|   $f$  | $(n_p, n_s)$ | real | mapping matrix |\n",
    "|   $D$  | $(n_v, n_p)$ | complex | non-uniform fast fourier transform (NUFFT) |\n",
    "|   $\\tilde{f}$  | $(n_v, n_s)$ | complex | NUFFT'd mapping matrix |"
   ]
  },
  {
   "cell_type": "markdown",
   "metadata": {
    "Collapsed": "false"
   },
   "source": [
    "# Pylops "
   ]
  },
  {
   "cell_type": "code",
   "execution_count": 64,
   "metadata": {
    "Collapsed": "false"
   },
   "outputs": [],
   "source": [
    "def NormalEquationsInversion_with_real_and_imag_Ops(\n",
    "    Op_real, \n",
    "    Op_imag, \n",
    "    data_real, \n",
    "    data_imag, \n",
    "    returninfo=False, \n",
    "    **kwargs_cg\n",
    "):\n",
    "\n",
    "    OpH_real = Op_real.H\n",
    "    OpH_imag = Op_imag.H\n",
    "\n",
    "    Op_normal_real = OpH_real * Op_real\n",
    "    Op_normal_imag = OpH_imag * Op_imag\n",
    "    Op_normal = (Op_normal_real + Op_normal_imag)\n",
    "\n",
    "    y_normal_real = OpH_real * data_real\n",
    "    y_normal_imag = OpH_imag * data_imag\n",
    "    y_normal = y_normal_real + y_normal_imag\n",
    "\n",
    "    xinv, istop = sparse.linalg.cg(Op_normal, y_normal, **kwargs_cg)\n",
    "\n",
    "    if returninfo:\n",
    "        return xinv, istop\n",
    "    else:\n",
    "        return xinv\n",
    "    \n",
    "    \n",
    "def NormalEquationsInversion(\n",
    "    Op, \n",
    "    data, \n",
    "    returninfo=False, \n",
    "    **kwargs_cg\n",
    "):\n",
    "\n",
    "    OpH = Op.H\n",
    "\n",
    "    Op_normal = OpH * Op\n",
    "\n",
    "    y_normal = OpH * data\n",
    "\n",
    "    xinv, istop = sparse.linalg.cg(Op_normal, y_normal, **kwargs_cg)\n",
    "\n",
    "    if returninfo:\n",
    "        return xinv, istop\n",
    "    else:\n",
    "        return xinv"
   ]
  },
  {
   "cell_type": "code",
   "execution_count": null,
   "metadata": {
    "Collapsed": "false"
   },
   "outputs": [],
   "source": []
  },
  {
   "cell_type": "code",
   "execution_count": 65,
   "metadata": {
    "Collapsed": "false"
   },
   "outputs": [],
   "source": [
    "class D_Op(NUFFT_cpu, pylops.LinearOperator):\n",
    "    def __init__(self, uv, shape_2d, reshaping_x=True):\n",
    "        super(D_Op, self).__init__()\n",
    "\n",
    "        self.u, self.v = uv.T\n",
    "\n",
    "        om = np.array([self.u, self.v]).T\n",
    "        \n",
    "        self.shape_2d = shape_2d\n",
    "\n",
    "        self.plan(\n",
    "            om=om,\n",
    "            Nd=self.shape_2d,\n",
    "            Kd=(\n",
    "                int(2 * self.shape_2d[0]),\n",
    "                int(2 * self.shape_2d[1])\n",
    "            ),\n",
    "            Jd=(6, 6),\n",
    "        )\n",
    "\n",
    "        n_p = int(self.shape_2d[0] * self.shape_2d[1])\n",
    "\n",
    "        self.shape = (uv.shape[0], n_p)\n",
    "        self.dtype = \"complex128\"\n",
    "        self.explicit = False\n",
    "        \n",
    "        self.reshaping_x = reshaping_x\n",
    "        \n",
    "    def reshape_x(self, x):\n",
    "        return x.reshape(self.shape_2d)\n",
    "\n",
    "    def forward_lop(self, x):\n",
    "        # NOTE: Takes an \"image\" (array) of shape (n, n) and performs the non-uniform \n",
    "        # fast fourier transform resulting in a complex matrix of length n_v.\n",
    "        \n",
    "        # NOTE: The array that is passed was flattened so we reshape it to the shape (n, n)\n",
    "        # that NUFFT requires. The array \"x\" is real as it represents an image.\n",
    "        if self.reshaping_x:\n",
    "            x = self.reshape_x(x=x)\n",
    "            \n",
    "        y = self.k2y(self.xx2k(self.x2xx(x)))\n",
    "\n",
    "        return y\n",
    "\n",
    "    def adjoint_lop(self, y):\n",
    "\n",
    "        x = self.xx2x(self.k2xx(self.y2k(y)))\n",
    "\n",
    "        return x\n",
    "\n",
    "    def _matvec(self, x):\n",
    "        return self.forward_lop(x)\n",
    "\n",
    "    def _rmatvec(self, x):\n",
    "        return self.adjoint_lop(x)\n",
    "    \n",
    "    \n",
    "class D_Op_real(D_Op):\n",
    "    \n",
    "    def forward_lop(self, x):\n",
    "        \n",
    "        if self.reshaping_x:\n",
    "            x = self.reshape_x(x=x)\n",
    "            \n",
    "        y = self.k2y(self.xx2k(self.x2xx(x)))\n",
    "\n",
    "        return np.real(y)\n",
    "\n",
    "    def adjoint_lop(self, y):\n",
    "\n",
    "        x = self.xx2x(self.k2xx(self.y2k(y)))\n",
    "\n",
    "        return np.real(x)\n",
    "    \n",
    "\n",
    "class D_Op_imag(D_Op):\n",
    "    \n",
    "    def forward_lop(self, x):\n",
    "        \n",
    "        if self.reshaping_x:\n",
    "            x = self.reshape_x(x=x)\n",
    "            \n",
    "        y = self.k2y(self.xx2k(self.x2xx(x)))\n",
    "\n",
    "        return np.imag(y)\n",
    "\n",
    "    def adjoint_lop(self, y):\n",
    "\n",
    "        x = self.xx2x(self.k2xx(self.y2k(y)))\n",
    "\n",
    "        return np.imag(x)"
   ]
  },
  {
   "cell_type": "markdown",
   "metadata": {
    "Collapsed": "false"
   },
   "source": [
    "# Tools"
   ]
  },
  {
   "cell_type": "markdown",
   "metadata": {
    "Collapsed": "true"
   },
   "source": [
    "## general"
   ]
  },
  {
   "cell_type": "code",
   "execution_count": null,
   "metadata": {
    "Collapsed": "false"
   },
   "outputs": [],
   "source": []
  },
  {
   "cell_type": "code",
   "execution_count": 2,
   "metadata": {
    "Collapsed": "false"
   },
   "outputs": [],
   "source": [
    "def a_complex_from_a_real_and_a_imag(\n",
    "    a_real, \n",
    "    a_imag\n",
    "):\n",
    "    # NOTE: Convert a numpy array of shape (n, 2) to a complex array of shape (n, )\n",
    "\n",
    "    a_complex = np.stack(\n",
    "        arrays=(a_real, a_imag), axis=-1\n",
    "    )\n",
    "\n",
    "    a_complex = np.apply_along_axis(\n",
    "        lambda args: [complex(*args)], len(a_complex.shape) - 1, a_complex\n",
    "    ).astype(\"complex128\")\n",
    "\n",
    "    return np.squeeze(a_complex)"
   ]
  },
  {
   "cell_type": "code",
   "execution_count": null,
   "metadata": {
    "Collapsed": "false"
   },
   "outputs": [],
   "source": []
  },
  {
   "cell_type": "code",
   "execution_count": 3,
   "metadata": {
    "Collapsed": "false"
   },
   "outputs": [],
   "source": [
    "# NOTE: Make a \"random\" sparse matrix (with 0's & 1's)\n",
    "def random_sparse_matrix(n_p, n_s):\n",
    "\n",
    "    def nonzero_to_ones(a):\n",
    "\n",
    "        a[np.where(a > 0.0)] = 1.0\n",
    "\n",
    "        return a\n",
    "\n",
    "    f_obj = sparse.random(\n",
    "        m=n_p, n=n_s\n",
    "    )\n",
    "\n",
    "    return nonzero_to_ones(\n",
    "        a=f_obj.A\n",
    "    )"
   ]
  },
  {
   "cell_type": "code",
   "execution_count": null,
   "metadata": {
    "Collapsed": "false"
   },
   "outputs": [],
   "source": []
  },
  {
   "cell_type": "code",
   "execution_count": 4,
   "metadata": {
    "Collapsed": "false"
   },
   "outputs": [],
   "source": [
    "def reshape(a, shape_2d):\n",
    "\n",
    "    return a.reshape(shape_2d)"
   ]
  },
  {
   "cell_type": "markdown",
   "metadata": {
    "Collapsed": "true"
   },
   "source": [
    "## visualization"
   ]
  },
  {
   "cell_type": "code",
   "execution_count": 89,
   "metadata": {
    "Collapsed": "false"
   },
   "outputs": [],
   "source": [
    "def plot_1_to_1_from_x(x):\n",
    "    \n",
    "    x_min = np.min(x)\n",
    "    x_max = np.max(x)\n",
    "    \n",
    "    plt.plot(\n",
    "        np.linspace(x_min, x_max, 10),\n",
    "        np.linspace(x_min, x_max, 10),\n",
    "        linestyle=\"--\",\n",
    "        color=\"black\"\n",
    "    )"
   ]
  },
  {
   "cell_type": "code",
   "execution_count": 5,
   "metadata": {
    "Collapsed": "false"
   },
   "outputs": [],
   "source": [
    "def add_colorbar_to_axes(figure, im, axes):\n",
    "\n",
    "    cax = make_axes_locatable(\n",
    "        axes\n",
    "    ).append_axes('right', size='5%', pad=0.05)\n",
    "\n",
    "    figure.colorbar(\n",
    "        im,\n",
    "        cax=cax,\n",
    "        orientation='vertical'\n",
    "    )"
   ]
  },
  {
   "cell_type": "code",
   "execution_count": 51,
   "metadata": {
    "Collapsed": "false"
   },
   "outputs": [],
   "source": [
    "def visualize_f(f, shape_2d, nrows, ncols, figsize):\n",
    "\n",
    "    if nrows * ncols < f.shape[-1]:\n",
    "        raise ValueError(\"\")\n",
    "        \n",
    "    figure, axes = plt.subplots(\n",
    "        nrows=nrows, ncols=ncols, figsize=figsize\n",
    "    )\n",
    "\n",
    "    k = 0\n",
    "    for i in range(nrows):\n",
    "        for j in range(ncols):\n",
    "\n",
    "            f_k = f[:, k]\n",
    "\n",
    "            f_k_reshaped = reshape(\n",
    "                a=f_k, shape_2d=shape_2d\n",
    "            )\n",
    "\n",
    "            axes[i, j].imshow(f_k_reshaped)\n",
    "\n",
    "            axes[i, j].set_xticks([])\n",
    "            axes[i, j].set_yticks([])\n",
    "\n",
    "            k += 1\n",
    "    \n",
    "    plt.subplots_adjust(wspace=0.05, hspace=0.05)\n",
    "    plt.show()"
   ]
  },
  {
   "cell_type": "markdown",
   "metadata": {
    "Collapsed": "false"
   },
   "source": [
    "# Examples"
   ]
  },
  {
   "cell_type": "markdown",
   "metadata": {
    "Collapsed": "true"
   },
   "source": [
    "## Example 1"
   ]
  },
  {
   "cell_type": "code",
   "execution_count": 94,
   "metadata": {
    "Collapsed": "false"
   },
   "outputs": [
    {
     "data": {
      "image/png": "[encoded data removed]",
      "text/plain": [
       "<Figure size 432x288 with 1 Axes>"
      ]
     },
     "metadata": {
      "needs_background": "light"
     },
     "output_type": "display_data"
    }
   ],
   "source": [
    "N_vis = 100\n",
    "N_grid = 400\n",
    "N_src = 20\n",
    "\n",
    "#f_real = np.random.normal(0.0, 1.0, size=(N_grid, N_src))\n",
    "#f_imag = np.random.normal(0.0, 1.0, size=(N_grid, N_src))\n",
    "\n",
    "f_tilde_real = np.random.normal(0.0, 1.0, size=(N_vis, N_src))\n",
    "f_tilde_imag = np.random.normal(0.0, 1.0, size=(N_vis, N_src))\n",
    "\n",
    "F_real = np.dot(f_tilde_real.T, f_tilde_real)\n",
    "F_imag = np.dot(f_tilde_imag.T, f_tilde_imag)\n",
    "\n",
    "d_real = np.random.normal(0.0, 1.0, size=(N_vis, ))\n",
    "d_imag = np.random.normal(0.0, 1.0, size=(N_vis, ))\n",
    "\n",
    "D_real = np.dot(f_tilde_real.T, d_real)\n",
    "D_imag = np.dot(f_tilde_imag.T, d_imag)\n",
    "\n",
    "# NOTE: This is the linear system Ax = y we are solving in our matrix approach.\n",
    "x = np.linalg.solve(\n",
    "    F_real + F_imag, \n",
    "    D_real + D_imag\n",
    ")\n",
    "\n",
    "# NOTE: For real-world applications D_real != D_imag & F_real != F_imag, therefore there is not\n",
    "# a single \"real\" vector x that satisfies both systems (this is in respose to https://github.com/PyLops/pylops_notebooks/blob/master/developement/ComplexMatmul.ipynb). \n",
    "x_real = np.linalg.solve(F_real, D_real)\n",
    "x_imag = np.linalg.solve(F_imag, D_imag)\n",
    "\n",
    "# ------------------ \n",
    "# NOTE: Method 1\n",
    "# ------------------ \n",
    "\n",
    "f_tilde_real_lops = pylops.MatrixMult(f_tilde_real, dtype='float64')\n",
    "f_tilde_imag_lops = pylops.MatrixMult(f_tilde_imag, dtype='float64')\n",
    "\n",
    "x_lops_method_1 = NormalEquationsInversion_with_real_and_imag_Ops(\n",
    "    Op_real=f_tilde_real_lops,\n",
    "    Op_imag=f_tilde_imag_lops,\n",
    "    data_real=d_real,\n",
    "    data_imag=d_imag\n",
    ")\n",
    "\n",
    "# ------------------ \n",
    "# NOTE: Method 2\n",
    "# ------------------\n",
    "\n",
    "f_tilde_complex = a_complex_from_a_real_and_a_imag(\n",
    "    a_real=f_tilde_real, \n",
    "    a_imag=f_tilde_imag\n",
    ")\n",
    "f_tilde_complex_lops = pylops.MatrixMult(\n",
    "    f_tilde_complex, dtype=\"complex128\"\n",
    ")\n",
    "\n",
    "d_complex = a_complex_from_a_real_and_a_imag(\n",
    "    a_real=d_real, a_imag=d_imag\n",
    ")\n",
    "\n",
    "x_lops_method_2 = NormalEquationsInversion(\n",
    "    Op=f_tilde_complex_lops,\n",
    "    data=d_complex\n",
    ")\n",
    "\n",
    "# ------------------ \n",
    "# visualization\n",
    "# ------------------ \n",
    "\n",
    "plt.figure()\n",
    "plt.plot(x, x_lops_method_1, linestyle=\"None\", marker=\"o\", color=\"black\")\n",
    "plt.plot(x, x_lops_method_2.real, linestyle=\"None\", marker=\"o\", color=\"b\")\n",
    "plt.plot(x, x_lops_method_2.imag, linestyle=\"None\", marker=\"o\", color=\"r\")\n",
    "#plt.plot(x_real, x_lops_method_2.real, linestyle=\"None\", marker=\"s\", color=\"b\")\n",
    "#plt.plot(x_imag, x_lops_method_2.imag, linestyle=\"None\", marker=\"s\", color=\"r\")\n",
    "x_min = np.min(x)\n",
    "x_max = np.max(x)\n",
    "plt.plot(\n",
    "    np.linspace(x_min, x_max, 10),\n",
    "    np.linspace(x_min, x_max, 10),\n",
    "    linestyle=\"--\",\n",
    "    color=\"black\"\n",
    ")\n",
    "plt.show()"
   ]
  },
  {
   "cell_type": "code",
   "execution_count": null,
   "metadata": {
    "Collapsed": "false"
   },
   "outputs": [],
   "source": []
  },
  {
   "cell_type": "code",
   "execution_count": 93,
   "metadata": {
    "Collapsed": "false"
   },
   "outputs": [
    {
     "data": {
      "image/png": "[encoded data removed]",
      "text/plain": [
       "<Figure size 576x864 with 12 Axes>"
      ]
     },
     "metadata": {
      "needs_background": "light"
     },
     "output_type": "display_data"
    }
   ],
   "source": [
    "prod_f_tilde_complex_H = np.dot(\n",
    "    f_tilde_complex.conj().T, \n",
    "    f_tilde_complex\n",
    ")\n",
    "prod_f_tilde_complex_T = np.dot(\n",
    "    f_tilde_complex.T, \n",
    "    f_tilde_complex\n",
    ")\n",
    "\n",
    "figure, axes = plt.subplots(\n",
    "    nrows=3, ncols=2, figsize=(8, 12)\n",
    ")\n",
    "\n",
    "im00 = axes[0, 0].imshow(prod_f_tilde_complex_H.real)\n",
    "im01 = axes[0, 1].imshow(prod_f_tilde_complex_H.imag)\n",
    "im10 = axes[1, 0].imshow(np.dot(f_tilde_real.conj().T, f_tilde_real))\n",
    "im11 = axes[1, 1].imshow(np.dot(f_tilde_imag.conj().T, f_tilde_imag))\n",
    "im20 = axes[2, 0].imshow(prod_f_tilde_complex_T.real)\n",
    "im21 = axes[2, 1].imshow(prod_f_tilde_complex_T.imag)\n",
    "\n",
    "add_colorbar_to_axes(figure=figure, im=im00, axes=axes[0, 0])\n",
    "add_colorbar_to_axes(figure=figure, im=im01, axes=axes[0, 1])\n",
    "add_colorbar_to_axes(figure=figure, im=im10, axes=axes[1, 0])\n",
    "add_colorbar_to_axes(figure=figure, im=im11, axes=axes[1, 1])\n",
    "add_colorbar_to_axes(figure=figure, im=im20, axes=axes[2, 0])\n",
    "add_colorbar_to_axes(figure=figure, im=im21, axes=axes[2, 1])\n",
    "\n",
    "for i in range(axes.shape[0]):\n",
    "    for j in range(axes.shape[1]):\n",
    "        axes[i, j].set_xticks([])\n",
    "        axes[i, j].set_yticks([])\n",
    "\n",
    "axes[0, 0].title.set_text(r\"$\\left( \\tilde{f}^{\\, H} \\tilde{f} \\right)_{\\Re}$\")\n",
    "axes[0, 1].title.set_text(r\"$\\left( \\tilde{f}^{\\, H} \\tilde{f} \\right)_{\\Im}$\")\n",
    "axes[1, 0].title.set_text(r\"$\\tilde{f}_{\\Re}^{\\, H} \\tilde{f}_{\\Re} \\equiv \\tilde{f}_{\\Re}^{\\, T} \\tilde{f}_{\\Re}$\")\n",
    "axes[1, 1].title.set_text(r\"$\\tilde{f}_{\\Im}^{\\, H} \\tilde{f}_{\\Im} \\equiv \\tilde{f}_{\\Im}^{\\, T} \\tilde{f}_{\\Im}$\")\n",
    "axes[2, 0].title.set_text(r\"$\\left( \\tilde{f}^{\\, T} \\tilde{f} \\right)_{\\Re}$\")\n",
    "axes[2, 1].title.set_text(r\"$\\left( \\tilde{f}^{\\, T} \\tilde{f} \\right)_{\\Im}$\")\n",
    "\n",
    "plt.show()"
   ]
  },
  {
   "cell_type": "markdown",
   "metadata": {
    "Collapsed": "false"
   },
   "source": [
    "## Example 2"
   ]
  },
  {
   "cell_type": "code",
   "execution_count": 70,
   "metadata": {
    "Collapsed": "false"
   },
   "outputs": [],
   "source": [
    "n_v = 100 # NOTE: n_v is the # of visibilities\n",
    "\n",
    "# NOTE: Non-uniform points in the uv-space\n",
    "u = np.random.uniform(-1.0, 1.0, n_v)\n",
    "v = np.random.uniform(-1.0, 1.0, n_v)\n",
    "\n",
    "uv = np.stack(\n",
    "    arrays=(u, v), axis=-1\n",
    ")"
   ]
  },
  {
   "cell_type": "code",
   "execution_count": null,
   "metadata": {
    "Collapsed": "false"
   },
   "outputs": [],
   "source": []
  },
  {
   "cell_type": "code",
   "execution_count": 71,
   "metadata": {
    "Collapsed": "false"
   },
   "outputs": [],
   "source": [
    "n_s = 20  # NOTE: n_s is the # of source-plane pixels\n",
    "\n",
    "shape_2d = (20, 20)\n",
    "n_p = int(shape_2d[0] * shape_2d[1]) # NOTE: n_p is the # of image-plane pixels"
   ]
  },
  {
   "cell_type": "code",
   "execution_count": null,
   "metadata": {
    "Collapsed": "false"
   },
   "outputs": [],
   "source": []
  },
  {
   "cell_type": "code",
   "execution_count": 72,
   "metadata": {
    "Collapsed": "false"
   },
   "outputs": [],
   "source": [
    "f = random_sparse_matrix(\n",
    "    n_p=n_p, n_s=n_s\n",
    ")"
   ]
  },
  {
   "cell_type": "code",
   "execution_count": null,
   "metadata": {
    "Collapsed": "false"
   },
   "outputs": [],
   "source": []
  },
  {
   "cell_type": "code",
   "execution_count": 73,
   "metadata": {
    "Collapsed": "false"
   },
   "outputs": [
    {
     "data": {
      "image/png": "[encoded data removed]",
      "text/plain": [
       "<Figure size 864x720 with 20 Axes>"
      ]
     },
     "metadata": {},
     "output_type": "display_data"
    }
   ],
   "source": [
    "visualize_f(\n",
    "    f=f, shape_2d=shape_2d, nrows=4, ncols=5, figsize=(12, 10)\n",
    ")"
   ]
  },
  {
   "cell_type": "markdown",
   "metadata": {
    "Collapsed": "false"
   },
   "source": [
    "Define the non-uniform fast fourier transform operator, $D$."
   ]
  },
  {
   "cell_type": "code",
   "execution_count": 74,
   "metadata": {
    "Collapsed": "false"
   },
   "outputs": [],
   "source": [
    "Dop = D_Op(uv=uv, shape_2d=shape_2d)"
   ]
  },
  {
   "cell_type": "markdown",
   "metadata": {
    "Collapsed": "false"
   },
   "source": [
    "In the $\\textbf{Matrix Formalism}$ we need to explicitly construct the matrix $\\tilde{f}$ which is a very expensive operation. For real-world problem $n_v$ is of the order of $\\sim 10^{9} - 10^{12}$ limiting us not only in terms of run times but also in memory usage. The goal with the Pylops approach is to express $\\tilde{f}$ as a linear Operator utilizing the fact that $f$ is sparse."
   ]
  },
  {
   "cell_type": "code",
   "execution_count": 75,
   "metadata": {
    "Collapsed": "false"
   },
   "outputs": [],
   "source": [
    "# NOTE: Construct the $\\tilde{f}$ matrix\n",
    "f_tilde = np.zeros(\n",
    "    shape=(n_v, n_s), dtype=\"complex\"\n",
    ")\n",
    "for i in range(f.shape[-1]):\n",
    "    f_tilde[:, i] = Dop.forward_lop(x=f[:, i])\n",
    "\n",
    "f_tilde_real = f_tilde.real\n",
    "f_tilde_imag = f_tilde.imag"
   ]
  },
  {
   "cell_type": "markdown",
   "metadata": {
    "Collapsed": "false"
   },
   "source": [
    "$\\textbf{Matrix Formalism:}$ Solve the system $\\left( \\tilde{f}^T_{\\Re} \\tilde{f}_{\\Re} + \\tilde{f}^T_{\\Im} \\tilde{f}_{\\Im} \\right) x = \\tilde{f}^T_{\\Re} y_{\\Re} + \\tilde{f}^T_{\\Im} y_{\\Im}$"
   ]
  },
  {
   "cell_type": "code",
   "execution_count": 80,
   "metadata": {
    "Collapsed": "false"
   },
   "outputs": [],
   "source": [
    "F_real = np.dot(f_tilde_real.T, f_tilde_real)\n",
    "F_imag = np.dot(f_tilde_imag.T, f_tilde_imag)\n",
    "\n",
    "y_real = np.random.normal(0.0, 1.0, size=(n_v, ))\n",
    "y_imag = np.random.normal(0.0, 1.0, size=(n_v, ))\n",
    "\n",
    "D_real = np.dot(f_tilde_real.T, y_real)\n",
    "D_imag = np.dot(f_tilde_imag.T, y_imag)\n",
    "\n",
    "x = np.linalg.solve(\n",
    "    F_real + F_imag,\n",
    "    D_real + D_imag\n",
    ")\n",
    "\n",
    "x_real = np.linalg.solve(F_real, D_real)\n",
    "x_imag = np.linalg.solve(F_imag, D_imag)"
   ]
  },
  {
   "cell_type": "markdown",
   "metadata": {
    "Collapsed": "false"
   },
   "source": [
    "$\\textbf{Pylops Formalism:}$"
   ]
  },
  {
   "cell_type": "code",
   "execution_count": 77,
   "metadata": {
    "Collapsed": "false"
   },
   "outputs": [],
   "source": [
    "# NOTE: This is the current version of our Pylops formalism. It gives us a complex solution\n",
    "# which is not what we want.\n",
    "f_lops = pylops.MatrixMult(\n",
    "    sparse.bsr_matrix(f), dtype='float64'\n",
    ")\n",
    "\n",
    "Op = Dop * f_lops\n",
    "\n",
    "data = a_complex_from_a_real_and_a_imag(\n",
    "    a_real=d_real, a_imag=d_imag\n",
    ")\n",
    "\n",
    "x_lops = NormalEquationsInversion(\n",
    "    Op=Op, data=data\n",
    ")"
   ]
  },
  {
   "cell_type": "markdown",
   "metadata": {
    "Collapsed": "false"
   },
   "source": [
    "$\\textbf{Pylops Formalism:}$"
   ]
  },
  {
   "cell_type": "code",
   "execution_count": 78,
   "metadata": {
    "Collapsed": "false"
   },
   "outputs": [
    {
     "name": "stdout",
     "output_type": "stream",
     "text": [
      "[-0.88132287+0.j  0.22019197+0.j  1.1576273 +0.j -0.53763505+0.j\n",
      " -0.33841758+0.j  1.11444225+0.j -0.03064736+0.j  0.10497791+0.j\n",
      "  0.4623538 +0.j -0.6934789 +0.j -0.69099218+0.j -0.98972161+0.j\n",
      " -0.08840827+0.j -0.03912813+0.j -0.01114569+0.j -0.73325282+0.j\n",
      "  0.50998213+0.j  0.68060034+0.j -0.39842327+0.j  0.59574586+0.j]\n"
     ]
    }
   ],
   "source": [
    "# NOTE: This is the modified version of our Pylops formalism, which is still not right\n",
    "Dop_real = D_Op_real(uv=uv, shape_2d=shape_2d)\n",
    "Dop_imag = D_Op_imag(uv=uv, shape_2d=shape_2d)\n",
    "\n",
    "Op_real = Dop_real * f_lops\n",
    "Op_imag = Dop_imag * f_lops\n",
    "\n",
    "x_lops_with_real_and_imag_Ops = NormalEquationsInversion_with_real_and_imag_Ops(\n",
    "    Op_real=Op_real, \n",
    "    Op_imag=Op_imag, \n",
    "    data_real=d_real, \n",
    "    data_imag=d_imag, \n",
    ")\n",
    "\n",
    "# NOTE: Now the solution is \"real\" or rather the \"imag\" component is zero.\n",
    "print(x_lops_with_real_and_imag_Ops)\n",
    "\n",
    "x_lops_with_real_and_imag_Ops = x_lops_with_real_and_imag_Ops.real"
   ]
  },
  {
   "cell_type": "markdown",
   "metadata": {
    "Collapsed": "false"
   },
   "source": [
    "$\\textbf{Matrix Formalism:}$\n",
    "\n",
    "Let's compare the $\\textbf{\"true\"}$ solution we get from solving the system\n",
    "\n",
    "$\\left[ \\tilde{f_{\\Re}}^T \\tilde{f_{\\Re}} + \\tilde{f_{\\Im}}^T \\tilde{f_{\\Im}} \\right] x = \\tilde{f_{\\Re}}^T y_{\\Re} + \\tilde{f_{\\Im}}^T y_{\\Im}$\n",
    "\n",
    "with the solutions we get from each of the following systems\n",
    "\n",
    "$\\left( \\tilde{f_{\\Re}}^T \\tilde{f_{\\Re}} \\right) x_{\\Re} = \\tilde{f_{\\Re}}^T y_{\\Re}$\n",
    "\n",
    "$\\left( \\tilde{f_{\\Im}}^T \\tilde{f_{\\Im}} \\right) x_{\\Im} = \\tilde{f_{\\Im}}^T y_{\\Im}$"
   ]
  },
  {
   "cell_type": "code",
   "execution_count": 87,
   "metadata": {
    "Collapsed": "false"
   },
   "outputs": [
    {
     "data": {
      "image/png": "[encoded data removed]",
      "text/plain": [
       "<Figure size 432x288 with 1 Axes>"
      ]
     },
     "metadata": {
      "needs_background": "light"
     },
     "output_type": "display_data"
    }
   ],
   "source": [
    "plt.plot(x, x_real, linestyle=\"None\", marker=\"o\", color=\"b\")\n",
    "\n",
    "plot_1_to_1_from_x(x=x)\n",
    "\n",
    "plt.show()"
   ]
  },
  {
   "cell_type": "code",
   "execution_count": 88,
   "metadata": {
    "Collapsed": "false"
   },
   "outputs": [
    {
     "data": {
      "image/png": "[encoded data removed]",
      "text/plain": [
       "<Figure size 432x288 with 1 Axes>"
      ]
     },
     "metadata": {
      "needs_background": "light"
     },
     "output_type": "display_data"
    }
   ],
   "source": [
    "plt.plot(x, x_imag, linestyle=\"None\", marker=\"o\", color=\"r\")\n",
    "\n",
    "plot_1_to_1_from_x(x=x)\n",
    "\n",
    "plt.show()"
   ]
  },
  {
   "cell_type": "markdown",
   "metadata": {
    "Collapsed": "false"
   },
   "source": [
    "$\\textbf{Matrix vs Pylops Formalism:}$\n",
    "\n",
    "Let's compare the solutions we get from each of the following systems\n",
    "\n",
    "$\\left( \\tilde{f_{\\Re}}^T \\tilde{f_{\\Re}} \\right) x_{\\Re} = \\tilde{f_{\\Re}}^T y_{\\Re}$\n",
    "\n",
    "$\\left( \\tilde{f_{\\Im}}^T \\tilde{f_{\\Im}} \\right) x_{\\Im} = \\tilde{f_{\\Im}}^T y_{\\Im}$\n",
    "\n",
    "with the $\\textbf{\"wrong\"}$ solution we get with the pylops (current) formalism from solving\n",
    "\n",
    "$\\left[ \\tilde{f_{\\Re}}^T \\tilde{f_{\\Re}} + \\tilde{f_{\\Im}}^T \\tilde{f_{\\Im}} \\right] x = \\tilde{f_{\\Re}}^T y_{\\Re} + \\tilde{f_{\\Im}}^T y_{\\Im}$\n",
    "\n",
    "which is complex."
   ]
  },
  {
   "cell_type": "code",
   "execution_count": 81,
   "metadata": {
    "Collapsed": "false"
   },
   "outputs": [
    {
     "data": {
      "image/png": "[encoded data removed]",
      "text/plain": [
       "<Figure size 432x288 with 1 Axes>"
      ]
     },
     "metadata": {
      "needs_background": "light"
     },
     "output_type": "display_data"
    }
   ],
   "source": [
    "plt.plot(x_real, x_lops.real, linestyle=\"None\", marker=\"o\", color=\"b\")\n",
    "\n",
    "plot_1_to_1_from_x(x=x)\n",
    "\n",
    "plt.show()"
   ]
  },
  {
   "cell_type": "code",
   "execution_count": 82,
   "metadata": {
    "Collapsed": "false"
   },
   "outputs": [
    {
     "data": {
      "image/png": "[encoded data removed]",
      "text/plain": [
       "<Figure size 432x288 with 1 Axes>"
      ]
     },
     "metadata": {
      "needs_background": "light"
     },
     "output_type": "display_data"
    }
   ],
   "source": [
    "plt.plot(x_imag, x_lops.imag, linestyle=\"None\", marker=\"o\", color=\"r\")\n",
    "\n",
    "plot_1_to_1_from_x(x=x)\n",
    "\n",
    "plt.show()"
   ]
  },
  {
   "cell_type": "markdown",
   "metadata": {
    "Collapsed": "false"
   },
   "source": [
    "$\\textbf{Matrix vs Pylops Formalism:}$\n",
    "\n",
    "Let's compare the $\\textbf{\"true\"}$ solution we get from solving the system\n",
    "\n",
    "$\\left[ \\tilde{f_{\\Re}}^T \\tilde{f_{\\Re}} + \\tilde{f_{\\Im}}^T \\tilde{f_{\\Im}} \\right] x = \\tilde{f_{\\Re}}^T y_{\\Re} + \\tilde{f_{\\Im}}^T y_{\\Im}$\n"
   ]
  },
  {
   "cell_type": "code",
   "execution_count": 96,
   "metadata": {
    "Collapsed": "false"
   },
   "outputs": [
    {
     "data": {
      "image/png": "[encoded data removed]",
      "text/plain": [
       "<Figure size 432x288 with 1 Axes>"
      ]
     },
     "metadata": {
      "needs_background": "light"
     },
     "output_type": "display_data"
    }
   ],
   "source": [
    "plt.figure()\n",
    "plt.plot(x, x_lops.real, linestyle=\"None\", marker=\"o\", color=\"b\")\n",
    "plt.plot(x, x_lops.imag, linestyle=\"None\", marker=\"o\", color=\"r\")\n",
    "plt.plot(x, x_lops_with_real_and_imag_Ops, linestyle=\"None\", marker=\"s\", color=\"g\")\n",
    "\n",
    "plot_1_to_1_from_x(x=x)\n",
    "\n",
    "plt.show()"
   ]
  },
  {
   "cell_type": "code",
   "execution_count": null,
   "metadata": {
    "Collapsed": "false"
   },
   "outputs": [],
   "source": []
  }
 ],
 "metadata": {
  "kernelspec": {
   "display_name": "Python 3",
   "language": "python",
   "name": "python3"
  },
  "language_info": {
   "codemirror_mode": {
    "name": "ipython",
    "version": 3
   },
   "file_extension": ".py",
   "mimetype": "text/x-python",
   "name": "python",
   "nbconvert_exporter": "python",
   "pygments_lexer": "ipython3",
   "version": "3.7.4"
  }
 },
 "nbformat": 4,
 "nbformat_minor": 4
}
