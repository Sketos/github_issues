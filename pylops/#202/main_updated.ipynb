{
 "cells": [
  {
   "cell_type": "code",
   "execution_count": 1,
   "metadata": {
    "Collapsed": "false"
   },
   "outputs": [],
   "source": [
    "import numpy as np\n",
    "import matplotlib.pyplot as plt\n",
    "\n",
    "from mpl_toolkits.axes_grid1 import make_axes_locatable\n",
    "\n",
    "from scipy import sparse\n",
    "\n",
    "from pynufft import NUFFT_cpu\n",
    "\n",
    "import pylops"
   ]
  },
  {
   "cell_type": "code",
   "execution_count": null,
   "metadata": {
    "Collapsed": "false"
   },
   "outputs": [],
   "source": []
  },
  {
   "cell_type": "markdown",
   "metadata": {
    "Collapsed": "false"
   },
   "source": [
    "$\\left[ \\left(\\tilde{f_{\\Re}}^T \\tilde{f_{\\Re}} + \\tilde{f_{\\Im}}^T \\tilde{f_{\\Im}} \\right) + R^T R \\right] x = \\tilde{f_{\\Re}}^T y_{\\Re} + \\tilde{f_{\\Im}}^T y_{\\Im}$"
   ]
  },
  {
   "cell_type": "markdown",
   "metadata": {
    "Collapsed": "false"
   },
   "source": [
    "# Pylops"
   ]
  },
  {
   "cell_type": "code",
   "execution_count": null,
   "metadata": {
    "Collapsed": "false"
   },
   "outputs": [],
   "source": []
  },
  {
   "cell_type": "code",
   "execution_count": 2,
   "metadata": {
    "Collapsed": "false"
   },
   "outputs": [],
   "source": [
    "def NormalEquationsInversion(\n",
    "    Op, \n",
    "    data, \n",
    "    WOp=None,\n",
    "    HOp=None,\n",
    "    returninfo=False, \n",
    "    **kwargs_cg\n",
    "):\n",
    "\n",
    "    OpH = Op.H\n",
    "\n",
    "    if WOp is not None:\n",
    "        Op_normal = OpH * WOp * Op\n",
    "    else:\n",
    "        Op_normal = OpH * Op\n",
    "    \n",
    "    if HOp is not None:\n",
    "        Op_normal += HOp\n",
    "\n",
    "    if WOp is not None:\n",
    "        y_normal = OpH * WOp * data\n",
    "    else:\n",
    "        y_normal = OpH * data\n",
    "\n",
    "    xinv, istop = sparse.linalg.cg(Op_normal, y_normal, **kwargs_cg)\n",
    "\n",
    "    if returninfo:\n",
    "        return xinv, istop\n",
    "    else:\n",
    "        return xinv"
   ]
  },
  {
   "cell_type": "markdown",
   "metadata": {
    "Collapsed": "false"
   },
   "source": [
    "## Operators"
   ]
  },
  {
   "cell_type": "code",
   "execution_count": 3,
   "metadata": {
    "Collapsed": "false"
   },
   "outputs": [],
   "source": [
    "class D_Op(NUFFT_cpu, pylops.LinearOperator):\n",
    "    def __init__(self, uv, shape_2d, reshaping_x=True):\n",
    "        super(D_Op, self).__init__()\n",
    "\n",
    "        self.u, self.v = uv.T\n",
    "\n",
    "        om = np.array([self.u, self.v]).T\n",
    "        \n",
    "        self.shape_2d = shape_2d\n",
    "\n",
    "        self.plan(\n",
    "            om=om,\n",
    "            Nd=self.shape_2d,\n",
    "            Kd=(\n",
    "                int(2 * self.shape_2d[0]),\n",
    "                int(2 * self.shape_2d[1])\n",
    "            ),\n",
    "            Jd=(6, 6),\n",
    "        )\n",
    "\n",
    "        n_p = int(self.shape_2d[0] * self.shape_2d[1])\n",
    "\n",
    "        self.shape = (uv.shape[0], n_p)\n",
    "        self.dtype = \"complex128\"\n",
    "        self.explicit = False\n",
    "        \n",
    "        self.reshaping_x = reshaping_x\n",
    "        \n",
    "    def reshape_x(self, x):\n",
    "        return x.reshape(self.shape_2d)\n",
    "\n",
    "    def forward_lop(self, x):\n",
    "        if self.reshaping_x:\n",
    "            x = self.reshape_x(x=x)\n",
    "            \n",
    "        y = self.k2y(self.xx2k(self.x2xx(x)))\n",
    "\n",
    "        return y\n",
    "\n",
    "    def adjoint_lop(self, y):\n",
    "\n",
    "        x = self.xx2x(self.k2xx(self.y2k(y)))\n",
    "\n",
    "        return x\n",
    "\n",
    "    def _matvec(self, x):\n",
    "        return self.forward_lop(x)\n",
    "\n",
    "    def _rmatvec(self, x):\n",
    "        return self.adjoint_lop(x)"
   ]
  },
  {
   "cell_type": "code",
   "execution_count": null,
   "metadata": {
    "Collapsed": "false"
   },
   "outputs": [],
   "source": []
  },
  {
   "cell_type": "code",
   "execution_count": 4,
   "metadata": {
    "Collapsed": "false"
   },
   "outputs": [],
   "source": [
    "class H_Op(pylops.LinearOperator):\n",
    "    def __init__(self, h, dtype=\"float64\"):\n",
    "\n",
    "        self.h = h\n",
    "        self.pixels = h.shape[0]\n",
    "        self.dims = self.pixels\n",
    "        self.shape = (self.pixels, self.pixels)\n",
    "        self.dtype = dtype\n",
    "        self.explicit = False\n",
    "\n",
    "    def _matvec(self, x):\n",
    "        return np.dot(self.h, x)\n",
    "\n",
    "    def _rmatvec(self, x):\n",
    "        return np.dot(self.h.T, x)"
   ]
  },
  {
   "cell_type": "markdown",
   "metadata": {
    "Collapsed": "false"
   },
   "source": [
    "# Tools"
   ]
  },
  {
   "cell_type": "code",
   "execution_count": 5,
   "metadata": {
    "Collapsed": "false"
   },
   "outputs": [],
   "source": [
    "def a_complex_from_a_real_and_a_imag(\n",
    "    a_real, \n",
    "    a_imag\n",
    "):\n",
    "    # NOTE: Convert a numpy array of shape (n, 2) to a complex array of shape (n, )\n",
    "\n",
    "    a_complex = np.stack(\n",
    "        arrays=(a_real, a_imag), axis=-1\n",
    "    )\n",
    "\n",
    "    a_complex = np.apply_along_axis(\n",
    "        lambda args: [complex(*args)], len(a_complex.shape) - 1, a_complex\n",
    "    ).astype(\"complex128\")\n",
    "\n",
    "    return np.squeeze(a_complex)"
   ]
  },
  {
   "cell_type": "code",
   "execution_count": 6,
   "metadata": {
    "Collapsed": "false"
   },
   "outputs": [],
   "source": [
    "# NOTE: Make a \"random\" sparse matrix (with 0's & 1's)\n",
    "def random_sparse_matrix(n_p, n_s):\n",
    "\n",
    "    def nonzero_to_ones(a):\n",
    "\n",
    "        a[np.where(a > 0.0)] = 1.0\n",
    "\n",
    "        return a\n",
    "\n",
    "    f_obj = sparse.random(\n",
    "        m=n_p, n=n_s\n",
    "    )\n",
    "\n",
    "    return nonzero_to_ones(\n",
    "        a=f_obj.A\n",
    "    )"
   ]
  },
  {
   "cell_type": "markdown",
   "metadata": {
    "Collapsed": "false"
   },
   "source": [
    "# Examples"
   ]
  },
  {
   "cell_type": "code",
   "execution_count": 7,
   "metadata": {
    "Collapsed": "false"
   },
   "outputs": [],
   "source": [
    "def x_for_MF(Dop, f, d_real, d_imag, WOp=None, HOp=None):\n",
    "\n",
    "    f_tilde = np.zeros(\n",
    "        shape=(Dop.shape[0], f.shape[-1]), dtype=\"complex\"\n",
    "    )\n",
    "    for i in range(f_tilde.shape[-1]):\n",
    "        f_tilde[:, i] = Dop.forward_lop(x=f[:, i])\n",
    "\n",
    "    f_tilde_real = f_tilde.real\n",
    "    f_tilde_imag = f_tilde.imag\n",
    "    \n",
    "    if WOp is not None:\n",
    "        W = WOp.todense()\n",
    "    else:\n",
    "        W = np.diag(\n",
    "            np.ones(shape=(Dop.shape[0]))\n",
    "        )\n",
    "        \n",
    "    F_real = np.dot(np.dot(f_tilde_real.T, W), f_tilde_real)\n",
    "    F_imag = np.dot(np.dot(f_tilde_imag.T, W), f_tilde_imag)\n",
    "\n",
    "    D_real = np.dot(np.dot(f_tilde_real.T, W), d_real)\n",
    "    D_imag = np.dot(np.dot(f_tilde_imag.T, W), d_imag)\n",
    "\n",
    "    F = F_real + F_imag\n",
    "    D = D_real + D_imag\n",
    "\n",
    "    if HOp is not None:\n",
    "        H = HOp.todense()\n",
    "\n",
    "        x = np.linalg.solve(F + H, D)\n",
    "    else:\n",
    "        x = np.linalg.solve(F, D)\n",
    "\n",
    "    return x\n",
    "\n",
    "\n",
    "def x_for_PF(Dop, f, d_real, d_imag, WOp=None, HOp=None):\n",
    "\n",
    "    f_lops = pylops.MatrixMult(\n",
    "        sparse.bsr_matrix(f), dtype='float64'\n",
    "    )\n",
    "\n",
    "    Op = Dop * f_lops\n",
    "\n",
    "    # NOTE:\n",
    "    Op = Op.toreal(\n",
    "        forw=False, adj=True\n",
    "    )\n",
    "\n",
    "    data = a_complex_from_a_real_and_a_imag(\n",
    "        a_real=d_real, a_imag=d_imag\n",
    "    )\n",
    "\n",
    "    x = NormalEquationsInversion(\n",
    "        Op=Op,\n",
    "        data=data,\n",
    "        WOp=WOp,\n",
    "        HOp=HOp\n",
    "    )\n",
    "\n",
    "    return x"
   ]
  },
  {
   "cell_type": "code",
   "execution_count": null,
   "metadata": {
    "Collapsed": "false"
   },
   "outputs": [],
   "source": []
  },
  {
   "cell_type": "code",
   "execution_count": 8,
   "metadata": {
    "Collapsed": "false"
   },
   "outputs": [],
   "source": [
    "# NOTE: n_v is the # of visibilities\n",
    "n_v = 100 \n",
    "\n",
    "# NOTE: Non-uniform points in the uv-space\n",
    "u = np.random.uniform(-1.0, 1.0, n_v)\n",
    "v = np.random.uniform(-1.0, 1.0, n_v)\n",
    "uv = np.stack(arrays=(u, v), axis=-1)\n",
    "\n",
    "# NOTE: n_s is the # of source-plane pixels\n",
    "n_s = 20\n",
    "\n",
    "# NOTE: \n",
    "shape_2d = (20, 20)\n",
    "\n",
    "# NOTE: n_p is the # of image-plane pixels\n",
    "n_p = int(shape_2d[0] * shape_2d[1]) \n",
    "\n",
    "# NOTE: \n",
    "f = random_sparse_matrix(\n",
    "    n_p=n_p, n_s=n_s\n",
    ")\n",
    "\n",
    "# NOTE\n",
    "Dop = D_Op(uv=uv, shape_2d=shape_2d)"
   ]
  },
  {
   "cell_type": "code",
   "execution_count": null,
   "metadata": {
    "Collapsed": "false"
   },
   "outputs": [],
   "source": []
  },
  {
   "cell_type": "code",
   "execution_count": 23,
   "metadata": {
    "Collapsed": "false"
   },
   "outputs": [
    {
     "data": {
      "image/png": "[encoded data removed]",
      "text/plain": [
       "<Figure size 864x432 with 4 Axes>"
      ]
     },
     "metadata": {
      "needs_background": "light"
     },
     "output_type": "display_data"
    }
   ],
   "source": [
    "regularization = True\n",
    "\n",
    "if regularization:\n",
    "    h_coeff = 1.0\n",
    "    h = h_coeff * np.diag(np.ones(n_s, ))\n",
    "\n",
    "    HOp = H_Op(h=h, dtype=\"float64\")\n",
    "    \n",
    "    # NOTE: This does not fix things ...\n",
    "    #HOp = HOp.toreal(forw=False, adj=True)\n",
    "else:\n",
    "    HOp = None\n",
    "\n",
    "y_real = np.random.normal(0.0, 1.0, size=(n_v, ))\n",
    "y_imag = np.random.normal(0.0, 1.0, size=(n_v, ))\n",
    "\n",
    "# NOTE:\n",
    "sigma = abs(\n",
    "    np.random.normal(0.0, 1.0, size=(n_v, ))\n",
    ")\n",
    "weights = 1.0 / sigma**2.0\n",
    "\n",
    "WOp = pylops.Diagonal(diag=weights, dtype=\"float64\")\n",
    "\n",
    "_x_for_MF = x_for_MF(\n",
    "    Dop=Dop,\n",
    "    f=f,\n",
    "    d_real=y_real,\n",
    "    d_imag=y_imag,\n",
    "    WOp=WOp,\n",
    "    HOp=None\n",
    ")\n",
    "_x_for_PF = x_for_PF(\n",
    "    Dop=Dop,\n",
    "    f=f,\n",
    "    d_real=y_real,\n",
    "    d_imag=y_imag,\n",
    "    WOp=WOp,\n",
    "    HOp=None\n",
    ")\n",
    "\n",
    "_x_for_MF__with_reg = x_for_MF(\n",
    "    Dop=Dop,\n",
    "    f=f,\n",
    "    d_real=y_real,\n",
    "    d_imag=y_imag,\n",
    "    WOp=WOp,\n",
    "    HOp=HOp\n",
    ")\n",
    "_x_for_PF__with_reg = x_for_PF(\n",
    "    Dop=Dop,\n",
    "    f=f,\n",
    "    d_real=y_real,\n",
    "    d_imag=y_imag,\n",
    "    WOp=WOp,\n",
    "    HOp=HOp\n",
    ")\n",
    "\n",
    "nrows=2\n",
    "ncols=2\n",
    "figure, axes = plt.subplots(nrows=nrows, ncols=ncols, figsize=(12, 6))\n",
    "axes[0, 0].plot(_x_for_MF, _x_for_PF.real, linestyle=\"None\", marker=\"*\", markersize=5, color=\"b\", label=r\"$x_{\\Re}$ (without reg)\")\n",
    "axes[0, 1].plot(_x_for_MF, _x_for_PF.imag, linestyle=\"None\", marker=\"*\", markersize=5, color=\"r\", label=r\"$x_{\\Im}$ (without reg)\")\n",
    "axes[1, 0].plot(_x_for_MF__with_reg, _x_for_PF__with_reg.real, linestyle=\"None\", marker=\"*\", markersize=5, color=\"b\", label=r\"$x_{\\Re}$ (with reg)\")\n",
    "axes[1, 1].plot(_x_for_MF__with_reg, _x_for_PF__with_reg.imag, linestyle=\"None\", marker=\"*\", markersize=5, color=\"r\", label=r\"$x_{\\Im}$ (with reg)\")\n",
    "\n",
    "x_min = np.min([np.min(_x_for_MF), np.min(_x_for_MF__with_reg)])\n",
    "x_max = np.max([np.max(_x_for_MF), np.max(_x_for_MF__with_reg)])\n",
    "\n",
    "for i in range(nrows):\n",
    "    for j in range(ncols):\n",
    "        axes[i, j].legend()\n",
    "\n",
    "        axes[i, j].plot(\n",
    "            np.linspace(x_min, x_max, 10),\n",
    "            np.linspace(x_min, x_max, 10),\n",
    "            linestyle=\"--\",\n",
    "            color=\"black\"\n",
    "        )\n",
    "\n",
    "plt.show()"
   ]
  },
  {
   "cell_type": "markdown",
   "metadata": {
    "Collapsed": "true"
   },
   "source": [
    "# Tests"
   ]
  },
  {
   "cell_type": "markdown",
   "metadata": {
    "Collapsed": "false"
   },
   "source": [
    "## test 1"
   ]
  },
  {
   "cell_type": "code",
   "execution_count": 12,
   "metadata": {
    "Collapsed": "false"
   },
   "outputs": [],
   "source": [
    "def calculate_f_tilde(f, Dop, shape):\n",
    "    f_tilde = np.zeros(\n",
    "        shape=shape, dtype=\"complex\"\n",
    "    )\n",
    "    for i in range(f.shape[-1]):\n",
    "        f_tilde[:, i] = Dop.forward_lop(x=f[:, i])\n",
    "        \n",
    "    return f_tilde\n",
    "    "
   ]
  },
  {
   "cell_type": "markdown",
   "metadata": {
    "Collapsed": "false"
   },
   "source": [
    "**...**"
   ]
  },
  {
   "cell_type": "code",
   "execution_count": 13,
   "metadata": {
    "Collapsed": "false"
   },
   "outputs": [],
   "source": [
    "n_v = 100 # NOTE: n_v is the # of visibilities\n",
    "\n",
    "# NOTE: Non-uniform points in the uv-space\n",
    "u = np.random.uniform(-1.0, 1.0, n_v)\n",
    "v = np.random.uniform(-1.0, 1.0, n_v)\n",
    "\n",
    "uv = np.stack(\n",
    "    arrays=(u, v), axis=-1\n",
    ")\n",
    "\n",
    "# NOTE: n_s is the # of source-plane pixels\n",
    "n_s = 20\n",
    "\n",
    "shape_2d = (20, 20)\n",
    "\n",
    "# NOTE: n_p is the # of image-plane pixels\n",
    "n_p = int(shape_2d[0] * shape_2d[1]) "
   ]
  },
  {
   "cell_type": "markdown",
   "metadata": {
    "Collapsed": "false"
   },
   "source": [
    "**...**"
   ]
  },
  {
   "cell_type": "code",
   "execution_count": 14,
   "metadata": {
    "Collapsed": "false"
   },
   "outputs": [],
   "source": [
    "f = random_sparse_matrix(\n",
    "    n_p=n_p, n_s=n_s\n",
    ")"
   ]
  },
  {
   "cell_type": "markdown",
   "metadata": {
    "Collapsed": "false"
   },
   "source": [
    "**...**"
   ]
  },
  {
   "cell_type": "code",
   "execution_count": 15,
   "metadata": {
    "Collapsed": "false"
   },
   "outputs": [],
   "source": [
    "Dop = D_Op(\n",
    "    uv=uv, shape_2d=shape_2d\n",
    ")"
   ]
  },
  {
   "cell_type": "markdown",
   "metadata": {
    "Collapsed": "false"
   },
   "source": [
    "**...**"
   ]
  },
  {
   "cell_type": "code",
   "execution_count": 16,
   "metadata": {
    "Collapsed": "false"
   },
   "outputs": [],
   "source": [
    "# ------------------ #\n",
    "# Matrix Formalism\n",
    "# ------------------ #\n",
    "f_tilde = calculate_f_tilde(\n",
    "    f=f, Dop=Dop, shape=(n_v, n_s)\n",
    ")\n",
    "\n",
    "# ------------------ #\n",
    "# Pylops Formalism\n",
    "# ------------------ #\n",
    "f_lops = pylops.MatrixMult(\n",
    "    sparse.bsr_matrix(f), dtype='float64'\n",
    ")\n",
    "\n",
    "Op = Dop * f_lops\n",
    "\n",
    "# NOTE: \n",
    "Op = Op.toreal(\n",
    "    forw=False, adj=True\n",
    ")"
   ]
  },
  {
   "cell_type": "code",
   "execution_count": null,
   "metadata": {
    "Collapsed": "false"
   },
   "outputs": [],
   "source": []
  },
  {
   "cell_type": "code",
   "execution_count": null,
   "metadata": {
    "Collapsed": "false"
   },
   "outputs": [],
   "source": []
  },
  {
   "cell_type": "markdown",
   "metadata": {
    "Collapsed": "false"
   },
   "source": [
    "**forward**"
   ]
  },
  {
   "cell_type": "code",
   "execution_count": 17,
   "metadata": {
    "Collapsed": "false"
   },
   "outputs": [
    {
     "data": {
      "image/png": "[encoded data removed]",
      "text/plain": [
       "<Figure size 864x432 with 2 Axes>"
      ]
     },
     "metadata": {
      "needs_background": "light"
     },
     "output_type": "display_data"
    }
   ],
   "source": [
    "x = np.random.normal(0.0, 1.0, size=(n_s, ))\n",
    "\n",
    "# ------------------ #\n",
    "# Matrix Formalism\n",
    "# ------------------ #\n",
    "y_MF = f_tilde @ x\n",
    "\n",
    "# ------------------ #\n",
    "# Pylops Formalism\n",
    "# ------------------ #\n",
    "y_PF = Op @ x\n",
    "\n",
    "# ------------------ #\n",
    "# Visualization\n",
    "# ------------------ #\n",
    "figure, axes = plt.subplots(\n",
    "    nrows=1, ncols=2, figsize=(12, 6)\n",
    ")\n",
    "axes[0].plot(\n",
    "    y_MF.real, y_PF.real, linestyle=\"None\", marker=\"o\", color=\"b\"\n",
    ")\n",
    "axes[1].plot(\n",
    "    y_MF.imag, y_PF.imag, linestyle=\"None\", marker=\"o\", color=\"r\"\n",
    ")\n",
    "\n",
    "x_min_real = np.min([np.min(y_MF.real), np.min(y_PF.real)])\n",
    "x_max_real = np.max([np.max(y_MF.real), np.max(y_PF.real)])\n",
    "\n",
    "x_min_imag = np.min([np.min(y_MF.imag), np.min(y_PF.imag)])\n",
    "x_max_imag = np.max([np.max(y_MF.imag), np.max(y_PF.imag)])\n",
    "\n",
    "axes[0].plot(\n",
    "    np.linspace(x_min_real, x_max_real, 10),\n",
    "    np.linspace(x_min_real, x_max_real, 10),\n",
    "    linestyle=\"--\",\n",
    "    color=\"black\"\n",
    ")\n",
    "axes[1].plot(\n",
    "    np.linspace(x_min_imag, x_max_imag, 10),\n",
    "    np.linspace(x_min_imag, x_max_imag, 10),\n",
    "    linestyle=\"--\",\n",
    "    color=\"black\"\n",
    ")\n",
    "\n",
    "plt.show()"
   ]
  },
  {
   "cell_type": "markdown",
   "metadata": {
    "Collapsed": "false"
   },
   "source": [
    "**adjoint**"
   ]
  },
  {
   "cell_type": "code",
   "execution_count": null,
   "metadata": {
    "Collapsed": "false"
   },
   "outputs": [],
   "source": []
  },
  {
   "cell_type": "markdown",
   "metadata": {
    "Collapsed": "false"
   },
   "source": [
    "**inverse**"
   ]
  },
  {
   "cell_type": "code",
   "execution_count": 18,
   "metadata": {
    "Collapsed": "false"
   },
   "outputs": [
    {
     "data": {
      "image/png": "[encoded data removed]",
      "text/plain": [
       "<Figure size 864x432 with 2 Axes>"
      ]
     },
     "metadata": {
      "needs_background": "light"
     },
     "output_type": "display_data"
    }
   ],
   "source": [
    "# ------------------ #\n",
    "# Matrix Formalism\n",
    "# ------------------ #\n",
    "_x_MF = np.linalg.inv(f_tilde.real.T @ f_tilde.real + f_tilde.imag.T @ f_tilde.imag) @ (f_tilde.real.T @ y_MF.real + f_tilde.imag.T @ y_MF.imag)\n",
    "\n",
    "# ------------------ #\n",
    "# Pylops Formalism\n",
    "# ------------------ #\n",
    "_x_PF = Op.div(y_PF)\n",
    "\n",
    "# ------------------ #\n",
    "# Visualization\n",
    "# ------------------ #\n",
    "figure, axes = plt.subplots(\n",
    "    nrows=1, ncols=2, figsize=(12, 6)\n",
    ")\n",
    "axes[0].plot(\n",
    "    x, _x_MF, linestyle=\"None\", marker=\"o\", color=\"b\"\n",
    ")\n",
    "axes[1].plot(\n",
    "    x, _x_PF, linestyle=\"None\", marker=\"o\", color=\"r\"\n",
    ")\n",
    "\n",
    "x_min_MF = np.min([np.min(x), np.min(_x_MF)])\n",
    "x_max_MF = np.max([np.max(x), np.max(_x_MF)])\n",
    "x_min_PF = np.min([np.min(x), np.min(_x_PF)])\n",
    "x_max_PF = np.max([np.max(x), np.max(_x_PF)])\n",
    "\n",
    "axes[0].plot(\n",
    "    np.linspace(x_min_MF, x_max_MF, 10),\n",
    "    np.linspace(x_min_MF, x_max_MF, 10),\n",
    "    linestyle=\"--\",\n",
    "    color=\"black\"\n",
    ")\n",
    "axes[1].plot(\n",
    "    np.linspace(x_min_PF, x_max_PF, 10),\n",
    "    np.linspace(x_min_PF, x_max_PF, 10),\n",
    "    linestyle=\"--\",\n",
    "    color=\"black\"\n",
    ")\n",
    "\n",
    "plt.show()"
   ]
  },
  {
   "cell_type": "code",
   "execution_count": null,
   "metadata": {
    "Collapsed": "false"
   },
   "outputs": [],
   "source": []
  },
  {
   "cell_type": "code",
   "execution_count": null,
   "metadata": {
    "Collapsed": "false"
   },
   "outputs": [],
   "source": []
  }
 ],
 "metadata": {
  "kernelspec": {
   "display_name": "Python 3",
   "language": "python",
   "name": "python3"
  },
  "language_info": {
   "codemirror_mode": {
    "name": "ipython",
    "version": 3
   },
   "file_extension": ".py",
   "mimetype": "text/x-python",
   "name": "python",
   "nbconvert_exporter": "python",
   "pygments_lexer": "ipython3",
   "version": "3.7.4"
  }
 },
 "nbformat": 4,
 "nbformat_minor": 4
}
